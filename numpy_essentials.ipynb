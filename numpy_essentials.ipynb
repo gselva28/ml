{
  "nbformat": 4,
  "nbformat_minor": 0,
  "metadata": {
    "colab": {
      "name": "numpy essentials.ipynb",
      "provenance": [],
      "toc_visible": true,
      "authorship_tag": "ABX9TyOx1W7KJdfK5rpU6K2yEQ52",
      "include_colab_link": true
    },
    "kernelspec": {
      "name": "python3",
      "display_name": "Python 3"
    }
  },
  "cells": [
    {
      "cell_type": "markdown",
      "metadata": {
        "id": "view-in-github",
        "colab_type": "text"
      },
      "source": [
        "<a href=\"https://colab.research.google.com/github/gselva28/ml/blob/main/numpy_essentials.ipynb\" target=\"_parent\"><img src=\"https://colab.research.google.com/assets/colab-badge.svg\" alt=\"Open In Colab\"/></a>"
      ]
    },
    {
      "cell_type": "code",
      "metadata": {
        "id": "ufs7rAzTFFyn"
      },
      "source": [
        "import numpy as np"
      ],
      "execution_count": null,
      "outputs": []
    },
    {
      "cell_type": "markdown",
      "metadata": {
        "id": "Mc4mHWlPSa0g"
      },
      "source": [
        "\r\n",
        "\r\n",
        "# zeros\r\n",
        "\r\n",
        "here the zeros takes the input as a integer or a tuple of integers."
      ]
    },
    {
      "cell_type": "code",
      "metadata": {
        "colab": {
          "base_uri": "https://localhost:8080/"
        },
        "id": "ZtBKkgTqFMr3",
        "outputId": "c42182b7-6553-4f51-bd99-3c53f8ece41e"
      },
      "source": [
        "a = np.zeros((3, 3))\r\n",
        "print(a)"
      ],
      "execution_count": null,
      "outputs": [
        {
          "output_type": "stream",
          "text": [
            "[[0. 0. 0.]\n",
            " [0. 0. 0.]\n",
            " [0. 0. 0.]]\n"
          ],
          "name": "stdout"
        }
      ]
    },
    {
      "cell_type": "markdown",
      "metadata": {
        "id": "hK6XH74HSr3G"
      },
      "source": [
        "# ones\r\n",
        "\r\n",
        "used to create a matrix of value 1\r\n"
      ]
    },
    {
      "cell_type": "code",
      "metadata": {
        "colab": {
          "base_uri": "https://localhost:8080/"
        },
        "id": "iQpGOqA1nmIi",
        "outputId": "ae04fa0c-7926-4274-ab45-b23d05fcf0be"
      },
      "source": [
        "b = np.ones((3, 3))\r\n",
        "b"
      ],
      "execution_count": null,
      "outputs": [
        {
          "output_type": "execute_result",
          "data": {
            "text/plain": [
              "array([[1., 1., 1.],\n",
              "       [1., 1., 1.],\n",
              "       [1., 1., 1.]])"
            ]
          },
          "metadata": {
            "tags": []
          },
          "execution_count": 3
        }
      ]
    },
    {
      "cell_type": "markdown",
      "metadata": {
        "id": "K09DODDkS5cy"
      },
      "source": [
        "# Range and Space"
      ]
    },
    {
      "cell_type": "markdown",
      "metadata": {
        "id": "kRSFqHmEn6nd"
      },
      "source": [
        "**arange** - used to create the numbers within that range"
      ]
    },
    {
      "cell_type": "code",
      "metadata": {
        "colab": {
          "base_uri": "https://localhost:8080/"
        },
        "id": "M84kDTo8oHTP",
        "outputId": "25d76dc2-df33-48eb-fc7d-2ac3a91e3877"
      },
      "source": [
        "np.arange(1, 10)"
      ],
      "execution_count": null,
      "outputs": [
        {
          "output_type": "execute_result",
          "data": {
            "text/plain": [
              "array([1, 2, 3, 4, 5, 6, 7, 8, 9])"
            ]
          },
          "metadata": {
            "tags": []
          },
          "execution_count": 4
        }
      ]
    },
    {
      "cell_type": "code",
      "metadata": {
        "colab": {
          "base_uri": "https://localhost:8080/"
        },
        "id": "5wJnK52UoMmZ",
        "outputId": "9565e1a2-6b5b-4ff5-c893-8c0fb598203d"
      },
      "source": [
        "np.arange(10, 1, -1) "
      ],
      "execution_count": null,
      "outputs": [
        {
          "output_type": "execute_result",
          "data": {
            "text/plain": [
              "array([10,  9,  8,  7,  6,  5,  4,  3,  2])"
            ]
          },
          "metadata": {
            "tags": []
          },
          "execution_count": 5
        }
      ]
    },
    {
      "cell_type": "markdown",
      "metadata": {
        "id": "jPwTzv3Eol7d"
      },
      "source": [
        "**linspace(start, stop, num)**\r\n",
        "\r\n",
        "The num is used to define the number of numbers inbetween need to be printed"
      ]
    },
    {
      "cell_type": "code",
      "metadata": {
        "colab": {
          "base_uri": "https://localhost:8080/"
        },
        "id": "mSuTde4qoRoo",
        "outputId": "2b55d1a0-67f1-49e8-e093-c6136a4e79ca"
      },
      "source": [
        "np.linspace(0, 10, 11)"
      ],
      "execution_count": null,
      "outputs": [
        {
          "output_type": "execute_result",
          "data": {
            "text/plain": [
              "array([ 0.,  1.,  2.,  3.,  4.,  5.,  6.,  7.,  8.,  9., 10.])"
            ]
          },
          "metadata": {
            "tags": []
          },
          "execution_count": 6
        }
      ]
    },
    {
      "cell_type": "code",
      "metadata": {
        "colab": {
          "base_uri": "https://localhost:8080/"
        },
        "id": "_51SaeXUo3bS",
        "outputId": "271cbccb-9bc9-4af1-caa4-32512725ebb1"
      },
      "source": [
        "np.linspace(0, 5, 11)"
      ],
      "execution_count": null,
      "outputs": [
        {
          "output_type": "execute_result",
          "data": {
            "text/plain": [
              "array([0. , 0.5, 1. , 1.5, 2. , 2.5, 3. , 3.5, 4. , 4.5, 5. ])"
            ]
          },
          "metadata": {
            "tags": []
          },
          "execution_count": 7
        }
      ]
    },
    {
      "cell_type": "markdown",
      "metadata": {
        "id": "l-d-y6PEpbFN"
      },
      "source": [
        "**logspace(start, stop, num)**\r\n",
        "\r\n",
        "here the start and stop values are base ** start and base **stop \r\n"
      ]
    },
    {
      "cell_type": "code",
      "metadata": {
        "colab": {
          "base_uri": "https://localhost:8080/"
        },
        "id": "QQM_DbBZtX2B",
        "outputId": "79316746-3a5a-4fa1-80c2-135e2740ee1c"
      },
      "source": [
        "np.logspace(0, 5, 11)\r\n",
        "#the previous output value is the power of the base 10."
      ],
      "execution_count": null,
      "outputs": [
        {
          "output_type": "execute_result",
          "data": {
            "text/plain": [
              "array([1.00000000e+00, 3.16227766e+00, 1.00000000e+01, 3.16227766e+01,\n",
              "       1.00000000e+02, 3.16227766e+02, 1.00000000e+03, 3.16227766e+03,\n",
              "       1.00000000e+04, 3.16227766e+04, 1.00000000e+05])"
            ]
          },
          "metadata": {
            "tags": []
          },
          "execution_count": 8
        }
      ]
    },
    {
      "cell_type": "markdown",
      "metadata": {
        "id": "PgWlrM_sTAVo"
      },
      "source": [
        "# Random"
      ]
    },
    {
      "cell_type": "markdown",
      "metadata": {
        "id": "17-SpPUNzp3a"
      },
      "source": [
        "**random.rand()**\r\n",
        "\r\n",
        "used to create random numbers between 0 and 1. The input is the size of the matrix or vector.\r\n",
        "\r\n",
        "\r\n",
        "*  first value is the no of sets inside the array \r\n",
        "*  \r\n",
        "second value is the no of rows in each set\r\n",
        "\r\n",
        "*  third value is the no of columns in each set\r\n",
        "\r\n",
        "\r\n",
        "\r\n"
      ]
    },
    {
      "cell_type": "code",
      "metadata": {
        "colab": {
          "base_uri": "https://localhost:8080/"
        },
        "id": "KoWo7uIUtqfV",
        "outputId": "93b7b0bc-4ebd-4b80-90bb-e17079c31ffc"
      },
      "source": [
        "np.random.rand(2, 2, 2)"
      ],
      "execution_count": null,
      "outputs": [
        {
          "output_type": "execute_result",
          "data": {
            "text/plain": [
              "array([[[0.3665391 , 0.5659157 ],\n",
              "        [0.12961223, 0.88171636]],\n",
              "\n",
              "       [[0.19388529, 0.82451779],\n",
              "        [0.91619638, 0.45402116]]])"
            ]
          },
          "metadata": {
            "tags": []
          },
          "execution_count": 9
        }
      ]
    },
    {
      "cell_type": "code",
      "metadata": {
        "colab": {
          "base_uri": "https://localhost:8080/"
        },
        "id": "Lz0tNCyOz8EA",
        "outputId": "0e7163ab-9196-4c4c-fecb-3ec656a99103"
      },
      "source": [
        "np.random.rand(3, 4, 2)"
      ],
      "execution_count": null,
      "outputs": [
        {
          "output_type": "execute_result",
          "data": {
            "text/plain": [
              "array([[[0.98326568, 0.32435864],\n",
              "        [0.41648384, 0.72074176],\n",
              "        [0.92228306, 0.333526  ],\n",
              "        [0.49591207, 0.89254739]],\n",
              "\n",
              "       [[0.30781759, 0.91235655],\n",
              "        [0.94634854, 0.732055  ],\n",
              "        [0.85175889, 0.8366639 ],\n",
              "        [0.55302569, 0.89377506]],\n",
              "\n",
              "       [[0.80015757, 0.49447698],\n",
              "        [0.83769813, 0.63323314],\n",
              "        [0.10012889, 0.7365098 ],\n",
              "        [0.25095783, 0.39344136]]])"
            ]
          },
          "metadata": {
            "tags": []
          },
          "execution_count": 10
        }
      ]
    },
    {
      "cell_type": "markdown",
      "metadata": {
        "id": "1IVX-Ak82C9a"
      },
      "source": [
        "**random.int( ) and accessing the data**\r\n",
        "\r\n",
        "used to get the random integer with the defined sized."
      ]
    },
    {
      "cell_type": "code",
      "metadata": {
        "colab": {
          "base_uri": "https://localhost:8080/"
        },
        "id": "q7GCI8E61S09",
        "outputId": "11115d02-eb10-466a-9b13-02ca6459ae18"
      },
      "source": [
        "c = np.random.randint(0, 10, size=(4, 4))\r\n",
        "print(c)"
      ],
      "execution_count": null,
      "outputs": [
        {
          "output_type": "stream",
          "text": [
            "[[1 1 6 1]\n",
            " [2 3 8 5]\n",
            " [0 1 5 0]\n",
            " [3 2 6 6]]\n"
          ],
          "name": "stdout"
        }
      ]
    },
    {
      "cell_type": "code",
      "metadata": {
        "colab": {
          "base_uri": "https://localhost:8080/"
        },
        "id": "NfowJdwD2sX5",
        "outputId": "0baadde0-8bd2-402a-9e1b-e744dc1ad707"
      },
      "source": [
        "print(f\"The answer of c[:, :] is \\n\", c[:, :])\r\n",
        "print(f\"The answer of c[:, 1: 3] is \\n\", c[:, 1: 3])\r\n",
        "print(f\"The answer of c[:, 1] is \\n\", c[:, 1])\r\n",
        "print(f\"The answer of c[1, :] is \\n\", c[1, :])\r\n",
        "print(f\"The answer of c[1:3 , 1:3] is \\n\", c[1:3, 1:3]) \r\n",
        "#1:3 at row split the big matrix into the 2 x 4 matrix then the second 1: 3 is used to access the column elements of the new matrix."
      ],
      "execution_count": null,
      "outputs": [
        {
          "output_type": "stream",
          "text": [
            "The answer of c[:, :] is \n",
            " [[1 1 6 1]\n",
            " [2 3 8 5]\n",
            " [0 1 5 0]\n",
            " [3 2 6 6]]\n",
            "The answer of c[:, 1: 3] is \n",
            " [[1 6]\n",
            " [3 8]\n",
            " [1 5]\n",
            " [2 6]]\n",
            "The answer of c[:, 1] is \n",
            " [1 3 1 2]\n",
            "The answer of c[1, :] is \n",
            " [2 3 8 5]\n",
            "The answer of c[1:3 , 1:3] is \n",
            " [[3 8]\n",
            " [1 5]]\n"
          ],
          "name": "stdout"
        }
      ]
    },
    {
      "cell_type": "code",
      "metadata": {
        "colab": {
          "base_uri": "https://localhost:8080/"
        },
        "id": "_4twujj9GM-F",
        "outputId": "ad097f1a-b5f9-4d48-def2-b9d56da9f579"
      },
      "source": [
        "g = np.random.randint(1, 100, size=(6, 6))\r\n",
        "g"
      ],
      "execution_count": null,
      "outputs": [
        {
          "output_type": "execute_result",
          "data": {
            "text/plain": [
              "array([[68, 36, 67, 69, 60, 83],\n",
              "       [43, 68, 91, 60, 34, 45],\n",
              "       [15, 86, 26,  9, 68, 36],\n",
              "       [67, 72, 71, 77, 87, 89],\n",
              "       [61, 56,  6, 17, 81, 59],\n",
              "       [36, 93, 13, 81, 20, 36]])"
            ]
          },
          "metadata": {
            "tags": []
          },
          "execution_count": 63
        }
      ]
    },
    {
      "cell_type": "code",
      "metadata": {
        "colab": {
          "base_uri": "https://localhost:8080/"
        },
        "id": "Cf6DOWG0GU8_",
        "outputId": "11008940-3a79-4261-823a-a0efa683d696"
      },
      "source": [
        "np.sum(g, axis = 0) #vertical"
      ],
      "execution_count": null,
      "outputs": [
        {
          "output_type": "execute_result",
          "data": {
            "text/plain": [
              "array([290, 411, 274, 313, 350, 348])"
            ]
          },
          "metadata": {
            "tags": []
          },
          "execution_count": 64
        }
      ]
    },
    {
      "cell_type": "code",
      "metadata": {
        "colab": {
          "base_uri": "https://localhost:8080/"
        },
        "id": "znAgdzirGvkY",
        "outputId": "f1fab7c2-8778-4dea-aa55-3b8e464a46cd"
      },
      "source": [
        "np.sum(g, axis = 1)"
      ],
      "execution_count": null,
      "outputs": [
        {
          "output_type": "execute_result",
          "data": {
            "text/plain": [
              "array([383, 341, 240, 463, 280, 279])"
            ]
          },
          "metadata": {
            "tags": []
          },
          "execution_count": 65
        }
      ]
    },
    {
      "cell_type": "code",
      "metadata": {
        "colab": {
          "base_uri": "https://localhost:8080/"
        },
        "id": "7ftx88-PG090",
        "outputId": "2e8fcb50-1fe3-4108-a08e-a7fddb7d2ea3"
      },
      "source": [
        "np.sum(g)"
      ],
      "execution_count": null,
      "outputs": [
        {
          "output_type": "execute_result",
          "data": {
            "text/plain": [
              "1986"
            ]
          },
          "metadata": {
            "tags": []
          },
          "execution_count": 66
        }
      ]
    },
    {
      "cell_type": "markdown",
      "metadata": {
        "id": "YKn8UD1lTGuw"
      },
      "source": [
        "# Concatenate and Splitting"
      ]
    },
    {
      "cell_type": "markdown",
      "metadata": {
        "id": "UUlt0inUQ7rd"
      },
      "source": [
        "**Concatenation** \r\n",
        "\r\n",
        "The syntax is concatenate([var1, var2]) - axis is 0 in default which is vertical.\r\n",
        "\r\n",
        "**Spliting**\r\n",
        "\r\n",
        "The vsplit and hsplit is used to split the matrix into the number of sets given. p.s: need the allocate the same number of variables as the no of split given."
      ]
    },
    {
      "cell_type": "code",
      "metadata": {
        "colab": {
          "base_uri": "https://localhost:8080/"
        },
        "id": "NNKVuRHkRR-l",
        "outputId": "7dc474ae-a786-454b-8d2c-4e8830c744f0"
      },
      "source": [
        "d = np.concatenate((a, b))\r\n",
        "d"
      ],
      "execution_count": null,
      "outputs": [
        {
          "output_type": "execute_result",
          "data": {
            "text/plain": [
              "array([[0., 0., 0.],\n",
              "       [0., 0., 0.],\n",
              "       [0., 0., 0.],\n",
              "       [1., 1., 1.],\n",
              "       [1., 1., 1.],\n",
              "       [1., 1., 1.]])"
            ]
          },
          "metadata": {
            "tags": []
          },
          "execution_count": 20
        }
      ]
    },
    {
      "cell_type": "code",
      "metadata": {
        "colab": {
          "base_uri": "https://localhost:8080/"
        },
        "id": "rknWecwKRcI_",
        "outputId": "c6eb8fbc-78af-44f6-ebaa-a1a0352c9c73"
      },
      "source": [
        "e = np.concatenate((a, b), axis= 1)\r\n",
        "e\r\n"
      ],
      "execution_count": null,
      "outputs": [
        {
          "output_type": "execute_result",
          "data": {
            "text/plain": [
              "array([[0., 0., 0., 1., 1., 1.],\n",
              "       [0., 0., 0., 1., 1., 1.],\n",
              "       [0., 0., 0., 1., 1., 1.]])"
            ]
          },
          "metadata": {
            "tags": []
          },
          "execution_count": 31
        }
      ]
    },
    {
      "cell_type": "code",
      "metadata": {
        "colab": {
          "base_uri": "https://localhost:8080/"
        },
        "id": "VI-TVfaSRlcg",
        "outputId": "39d4ac15-102d-413a-b6c0-c506ac61b894"
      },
      "source": [
        "v = np.vstack((a, b))  #axis is 0\r\n",
        "print(v)\r\n",
        "h = np.hstack((a, b))  #axis is 1\r\n",
        "print(h)"
      ],
      "execution_count": null,
      "outputs": [
        {
          "output_type": "stream",
          "text": [
            "[[0. 0. 0.]\n",
            " [0. 0. 0.]\n",
            " [0. 0. 0.]\n",
            " [1. 1. 1.]\n",
            " [1. 1. 1.]\n",
            " [1. 1. 1.]]\n",
            "[[0. 0. 0. 1. 1. 1.]\n",
            " [0. 0. 0. 1. 1. 1.]\n",
            " [0. 0. 0. 1. 1. 1.]]\n"
          ],
          "name": "stdout"
        }
      ]
    },
    {
      "cell_type": "code",
      "metadata": {
        "colab": {
          "base_uri": "https://localhost:8080/"
        },
        "id": "ld_ZNqehT0oW",
        "outputId": "ba0bb1bf-e16a-4721-c070-d5742a2e5236"
      },
      "source": [
        "d1, d2 = np.vsplit(d, 2)\r\n",
        "print(d1)\r\n",
        "print(d2)"
      ],
      "execution_count": null,
      "outputs": [
        {
          "output_type": "stream",
          "text": [
            "[[0. 0. 0.]\n",
            " [0. 0. 0.]\n",
            " [0. 0. 0.]]\n",
            "[[1. 1. 1.]\n",
            " [1. 1. 1.]\n",
            " [1. 1. 1.]]\n"
          ],
          "name": "stdout"
        }
      ]
    },
    {
      "cell_type": "code",
      "metadata": {
        "colab": {
          "base_uri": "https://localhost:8080/"
        },
        "id": "5ZzaoO4ZUFIl",
        "outputId": "fcb9ec8f-7333-431b-e68b-6584dc757ddb"
      },
      "source": [
        "d3, d4 = np.hsplit(e, 2)\r\n",
        "print(d1)\r\n",
        "print(d2)"
      ],
      "execution_count": null,
      "outputs": [
        {
          "output_type": "stream",
          "text": [
            "[[0. 0. 0.]\n",
            " [0. 0. 0.]\n",
            " [0. 0. 0.]]\n",
            "[[1. 1. 1.]\n",
            " [1. 1. 1.]\n",
            " [1. 1. 1.]]\n"
          ],
          "name": "stdout"
        }
      ]
    },
    {
      "cell_type": "markdown",
      "metadata": {
        "id": "koPbGFt5tozj"
      },
      "source": [
        "# Size, Shape and Dimensions"
      ]
    },
    {
      "cell_type": "code",
      "metadata": {
        "colab": {
          "base_uri": "https://localhost:8080/"
        },
        "id": "uWfYHe7zt6m0",
        "outputId": "214517db-c4e0-4e4b-c09e-48c08b0a26eb"
      },
      "source": [
        "print(d)"
      ],
      "execution_count": null,
      "outputs": [
        {
          "output_type": "stream",
          "text": [
            "[[0. 0. 0.]\n",
            " [0. 0. 0.]\n",
            " [0. 0. 0.]\n",
            " [1. 1. 1.]\n",
            " [1. 1. 1.]\n",
            " [1. 1. 1.]]\n"
          ],
          "name": "stdout"
        }
      ]
    },
    {
      "cell_type": "code",
      "metadata": {
        "colab": {
          "base_uri": "https://localhost:8080/"
        },
        "id": "Oh3WgucAtvtU",
        "outputId": "09065668-1624-4d3b-f4a8-8d40babf01b1"
      },
      "source": [
        "d.size"
      ],
      "execution_count": null,
      "outputs": [
        {
          "output_type": "execute_result",
          "data": {
            "text/plain": [
              "18"
            ]
          },
          "metadata": {
            "tags": []
          },
          "execution_count": 33
        }
      ]
    },
    {
      "cell_type": "code",
      "metadata": {
        "colab": {
          "base_uri": "https://localhost:8080/"
        },
        "id": "9D5ulyKKuAnk",
        "outputId": "53f80f6a-7186-440b-df01-73ed7f5f5a1f"
      },
      "source": [
        "d.shape"
      ],
      "execution_count": null,
      "outputs": [
        {
          "output_type": "execute_result",
          "data": {
            "text/plain": [
              "(6, 3)"
            ]
          },
          "metadata": {
            "tags": []
          },
          "execution_count": 36
        }
      ]
    },
    {
      "cell_type": "code",
      "metadata": {
        "colab": {
          "base_uri": "https://localhost:8080/"
        },
        "id": "Y-zB3NncuCcm",
        "outputId": "add4f902-9812-4d32-dd6b-1fc265ba9782"
      },
      "source": [
        "d.ndim"
      ],
      "execution_count": null,
      "outputs": [
        {
          "output_type": "execute_result",
          "data": {
            "text/plain": [
              "2"
            ]
          },
          "metadata": {
            "tags": []
          },
          "execution_count": 38
        }
      ]
    },
    {
      "cell_type": "markdown",
      "metadata": {
        "id": "nWJCO_QYwwwR"
      },
      "source": [
        "# Reshaping\r\n",
        "\r\n",
        "\r\n",
        "\r\n",
        "*   Learning algorithms expects data in certain shape & dimension\r\n",
        "*   Using reshaping utility we can convert data into desired shape\r\n",
        "*   But, the desired transformation will also be of same size\r\n",
        "*   Adding 1 dimensions will not alter data size\r\n",
        "*    One shape dimension can be -1. In this case, the value is inferred from the length of the array and remaining dimensions.\r\n",
        "\r\n"
      ]
    },
    {
      "cell_type": "code",
      "metadata": {
        "colab": {
          "base_uri": "https://localhost:8080/"
        },
        "id": "ms9VdUyExJca",
        "outputId": "01f83a22-7210-4f0b-8284-cbb11840c0ba"
      },
      "source": [
        "f = np.array([1, 2, 3, 4, 5, 6])\r\n",
        "f"
      ],
      "execution_count": null,
      "outputs": [
        {
          "output_type": "execute_result",
          "data": {
            "text/plain": [
              "array([1, 2, 3, 4, 5, 6])"
            ]
          },
          "metadata": {
            "tags": []
          },
          "execution_count": 40
        }
      ]
    },
    {
      "cell_type": "code",
      "metadata": {
        "colab": {
          "base_uri": "https://localhost:8080/"
        },
        "id": "6P13EWMwx9Sx",
        "outputId": "b6f75148-9776-4321-ba22-b318452a7c10"
      },
      "source": [
        "f.shape"
      ],
      "execution_count": null,
      "outputs": [
        {
          "output_type": "execute_result",
          "data": {
            "text/plain": [
              "(6,)"
            ]
          },
          "metadata": {
            "tags": []
          },
          "execution_count": 41
        }
      ]
    },
    {
      "cell_type": "code",
      "metadata": {
        "colab": {
          "base_uri": "https://localhost:8080/"
        },
        "id": "NTepH-FcyAYX",
        "outputId": "fdcc2359-542b-40c6-be13-018b447acd6a"
      },
      "source": [
        "f.reshape(2, 3) #reshape(2, -1) means same which -1 is reformated value."
      ],
      "execution_count": null,
      "outputs": [
        {
          "output_type": "execute_result",
          "data": {
            "text/plain": [
              "array([[1, 2, 3],\n",
              "       [4, 5, 6]])"
            ]
          },
          "metadata": {
            "tags": []
          },
          "execution_count": 45
        }
      ]
    },
    {
      "cell_type": "markdown",
      "metadata": {
        "id": "N9c_e4W_ynRB"
      },
      "source": [
        "# Adding Dimensions\r\n",
        "\r\n",
        "Learning algorithms consume data in 2 dimensions. So here we convert 1 D to 2 D"
      ]
    },
    {
      "cell_type": "code",
      "metadata": {
        "colab": {
          "base_uri": "https://localhost:8080/"
        },
        "id": "YHj6R-X7y5aW",
        "outputId": "456d6ee7-74c4-4f54-eed4-df73248ea71f"
      },
      "source": [
        "f[:, np.newaxis]"
      ],
      "execution_count": null,
      "outputs": [
        {
          "output_type": "execute_result",
          "data": {
            "text/plain": [
              "(6, 1)"
            ]
          },
          "metadata": {
            "tags": []
          },
          "execution_count": 48
        }
      ]
    },
    {
      "cell_type": "markdown",
      "metadata": {
        "id": "X2z4nXrC4RhI"
      },
      "source": [
        "# Utility functions\r\n",
        "\r\n",
        "NumPy has a huge list of mathematical functions to make implementing machine learning algorithms very easy\r\n",
        "some major are:\r\n",
        "\r\n",
        "max, min, mean, std, cov, cumprod, all, any, dot, multiply, sqrt"
      ]
    },
    {
      "cell_type": "code",
      "metadata": {
        "colab": {
          "base_uri": "https://localhost:8080/"
        },
        "id": "8a0BDK-D4xfE",
        "outputId": "58e339c0-ddb8-435b-8a06-3975a68e3368"
      },
      "source": [
        "f.max()"
      ],
      "execution_count": null,
      "outputs": [
        {
          "output_type": "execute_result",
          "data": {
            "text/plain": [
              "6"
            ]
          },
          "metadata": {
            "tags": []
          },
          "execution_count": 49
        }
      ]
    },
    {
      "cell_type": "code",
      "metadata": {
        "colab": {
          "base_uri": "https://localhost:8080/"
        },
        "id": "B1pJIdsZ42n-",
        "outputId": "f8e6573f-18e4-4e36-e0be-a71a419ff3a9"
      },
      "source": [
        "f.min()"
      ],
      "execution_count": null,
      "outputs": [
        {
          "output_type": "execute_result",
          "data": {
            "text/plain": [
              "1"
            ]
          },
          "metadata": {
            "tags": []
          },
          "execution_count": 50
        }
      ]
    },
    {
      "cell_type": "code",
      "metadata": {
        "colab": {
          "base_uri": "https://localhost:8080/"
        },
        "id": "mhC7KQW545QC",
        "outputId": "2e9552df-4e8f-4863-898f-9c87d530266c"
      },
      "source": [
        "f.mean()"
      ],
      "execution_count": null,
      "outputs": [
        {
          "output_type": "execute_result",
          "data": {
            "text/plain": [
              "3.5"
            ]
          },
          "metadata": {
            "tags": []
          },
          "execution_count": 51
        }
      ]
    },
    {
      "cell_type": "code",
      "metadata": {
        "colab": {
          "base_uri": "https://localhost:8080/"
        },
        "id": "DENK5sjo46z9",
        "outputId": "6b59f9a5-11e2-4a28-8d4b-a12a8a4e17eb"
      },
      "source": [
        "f.std()"
      ],
      "execution_count": null,
      "outputs": [
        {
          "output_type": "execute_result",
          "data": {
            "text/plain": [
              "1.707825127659933"
            ]
          },
          "metadata": {
            "tags": []
          },
          "execution_count": 52
        }
      ]
    },
    {
      "cell_type": "code",
      "metadata": {
        "colab": {
          "base_uri": "https://localhost:8080/"
        },
        "id": "werV_W-x48d4",
        "outputId": "1bf3dfbd-40a0-43e3-b913-aa04090c25bb"
      },
      "source": [
        "np.cov(f)"
      ],
      "execution_count": null,
      "outputs": [
        {
          "output_type": "execute_result",
          "data": {
            "text/plain": [
              "array(3.5)"
            ]
          },
          "metadata": {
            "tags": []
          },
          "execution_count": 55
        }
      ]
    },
    {
      "cell_type": "code",
      "metadata": {
        "colab": {
          "base_uri": "https://localhost:8080/"
        },
        "id": "mTSFbuQV4-TI",
        "outputId": "162b72e5-32ea-4822-968a-a467201cd655"
      },
      "source": [
        "#returns the cumulative product of the given axis => 1, 1*2, 1*2*3, ...\r\n",
        "np.cumprod(f)"
      ],
      "execution_count": null,
      "outputs": [
        {
          "output_type": "execute_result",
          "data": {
            "text/plain": [
              "array([  1,   2,   6,  24, 120, 720])"
            ]
          },
          "metadata": {
            "tags": []
          },
          "execution_count": 56
        }
      ]
    },
    {
      "cell_type": "code",
      "metadata": {
        "colab": {
          "base_uri": "https://localhost:8080/"
        },
        "id": "z9epCU3BDA0r",
        "outputId": "08d07e77-8ed1-4fb7-ab8f-d8995716fb92"
      },
      "source": [
        "#Test whether all array elements along a given axis evaluate to True.\r\n",
        "np.all(f)"
      ],
      "execution_count": null,
      "outputs": [
        {
          "output_type": "execute_result",
          "data": {
            "text/plain": [
              "True"
            ]
          },
          "metadata": {
            "tags": []
          },
          "execution_count": 57
        }
      ]
    },
    {
      "cell_type": "code",
      "metadata": {
        "colab": {
          "base_uri": "https://localhost:8080/"
        },
        "id": "4ehZUA-_DO0g",
        "outputId": "efed4219-2af8-449f-c417-298f5d801379"
      },
      "source": [
        "#Test whether any array element along a given axis evaluates to True.\r\n",
        "np.any(f)"
      ],
      "execution_count": null,
      "outputs": [
        {
          "output_type": "execute_result",
          "data": {
            "text/plain": [
              "True"
            ]
          },
          "metadata": {
            "tags": []
          },
          "execution_count": 58
        }
      ]
    },
    {
      "cell_type": "code",
      "metadata": {
        "colab": {
          "base_uri": "https://localhost:8080/"
        },
        "id": "dydvfWuDEczt",
        "outputId": "24941204-f34e-4592-c4fe-ca57b19b4975"
      },
      "source": [
        "np.dot(10, 10)"
      ],
      "execution_count": null,
      "outputs": [
        {
          "output_type": "execute_result",
          "data": {
            "text/plain": [
              "100"
            ]
          },
          "metadata": {
            "tags": []
          },
          "execution_count": 59
        }
      ]
    },
    {
      "cell_type": "code",
      "metadata": {
        "colab": {
          "base_uri": "https://localhost:8080/"
        },
        "id": "SYUxHR-zE9Ty",
        "outputId": "23b0c59d-8c8b-402f-c0bc-4a1550e05bba"
      },
      "source": [
        "np.multiply(345, 2)"
      ],
      "execution_count": null,
      "outputs": [
        {
          "output_type": "execute_result",
          "data": {
            "text/plain": [
              "690"
            ]
          },
          "metadata": {
            "tags": []
          },
          "execution_count": 60
        }
      ]
    },
    {
      "cell_type": "code",
      "metadata": {
        "colab": {
          "base_uri": "https://localhost:8080/"
        },
        "id": "XbsCjIHxFhLJ",
        "outputId": "2b60484f-17e2-48e5-d62b-0db0d52413c5"
      },
      "source": [
        "np.sqrt(10)"
      ],
      "execution_count": null,
      "outputs": [
        {
          "output_type": "execute_result",
          "data": {
            "text/plain": [
              "3.1622776601683795"
            ]
          },
          "metadata": {
            "tags": []
          },
          "execution_count": 61
        }
      ]
    },
    {
      "cell_type": "markdown",
      "metadata": {
        "id": "Hrjt-v47HdDY"
      },
      "source": [
        "# Broadcasting\r\n",
        "\r\n",
        "*  Single row matrix are known as vectors.\r\n",
        "*  Broadcasting is a technique which uses NumPy does mathematical computation on data of different shapes & dimensions.\r\n",
        "*  We might need to reshape the data sometimes to enable broadcasting.\r\n",
        "\r\n",
        "![broadcasting.PNG](data:image/png;base64,iVBORw0KGgoAAAANSUhEUgAAAi4AAADyCAYAAABqKU6iAAAAAXNSR0IArs4c6QAAAARnQU1BAACxjwv8YQUAAAAJcEhZcwAAEnQAABJ0Ad5mH3gAAP+lSURBVHhe7P2FmxxHtu4L33/he853zr3nnrMP7T2w98zew+gxjsfMIEuyLMkWWGgxs2XZIouZmZkZLGZmZmY0xl2/lRnZUdlZ1VXV1S3JnevRq6zOjAyGN1esiPi/vv3mB/Md+NaY778z5ocYMWLEiBEjhuCHAhD1TmEQFUamiPI3GaLeDyPqvdSAT3z37Q8GfpF7fG9i4hIjRowYMWJEImogdxH1TmEQFUamiPI3GaLeDyPqvdSIiUuMGDFixIjxQBA1kLuIeqcwiAojU0T5mwxR74cR9V5qxMQlRowYMWLEeCCIGshdRL1TGESFkSmi/E2GqPfDiHovNWLiEiNGjBgxYjwQRA3kLqLeKQyiwsgUUf4mQ9T7YUS9lxoxcYkRI0aMGDEeCKIGchdR7xQGUWFkiih/kyHq/TCi3kuNmLjEiBEjRowYDwxRg7lFlPvCIiqcdBHlXzqI8ssiyn1qPHzE5XsjDmM8yogs1xgxYsSIkQRRAzqIcpsLRIVVEKL8SRdR/oEotwXjoSMuUQNhjEcLUeUaI0aMGDFi5ALFRly+l4A00IiBLgE/xHjkEVWuMWLEiBEjRhaANxQfcfkhJi4xYsSIESNGjCwhvCAmLjFixIgRI0aMRwfCDWLiEiMnCMoy4lkAK1HPYsSIESNGjIIg40xMXGIUDlJO3379vfnm/ndaeSLdWCBypQ5o2Yefx4gRI0aMGKkgY0dMXGIUCqwOO3/2orl44bK5d+frAgnJ3dv3zbGjJ831aze9MkYi3OVDMolyGyNGjBgxfpyQcSMmLjGyAxcpwyuXrpmtW3YoGbl9825+dyFAbvbu3q/v3Lh2S27GEkssscQSSxrijyMxcYmRFSi7K5dvmHVrNpkNazeaa5evS9nKTVtuVkLvUfZHDh0z8+cuMnv3HDDffC0VIVNx/Y8lllhiiaVkiD+OxMQlRuYQuX3nG7Nr5wEzf84Sc2jfIfP9fQpVik3K9d7d783NG7fNtatXzXXBnVu3zLcQFL9crwrJWbF8tZk3d6E5d/ai52GacvvWXXPx/GXz9X3xLw3B/ubG9duqGSJcxZXrnnaI+MQSSyyxxPJoiD8GxcQlRuYQOX/hmpkzZ7FZtmSVuXr+kjHfSIFKmV2+eN2sXb3VjBk9zgwdMtAMHzrELJy3wOzbe9jcvH5H3XwnZGL3zn1m1MixZveuvdFlnUROnjhjNm/aJqTopn8niRCO1DPcT540zXTv1tP06tnX9O7V1/TvO9AsnL9Y4nPbd5xCwvGKESNGjBgPDtK3l0jiouFG3E+KKAm7KWzcoySVu0yfZQIr4Xv+lcv+gydMvwHDzbq1W8z3d+9r7bl767ZZvWqD6dFtkPm8Q0czeFBfM6BvH/Npm89M795Dzb49R80PaF7kH9NFgwYONWtWrTP37n6TGJYfTlgot317DpgF8xZ5mpok7hDcopXZtmWHad2yralXt4GSl359B2i4S5csV61QSgnHKUaMGDFiPFhI317yiIv4y9Ldr+99a+7LgHlfrsTp7p2vdcULUwu48Qa+bxUYlDIF8p2Mr99+/YO+r2nAqdxXyN8WmoniD/7dunHH3JErgzPpt+lS/8SdxkXC4EwEfVfc8K7ekyv3iCd+3L1z33xj4+fnH34QP54zUOMvV9KH/QjPg3z28wA/7t39Wt3ZQtdwrY0KzuSqeSTQ9xz5Xv7esmO36SpEYPPmbZIpclPC/ebOt2b1yo1m1IgpZvHCpebkicPm2JEjpmOHzqZGjYZCajaLI/FY3j9x7JQZPWqsmTFtlrl04UpC/MLhWSH/du3cY2ZMn2VOnzyraU0mxJ+4r1611nz26edmyOBh5uCBw7r6ifCuX72paQ8kKlw3PjFixIgR48GDIYTxz0eJIC6EyWoWVraMGzvRjB0z3kyfOtOMHzfJjBk1zixbssKckkER4nDh3CX9Mh85fLSZOGGqmTZltpkyebqZOmWGWbdmg7l65YaSAAiGJlKu/A0uX7yqUxrTxO+J4yebKZOmmZXLV5kzp84FpOTSxStm2dIVGu408XPDuk064E+aONVMlwEdbcHZMxfUn+nTZkpcJ5jJ8gw3p06eUcICMdq9a5/GafTIsWbm9NlmgqSFOM+fu9CcPX0+yEvSzvTI6q/WSnonSvonmAnjJ5mxo8ebceL3zu27lcBhQ7Ji2VdmjNwfMXyU+qPkwpd7978xazdtMoOGDjV79+wTMiI3IRHi/8ljF8yencfMieOnzeVL583pE6dMt669Tc1ajcz69dvMD197ROiMxH/alOlm+LCR5vDBo/nLO0LIs9079ypxOXXijNalpCL+QfhWrlht2rVtb4YPHWmOHzupZU+eKQn0iV5CPXTDt79jxIgRI8bDAemnSx5xkXDZQ2TD+k2mYf3G5t233zMVy39k6tdrZOrVaWBatmhjFi9aZu7cvmfOnD6nBKBypWqmzHsfmHp1m5i2bT4zzZu2NJ+2+8xs3LBFNR2etuIHn7R8p0CjMG3qDNPpiy6mS6cvTYf2X8gA+pkSC8gDg/A5ISWQgzq165mKFSqJ3+1Nty97qt+8h9sdQiYgS59/1tG0bf2pTns0kLhCiHj/zq17ZtPGraZ9uw7mtVffMBXKf2gaN2pmPqld19T5pJ6ZNGGKGqOSn0yNoIFo2+ZT07hhU9NI8EG5iqbSh1VM08bNzdLFy82xIyc03A4S3qcSX+JEvIknAz5y7doNM2/RAjNw4EBzYO9+YTJyU/IVuXubJdL3hWztNKNHjZE4d5D4tjCdu/YyJ0+eFhdS+OL44unTZtb0GaZ/vwGSxl35y9uKUxcgGZA0SBwkhMqaIO6f8hst11dCXBo1aGJaNGulBI38WLhgsWpsKC/8pD4G4dh4IFxjxIgRI8bDA+mjSyRxgTQwVTBrxhzz5htv6wCONmTB/MU6yA0cMNjcunlH3H1rDu4/JCTiS/NxlVpm6uTZMrCfNOvWblBy0bVLd3Ng3yFNB9MsAXGRL/nr8mWPHQcDLdqHTUJyOguBaSKk4tjRE+oezcu5sxd0MC1XtrypVrWGxgOD0kMHj6o7tB979+zXpcP4wyDfulVb07BBY7N+3UbNS+I6b84C846QsEofVVU/0KpAljp37GrOnvG0LvjTSohPJ7m3ZfN2s2b1evGniaSlg6cNOn1ejVabyyAPYTty+LhqQ4YNHWFqVK8l4W3StF26dMXMnjvXDBk82Bzef9CY+5K3lJfI/btCDK9+Y5YsXClk6nPz4QdVzUcVqpkB/QcLmTssNQyj2vvm2rlTZvbUKaZH125mx9Yd+cqcdEGiiNeypSvN8mVfqfZr1Igxmi40ZZCS1avWSTrWaVx1qssXyoSpoq2SzlZCRqtWqaZl27J5ayVuTB1BLm1dDIevYn/HiBEjRoyHA9JPW9ICfvzERfwkbIgLWg+MPMuXq2jGj52o0z4Qjc/af26+7Nrd3LqBVuRbc/TIMdOjWx/zadsvzPate/Ur/uqVa2b+vIVCAtrogMqUBH6SeaQP2xBIyflzF3VKavOmrfqVj8bkwwqVzB4hM5Ac8uOahDt75lxTu1Zd06/vQDU6vX/vGyUICETo5InTZueO3UpU0Aa1btXOVK5UVX9jqwJxIT41a9Q2Q4cM1+kQyE+fXv1Ug8S0EunftWOPqVm9tk4lXTh/SdML+erVo485fvSk+tWzR29T6t0ypmf33kqG5s1doBqjD96vIMRturl29Ya5fOmqmSP3u0s+bdu41fxwXzKW/BW5dfNrSb9cr983506dMzs37zb9uvcz7Vu2NMvmzzT3rp0QtzfNjbNHzdwpE02/bt3Nnq0785U502BMkTGNBnEaNmSEEso2rduZ6h/XNN2/7KnTP0MGDdM0Lxdyc+XyNY+EIH5ZHxVCw9Qbecw0E3nP1GALITBTJk8zt29JZG3YTvgq9neMGDFixHg4IP10iSIuTAsQB0gDGhGmRhrUb2zmzp6vhrTYg3Tq6E3tMK0CcUHj0LvnANPhsy5mxzaPcNy4fsMsWbTUNGvSwixasERJhmpb5AqBgbjs33dQCUL/fgN1NUvnTl2FbHxs3nj9bdXC2LwgHuxnggEp11s37+r7mjciTFdh/zKw/2BdzsuUUdXK1UzZ0uWUeEGQ2JOE30xhMc1DHM6fu6TEhSkgS1z2CIlC49Nb/Nm/96BqgZiSIp5MA6Gh4O/nnn3B1KrxiZIEwJQaWhjscXB3U7B8+WolD1vWb/FWCon/d+/eN5s37zA7tx+UOH3tJeAbY3Zv22N6d+9pRgwZbC6ePaU17fyZs2bqxMlm7MgxZt/ufZFlTj7cuH5LiRjAbggtC0utWV0E6UNzBpgyc411Nf/ED4x5sdE5euSEEkzKeZsQpc87dDI9hJyxv0tknUPs7xgxYsSI8XBA+ukSQ1wIS7UtEj5aDDYig3Q0atjEzJk1TwkDBp8s4+34eWe1C/lGiMuRw8dM5449ZCBvYObPW2YuXrhidu7YJSSij9p/bFi/Wfz8XsnDhfOXdXBlgGS1TBUhKgzuixYuVWKBxqX0e++rEazVqlwS97NmzjVfyEC6YP4i1fxgOGrj+9XKNaapECRIyyr5jfFwbyEk5d6vYObOWaBu2WBtjpCvJkJS0IqgFcL+pUe3XqZxo6a6HT/+QVbaoPWpWMl06fylalW6dO5m1q/dqBoOCM/UKdNN3U/qmwH9BplVX63VgZ/4jx41TqfFIBP37n5rNm7cLv73NZvXbzXfYXArmXzp0kXTu3c/SXN/IRZHNI2sXFqxfJVp1qyNGTh4lDl++pq5J3E5cva2GTdljpkopGzfgcPmh4gyC4Oy2y6kA40JZaX1J4lQvygH8oPpMuyAIF0YGUNkmD7CmBlCRF0L6qIND3HCjhEjRowYDwHor0sUcZEw+c3XOSt2ICnvlSqjWgZIAQSi8kdVzUcfVlbbips3PDuVjp93N++9W960adXBDB82yvTr08+0a/upmTxpqjl+7IROsRw/dsosXrTUbBQiw+6uDK5MaWAEC0GAwGCE+85bpXRKiBVETGNACrC7YCqGaR20K0wv2Wkn7DfQmkBA+ggp6Nu7vxrili5VVuO/fNlKjTtpePvNd1VDgu0KcalRrZYpI0QJjRLkBjsZ/PnbY0+YP/3xr2rMi9Eq0ywQKMIkvQMHDFHN0+CBQ3Uarb+QmG5dewiJ2atkADKya9c+06tHX7Nu9QYhYCwrMubGjZtm7NgJplXL9kJ8huhKqokTpqh2o2WLtmb58rXmxq3vjARj9h8+ZwYPHWOWLvtKCM81ry445RUFCOKObbuUFBZEXHBPPJcK0cOGh+kwVpGxiol86/ZlD506UrsY+RcTlxgxYsQIoTglKvwo0F+XJOKiiZTw0bYwuKN9wC6kw2df6AALKWFl0SdCMBh0L128LAP5cSEd/UyVSrVM86btdIUNxGXJ4iXm5ImTQlJuy2D+tU5FoLlZu2a9Tl2g5cDuBENYvu7RzvAbYsG0ECuOsOHgqx+Nyie16qqhLDYmGNai2SDeGOeiTSGu9es21PDRuEBeWOY7csRoXW6NsfDHVWuIX83V2BfUr9fQ1KpZRw1aWUWDQS4bsZX/oKKupKr2cQ2dXsI/NBNMS6E5ghyQH2iBCJeprlkz5yi5QSsDMJzF/gTidOf2XclkKTKJ8umT58z8uYvNl0J0iB/xZZpr5fI15vKlG+ZbcfMN00e7D5nBg4abfXsPpF3WaMrQVs2YPlvtfgoiLpQ1GhaWdvft01+nu7BL6ttngKaRpd/56qAND7G/Y8SIEaOk4UFIVDzCkH66xBAX6ydhEj5aF2w/GIDRfLC/CnYhrDTBsBVDTzQJEJe+vYeazz/rrlvZHz96SgbgK/oMfPsNm8d9p5oICBE2GYSHzQuGn0wfMXjqWTlXbujKHZbyMqWEgTB7uZw/e1GnoE5LHDDORTtCQdh44453Du4/rCuL8I+4Emd79g7EBOKBJgIbFGxnmC7CbgfwGyNVllJjS4N/J8UvttyfIMQHAvfVytVKDiAmxJ04spcNhrxqC0KUJD5UFMgZ2iA0S7pqCZHnaLVu37znxU/iw/tMw5Gmb77+wdy9+625dvWWWb9us27FT7w1nWmAunPwwBElS+SZa9MSKfIOdQ4yBulifx7Co0wor8j6Z8ND7O8YMWLEKGl4EBIVjzCkny5xxAW4CQ5HMg8sV/aIy+CBo03P7gOF4JwTD3wRP7/7lpVEHngnSJfvt/0dRtJnNs1OHN14JwPvJc1L8Q9bmhPH2al2nE4pbd2yXe/xjGktpsXYz4VN79iXJoiLlVD+QRhwA9Fi2gY7H9Juw1O44rzPe5BDViyxVJkzh4J0FwRxh/0OhtNWI1WQpJuHAWxYiP0dI0aMGCUND0Ki4hGG9NM6RvkoWcRFrqmIC5oHbFfWr91s2rfrZJo2bmvWrt5mbt30BnYGb6CkxddSuMQlK9g0+3F041wYEC9W4GDL0vGLzjoNxJ4srG5iB+ChQ0botA6GwKrpsZIk/7x0G9WisMR6yaJlqgVSDYh1575r35crdieH9h82GyV8NEHkW1APwu+EIW5wG+QN9woS63e6sGEh9neMGDFilDQ8CImKRxjST7vj5o+XuCD2t/hrExuOoI0fmcAyY6YXxoyeYGpWr2sqfVhdfk82x4+e1sHXZtajQFwAacNeBpIxeNBQtZFh4z2u7Ci7ZdM2nUIhDUFe+XEJg7hBUtBKsSoHI1emwMi7IA1JgEbnyMGj5pKERZ55+SiPSG+E+wJRkOAmFP+UcP21v2PEiBGjpOFBSFQ8wpB+OhgzBT9e4uKAMJORFhdMpbCxG0a2mzduN5s2bDMnjp0xd29/7ZEbYDNMBuCHnbgA4ovmhSXeGLlynABaF2w/sAMhzdjmkCbCh5wQp0j4ccYt72IzZO9peH46EiD3CAOyw1QP+UWcbL7ZMsoIBYl1F45LMrj+2t8xYsSIUdJQoES9BAohUd6FIf20HWtAySEuTqRSwU6J3L/LCdLeu6ppgKh8IwO8uHmUiIvG3yUJXOQeaUXDBJmAWGjaxB1ulbw44G/3nv2bvND8tc/88IK/Hah7v6JZkhSkvSAg4b9TiXWH/+nA9df+jpEfVqKexYgRo/iBRN1PBiTqvkWBEvUSKIREeReG9NPueBITFwdkBnHwiMs3qomAnOgOuV97mgnPnbj3n+WauCTcs+DvQiAhPN9/j0jkIYGw8I6F/B3c98HfFu79gqDvOOFo/Nx0JoOV8N/JBDf4nS5cf+3vhw1I1P3igM2jsITdxYgRo/hgJfw34rpzYSXqGShQol4ChZAo78KQPsgdS7xxK/8Y7sFTMhQGRUtcUonjjjDTJS42jqqJSCAtHgL3PnEh83QwzgBuAWh+EE+5KlHgb3vPwt4rBNRvJ/8T4uDCcWvdBYQjx7DhJaQ1Coj7uyDBHf6mi6hwHiZYkd9BnkUh/F4yRL0bhuNW64AtM55Zcd1b8A5i33cR5d5F1DvZIJZYSpJQ52378cX24Rb52lhRiw2nsGFZP0LpKZi4MFZnj6IjLgWJ45Yw0yEuwBIVjHEtOVHCwm/NEOvW+xt/rdYiHQT5YGHT7Kbf/k4FJ30FQtwnhJkCkBQ3r1zy5uWBd5+02N/ZgPdtmPnS5P+tmhmNu9y0z9MRx498sGG4cCXq+YOEI5QL03s27wIy4eZhjoHfhEcd4Fwr4hDlLgE23vKbsksL36fhb7qweVcQYokFiaobyZBCvpMB7/tvWTEpDjN4r1CC31Lngz5AhN9M/9NX2DEr+OjItI2kQgphrzOOz9G8KIzYsPw0WtAn5ScudowGEBDSnx2KhrhkIuK+IOJCBgCWQp87e8EcOnhE9yvhnBv2ENEt76XTVpuQQsKzJ0kMmwHa/iYsVgKxQZ4a0N66F2h2wlBNSAFIn2BIYUs4pBOjWza5w0j56JHjuqEcO84SNwYvzYtCwjMKJi+8imbrCOA+5yixsd8xCX/fnn3m+rXr6Zc97sL1yoWtRxauhJ89YFB3yQ823+NoBjbTo05ArDUPfVhSmVc/bOOOQEK5R4Ny0N/UCam3nEHFZoqHDh7Voy64p+Lkq5JMfhN3X74XUkJn/v131GGvM+GqkM7F/rbkxXNL3SYNTMV67yaDJT72HYA/QYepeWjveX/nqwNuvPktfgTPXLH3XMTyYEXK4Ov7X5szp89Kn3nU3Lh2I6gbeUisH5GQemb350qFqHepL+z/dfjgYbN1y1bpt0/J2HFL2u038g71O/wefuUNrLiLQl5bSR4u8ab/1D5T+me2qODUf1Z8siiDRRT0pV7fzVh2P218fe9rzdtUIJ7e1UvH/Xv3pZ+4ag7sP2AO7j9o7ty+U/h2wvvaLvPg9WXhfssSlry8zRYPDXEhfBKr8eG3Hyd7D5LCdvwcNMh2/D179DGzZ83Vc2/YPp4dZjmAkK35c4pV6zzIb84f4mBGDnNkV9s2rdrpLrWc0EwcErB8lZ6abOO16qs1kWCfFtwkh+9G/Fq5YpXuUDtf4jBixGhTr25DXT7NEQUrlhNmKA6FABvgJYC0+OBvrhPGTzIN6zcyTRo3MWtWr5GGeS+98sdNuF65sPXIwpXwswcI2gskBaIwYvhoPVCTgzJnzpij+/MA6gZlZmHrBXVp9SqnfvlYA1avj4D/DHd+fdL6IXWC38ulzDjziSMl2rb51GxYv0k7RJunNHYGjZvXb0qboqHLfRE6s1s3bylsh0xHR4d2+eJlPRuMe7RROmJ2pr5546a6pwOiQ6QDvX3ztrl29Zp8WJwzZ2WQonNkN2uX/HCyO6e4e4OGNGxE4sEzjungvpISCYvBg845zz2W+N79u3fuit+XvU7XFwaKu3fuaRzOn2VX6nOajlgeoEh5UVYb1280n7XvYBrUa2DGj5sg7WK5tItlel2xnHPdVkmdXi31P7dYJX7i95rVa82smbNMu7btzPtl3jftP/3MzJoxS/o0CfurJGH77361krGFa37ou+H3HKxZtUbClnYu7ZU+c97cBXpGHkfJcFbc5IlTtd3ST2i/K3mxYrmMJVkj9P6yFRLuSk2npmPFVzJeLjUD+g80H1b8yDRu1Njs3rU7oT8IrpkI72j/kIfUxCWajGSC4iEuBT0TfwmbOASwGSBx48t+5449eqIwBxRyCCNXdpblVOWPKlbWQxi5VvqwiuKjHMHzq7IpV7a8efONt80/nn3B/PlPj5lf/cdvzWN/eVwPaHy/zAf5gHsOaSz/wYd6BlEFuWYDfbe8f63wkSlVqqx54cVXzNNPP2t+8+vfmz/8/s/mrTfeETeeuyg/cg3SxmGQf/vrE+Zff/Zv5u/PPGumTJ6qg0xkGYfFL/OksHXFwpXwswcFiSfTM5yHNX7cJFO2dDnz5ONPa/3gsM3yUjcpM4WUm8WHFSp5kHob/HZh63MqUNc/xJ34V/FDU/q9Mubll141f3vsSfPzn/6b+avUyz69+unxE7Y9M/hv2rhJodoxkvH9D0oAtmzeYnZs22GuXL6iJAQCev7cebNtyzZJ31ElFZ57o4Rk/br1Zt/efToo8SULgThx/ITeZ0CYNmWadpTr1q5TIsNXHkQFckP4e/fsVfJj5Zbc37ljp9mzmwND7/t5+425cP6CdqxHDh/Rd8l3vmCvCCHatGGT2b9vv0eWRSBUp0+dFsK2wSxcsMgsWbxU39eyiqX4RfIdIrluzTrTrGlz89yzz5nHH3tc+u7SUne9esvg6V2lf6sg7SVdlE8Bx12F8hVMuffLmddffd088fgT5re/+a352U9/Zh7769+kzXjxqFhB+jRxB6L8sPErCO47wbviN/jgfRk7Xn/bPPv3580ffvcn6bd/Z5564hlT6p3SpmqV6tpve/0DV/p6L+6FRfkPvCtx+aBcefPO2++aF1940fzpj38y/+Of/of0F38TQjdb2rejdeGaaZvBvbRZS1p03P5REZco4b74q190LiQu3Ee9xnb4vXr2NWXLlDOtWrbV05GHDBqmWhc6aMChhLhRyH2ecS00evYxnTt11UMe/yEV799+/kvzykuvyZdtI9OuTXvd9bZrl+7myxA4uZmDEHt076VxSRc2zN69+gbp6t6tl+koX/ItW7czL7/+pvnFr35jXnrlddOieWvzadvPJA5d9KRr3IEeRQDSwiGNHExZTgjZL3/xH+bXQt7+8ufHzEsvvmymT5vhERcrtsyjyt0v86Rw3w2/H35WzKBufi+4f/9bc+jQMTNs6AglHLXlK4qy7tdngJ4WbstPIX8rKE+pn1rW8uUVlc+pYMuWd6kjnKbdpnVb6Zjf0M7wicefUjL91JN/N8OHjtTzrGybhmQcO3rMHD96PBjsETQwEAPU53Rget6XkAaIBaTlzKkz+q6KpB8Cgfurl68maFPQdBw6eMhs27rNrF2z1mzetNkcPnRY76P5oLMh3OPHjptTJ7ywrOA/xAeiATGhDkCqIES4hfzck0HQy3/2KLqt7s+fu6BaHBV5Rv0jDrt27lJydO3KNSVNvBNL8cr1azekHqwzzZs1V4LQVupp927dpe72lHYg/XbvPqZvH2kjcu3di/rcS/q+9NCzR8+kUDf4Jfji8y+EGFQVsvAH8xvpMz8o94Fp06qN3u/cqYv00d2kT/tSwW/i170b/TZXwZfSj38p9+Va8DMH3BP0EPddu3xpGjVsLKTlH0Kcficfv2/J300kDp3kfeLcx2vf0qZ7Sv/RQ/KHPAqD+z2691BEPXdBuAlxFbRs0VI+Nl+TD81/lQ/vv0gf8ZR54m9PSL893fswoYkkQ0GCG9qsT1pA4YkLU3EuEp8XH3FJJvYd8duSFhsWdhvbt+5U9XvlSh/ric4b129WGxPsOrArOH/OA500u8xevACu6FwiBxIWBvjBFvio59u2/tS8/ea75uOq1fX8oL279+vhitg0YG8D+MIF9gBFL26XNL5pQ+JP2FcuX9c5UH6fOHHGrN242XTv09+8XfZ980GlKmb0uIkah5PHTknnfkYPgtTDF4HmRW6B//v3HVTtAl8Jb7/1rp4yzVRR+Q/Km/nz5ntfxVaccsxXL/zyTgrrPvweEn5WzKB+3r5z3+zes9/06z9I86JunQZm8aKleuglh29SbvwOg12fqaPUieS4qHmNLVcinLok9RJ3TJ1C4N8vW16+rD7Sk86ZOkRrw3TUvbsM2nlxt/YErkA6ICp0BhAROhbu6dy8kALu816Qfubt/b89uxQ89n5bEnP2zDmzZ/ce7RDVL3HPe7jhNzYBOiXk++ndw53nl1sH9D3/Xb0nz6z9QHDPB/c8Wwevc0SDBPm6435RxlLkQrkzFdSoYSNT6aNKZtiQYaodg2hCQiGoFy9clPZwycMFqdfydzLw3HNL3yi4FAH/Ge4unr+oBHn+3Pk6HYKmAcLC9Mmhg4eVpEPIFafPSH09q9OLaBkvyLvETyHxJc7cw88gruqG/tZ3FwH8IxymjDp37GzeeesdGTs+NlMmTVFifeLYSR07dKzw++6L2tdK3hBevnzw88h/lhDPMGy85IptEeEN7D/QlC1dVjUwvYU4Qiif+8fzZp7kkX7I2HYXxg9OA0uAI/wpbnNHXOiP+NhxkejmobBxUYjfhE88+I3R0ratO8wXHTqZKpWrmS6dvtQDADFM9TLErqbxkJcxctW/7b304foH7ty+L1+Nx0z/vgPNu2+/ZxrLoIAdCUaQ1thSgfv7npW4NfC1cbJ5mwxuYQf57+Ql/pw9fc5MmzzdfCz5UKdmXTN98gxzWsjKfcmL7+9LR004kidhw9/CQstDQPo4eHHhgiWmzif1DNMf5Alzt7169hZSWVmeLUxk7ra+uOmxEn4ehnUffg8JPytOiFC+EEY0YR9WrGzq121gVglJwAZLxbqNSBf5qQ3arxfJENSrBHj1Sf2Sy/mzl83okRNMzRp1TbWqtc3YURPNlo3bTd9e/U21KjXM6pVrzX1r42LFT4Mr1DcIAIM+hAASERANHzbMAL7gjk4PjYmSEd8v21neuM5hnfKC846K9Qd/kyHqHXt1fkNS0MwQB4iWDY/752TwUM3LVe8U9ViKXiCJy5ctl4/MVjpI9u/XXzVvVvMV9G+u8HdBCNeNZBChLqDx+6z9ZxKHiubzDp/rdChaO6Y20QC6QMvIYKjkWeqxQtuBT45tuIgNR/7mmbqz7wTvscLvvjl44KBqlZimqV+vvnzcLFYCwjOOpPHGCQZyb4zw2o/nbyKiwpW+wgnPQtusPMctV4gO0/hV5GNXidPkKdom+vTuq9NGC+YvKAbi4i8k+FESFyD+k2BWD61bu9G0af2pKVP6fVWJ79i2y9wVIsFzO+h7mSO//XhztfdsWjKB+il5weB05/Y9tf7GGBibjiaNm+nhhzdlgGIgtxWNOOu7GjaVySIvXgn5F4abfhfyjPc54mDGlBmmtgxGdavWMktmzjfXz10239+W2vC1OMSPohDigIj/HAewaOESU6tmHbVxGTxwqK5eOSXkaeCAwfJVJcRlPsTF/7K1abOwabIS5caFdR9+Dwk/K06IHDtywvTu3kftmJo1aWGWLlpuvr7rG45KmUM0XRJiQVmmTGM68IVVX9OnzjYfVfzYVK1cy8yescCcO33ZXDx31QzsO9hU+fBjIVNrzD1pLxpWKsFfN17J4ISvIn9joLtl81ZdqcGg4HX0tN/7OgV1/14K49iCwg2H5wrPfGAfs23rdv2ix6bCvk8HzgCBFlANe7kfS9GJlsUt1WpUq1pNB+sRw0fotCLEIGV5ZiJO2UeBwXrzpi2mbZu2qmHo9EUnJdEQFOqEJeeQFBfBoK91WDxy6yFIJjyzbn1Q30j3gH4DzHul5IO3URO19YFge6SDsMSp9Bc6/so1IaxkcCXqOUD835THxPETVSPOlBn2Z2hh0NgMHDDIvPTiS/rBSTsJpyFAJHEJCbfErSUtwBuHc0VcPGLpomiICyhIkrin49+7Z79PWsqprcieXfu8FRIiZEgwOGjmyOtR8cwEfhzwB7/R9rDcuX8/1GvlTNPGzZW0cN8uFdaByI1/MhRCWCI3TUhLORkkP65YxSydI5Xsyi3/qSOFDCdS/PhDIpctXak2HGhaRg4frXlDpUTzNGhgHnHRVR42Lm7eIr5/AZx8D9y691y4EvW8GEB5Hz9+2gzoP9hUKFfRNGnY1KyVOmHrpXXj1sugflJXkqUtCimEVUwzps9WMs205ZxZ8wzTT3fvfmcuXLhq+vYdaCpV+tisXLlGyuO+V0/d/LXxsBIOj7/D7i1cEXeQFYx09+7e6xMXr/OnYwlWDSWTVOGAcLwcIQx1I0KnyzLXo0eOaf3jqzd414aRwq9YciMMkosXLjZ169Q1ZcuUNcOHDddpGbSwkIUiFwmCQXHXzt1qT1Pq3fdMl05dzG75G9KCNi6YorR1zAdkwpKW8LN06o77HiToxPGTqmkp9W4pnarCUF210erYCy8hDJBLEe+x95o2dZp59+13lbjMnjXb0zxKWEyhMnXkEZdFiR8YpNeNVz7iEiH+O4yf0cTFJS2ZEpf8pAUUHXEBqSTsVvzGpmXjhi3m03Yd1Mq6Z4/e5sD+w9Io7kpkHQ+dn4HIPc24LGD94zcrmNDuYEzJ4NCiWSvV/mC7YKeEEr6gebewCAl+Y8vAcjmIU6WKlc2cqbPMrUvXpTb4juy7Ng5cBeG0RSF4Nwx5poOvXxewr5kze74u32M1y+hRY3XvGtziz+VL8oUvzL1ypSpmkTQA/eJ1/Ari9qjCF8jJwQOHTceOXcz7ZT8wrZq31uXMaN9snpJvqWDdZQL7HnGhTJgPnzh+spZF1cofa6ejS4jFzXfi9vz5K6ZPn/6mojxfgY2LkGztd/AjC2hnTqfuI0HkTw1XOmpVt8tXplWX61esdFBpC15bWAn/7Yg1ClYRN/ymM+O+xtO+6yKW3Iqfr5ASBsJFCxeZenXr6wqW0aNGm5MnTnorxHBHfXLLwH9Xxb2fTHw/3LroAoGYsDKtZYtW0m+XU00LK9KYBqFeMEVEHVGtoE80tJ3Jbwi3ReAn3lqkEt8f3oVEQ9YwDC5TuoxpWL+hrnJTw/J0xA3TRVii3PggHtjljBs7TuNQ7eNqqmnB/ocVg7RTVuVBXJgqot+m/QaCP5KeAPxdkPjvePnpwc48eIQlXU2LBWVlEfW8qIlLmiCB2FCsW7tB1e8M1qyS2bZlh35hMnAANujRaRo/c4izMjuJP4SCzdeyAVoUMvf6tZt6QjPTQyw5bdyoqa6xv3L5mrpRbYvV9giISy4Q+CdxuHvnvk5HjBo5Rpd9V/6oqpkrX9WXhch8d1cSy/TQN5Jvcv2eOVLidN+LP3lBnhQEW85h8Iz4oOnBkJQ9a1hNVbVyNTN29HhzQjc2k5dFKAOMl9FKValcVTquxTqVp2UqfhVlfSlOkBe7d+7V1UAQWVaTLVm0zFyX+kp+UydZ+YZmqqiAXRcbDY4cMUZJS/VqNc3M6bOVONpyBxh2s6KpYoVKuucPdZVyDcpBrl7H7F1tR80z22Fb97Yj96Z/PDeQkju3WQJt1e4eSbGdiRIWAZ0jA4ZqP1IJcQKIH4fwveC3L4TJ16tqV+S3Pvfj7IJ02LjpF3/In1gKIZKXlC1kgAGR6YZ6devp6iE0Laz4Ui2H5D3TRAzo0aBPt4h6bvG1DrpR4DkrmFhmzz4tGOJiDMtSfrRA1AFLrIEanAOJG/HnfaY2LQK/5R2eE3/PLiY/8M/77e17xHJ+Vki99+57pr6QuCWLlyhJcNtGHmg7eUgc2OV5huA9CBIrB8eMHmNYas70EDYs7GnERyXuaLesCBw4wCMufPwQ/0DC7SmdduO/o/0H/YUgMV1u2nKDh4K4MAXDFyyrhv7+9D90BdG0qTPVGHf/vkP6tXvwwJEA7JyrsPf2HzYHxN3+vQezxr49B8yyJSvUGPj1V9/UfWIGDRyi5En9FnAlLth3EL4bp0hIvIhjuiAMpqQYfFi18/JLr+kS2g1rN5q9u/aZ/bv3m/27gPwW7BMwjabYjcp+v9kr6UgHpDcM3t8jIM182WPPUv6DijpgnjpxxqsbvrjEpWqVj9UGBtLlPXQQUd6PElg51rdPf/PSi68qcRkyeLiubNsndYbyDfJuD3lfNEALyXJ06iW2NVMmTROScsXT/gnph1BD8FllR92BdGNEzlQRpAdyoyLpYcCxBrVuh0VnSueGcaXX6eC31+HYAYQ9XLZv226OHDqiHbU1agT4acGKhgP7DgjhF2IlgwTu8NMVOln85F2EuoU7bFLQImn+yz06Q+LB1BODBKQFY09WjWDfouQFr0PgPpoAln/zjpKiWHIjkpWUK/nLyh3a/xuvv2HatG5j5s6Za3bu2KW7smJ35OGA1od82O8g6rkLx63657+ze9ceDbNenXrmmaf/LqS+uhk/brzaPaFxYSrz4IFD0l/74Lf/N8az+cJ2wvHgu0kCm8b1a9cLcfrU/OPZ58y775QygwcNUYNgG1ZwPcj4EQXvOdOeyWDd4BdpIv4WxBPtDsulmaLCMJpN92gjEBYl737bgLgMGjjIvPD8C0o6i4645J6wWDx44iJ+sn09+048/dTfzb/+/Bc6aNf9pL4u7WzSqJkaxkaCZ/5ztCOs+skWzZq2NLVqfGKeePxp85N/+Zl55qlnzcdVqgtzbqi7kepVfzcyDeo3Ng0bNNH1+MQxFRpL/NJFI/ETDctf//w387//5z+bxx970nwkX891a9U1jeo1No3rNzFNGkie+CDeCWEJgjxJgfB7wfuSh9jzkPcMkj//2b+Z2jXrmF0790plobDyxBIXtFPk06KFS1Ur5j10EC7vRwwsAW/YoLH52U/+1Tz7zHOmTu16Wv716jbIqxNFDGxZ2LDqZz/9NyVP7MSMJogyQUN26uQZ+eLcolsHML3Kaie0ZUcOH1MSevnSNUmMlx6IxR7p7Jn7d/fd4SsTg0LU7ex/YjsIvlrpoCEsXBkk5s2ZZ04cO6FTAbiBgEAQWAINaWEJMpvRsSyaKQMGEAY5zVMROjQGHwYVvpbp8CAaaHMIgw6fTfLoACFa7PiL2/179ysZovPmyxKSxXvaYTqg3nGfZa47tu8w166KX9yPJTdCFvv5y14mj//tcamfT6ktRc0aNaW9NPRQ30ODQqNBAurXk6uP2rVqm9defd385J9/Iv32T8z7Zd9XEtOkUZMgHo0aNJL+zUL6UdDIokkSNHbeKRiVP6qsG9yxsRt58XHVahqHpk3oUwX2mgTsPg6inoEmCs+NQvx2QbogkJTFL//tlxoe7RltR14bkbIToAUaPHCwef6553M8VeSRlh8/cRH/GADZ92LUyLE6MDzz9D9Mzeq1hUi0UDLBNuoMqEoSIAsuGGx9hAfhTNGmdTvdwr+sfNH+8fd/Ni8895Iu/WXqiiMGiIci3+BPPKJBvPORrRSAvLAnCLssstEdcahRrZZpJAMlhELDljAtNO0QNh/6PMLfMDyilPiufZ/08ptN5n79q99qGIcPHtVycqWkEBf2S2GTqN/++vdKZiESWvbhuuijIaQ2h4AkQSRLv1fW/OkPfzFVKn1sNm3YImQhj7iwhxDaya1CUliBx6698+Ys0KX8O7bvDogLHQvEZZ8QACUTvhqb+5APCAGkBo2H7SD4YuPrebt8wZ4+eVp32GWrc/a88DooTxty8sQpJT2opW/euKkrFyA9kBhWdUAeNE9F8JcvRogIWhz+xh80PmhzIBtKXLSz/UH9YwknX9f4yRcjGiP8s27onLWDljhR77hHWvEHTY2rLYwlN0LZDR82QjegfPH5F02N6jWkDTTyBmkBAywkgXsNC4EoomABsXnn7XfMvwhxefqpp/Ve86bNTYtmLUzL5i0VLYD8DXjWrEkznwx4g34y4qJxD4WXDHVq1zFvvvGm+dV//Er6iWdU8xMmRi7RiEIqIqVuHOISkBqfEHGPJdfsF/P73/3BtG3TTo2EaVuQfyUU0iZoG+x7ExOXbCF+MfgRNlNF8+Yu1AEb8sB0CdMfu3fRWclVvvgjIc+Z2rBTH+Hpn3TBu0wBoZZnV17IS/NmrfSMGHUjX906jeJOzYDdyYF7jZO8yxRQejgonfYuPffmxRde1l2COb+GeOlzP65J4ce1IOzbG/GuAP+Z/iBtGAazQ3CH9l/oZnollbiwLJ6zotg1GVK5VuoEBuNMG0Zi/yHNw1yBsGgDE8ZNUsPg9u06qA2U2kdBXARMFbFs/uTx07oLJ0dNYIfDMnbsb3hOu2ZgpzNhQLdTRfytHYyQD+4BO2cOmMe39yEQqMXRpNjOiU6RcsYtNgK4Ry1tOy61X5D76s7PUzo4zz7As4PAPeDrkHuQKFe1zbvcRyvEbwgWm4Gp4C3ERcPLIy4J8MONJbdCnVi6eKka5EIIWAoNSbVTQ0xhUFZR0x6ZQKdHwvCnS1hFNHL4SB2EISkshaaOeu78d51pFft33tRNCtj3hLgXBOxbMEp++8235YO3jubL3j37VIOYS2h4flo85KUNLSo2Rm+98ZbunssGe7RB2pIlLQDtZ0xcsoX4xeBH+MzDL5aBj7MbsOlgR0E99Vk6XDWeZVM36ajDsJ038SfukeGkAdIM6ODZJRfVfOdOX6oxKoOxhiPAMNVCNw6ycYiCn6ekEdgwksJ3h4HrksXL1TAXtT87KmKjwHP8jAwLYKQZCjMZ1OLbzzcXvEu5kOeQR3YK7vRFFyUo+swR/LE2Lj9m4kKa0Ga88PxL5rNPP9e9fagn4Ty1KEw9TAZW22EDhu1Xx88769SQ1gUH1Ek0L9jCYAdDHdLy8P0gbl5nkgwegcn/twdID4cmMgXEbqNq3yJkJ+gQCccv80jy4MIVP37BM34j7j3nPiSIIwXosJUMIWG3Aq9dyQOeWcSSU4G4sNS3SuUqpuMXHXVqguk7CKYSWCkfyiGhDLJEQl8JUfW1a9haLV60RM9AYpt9jIXRAPI8CgnxKUic8AsCZJvDDDGKbf9pe/m4OJbT9AdIIZQHxrhMl2EkzC7F+lFAPCAUfluNiUthIH7pYC3hYkQIccEglg3NWAocFDjufLeRwJ11my389yEArGzC1oX9Y9i+n7zJ5z5dZCEQIk4SZfBhSTZLki0ZsatHkiEowwKQ1B35IEKdwCC01Ltl9BwkDEHx3xXiUyKIy92v1RgXQ2nILKSa/EspvOvmQSGBPQvTQ6wmojySEheJG6vxWJW3ZPEyJcG2XL3liZaU0Il7HQxX9777zAWdPpoaOr27t+8Gg0OC+OnGRubk8ZPilwSO+OkIkI6E85C/uUhc0LYwZRSI684HnSgnW7P1OgOp3o8lp6LEZYVHXDjvhx2TdXAsarF1Q64YeXO8AKc+c+5RYNhthd/FECXq2MYNG03N6jX1HCSmUotbIIscMcChj5wHBXHRtittWttxTFxyA8JiAKSDhbhwqu7A/oN1QAzHg78TBlkL6ybC/7Th+8EqjbVr1puaEBcZANg3gzBUot4DNvwoZCK+f9gucNQ501WWuNh0kldKYpLB5kkaiIwvEEGbtXnjViWSaFwgLvjvprukEBfq5vp1G82LL7yih2ei1dBVOhFuE+DmQSFAWaF93LBuk+azp3E5G2jJLHGh7lqNC7tNc3YScbfPIS50YAq/c9FODWgn43+ROs/c9ORrZ/Y3Yu/59yELLE8NNt2y71qkIzYMCxtWlITdCkgLgwe2PJ4BsNyPJacCkUXLgFEoUxMY6+Yjs0Uhtrzl6hGX5QFxscdMeP2lN3h68Op4uJ5EIlVdCwtuBRCXDes36r4pLMcuduJCHISAYH/mnUfkaVxIj7Znn7TgLiYuhYX4R5hKXKSjfU++8LGZuHTxSv5wk8H3J5/fmcD3i86fKRKICwPA2TMXvPyIegf47yVF1DvJ4Lvn63r5spWJxMX3z5KOwiIhboj97f+txGXTVo1Dp45CXM5flk7Af+6D+kI5ucSFKQ2E+Ab1yHnngcDGIwlsXJMBGxfqxMsvvqqGr5BZ1cLJsyKDE3/KC+Ky3icuHKSIJjAgqz7QFhI3To4uW6ac2riwPP07IVneXi8hYuJ3ZFy5HzzTTt9PnxOP4G+5Qnb0b8Q+E5BfXNG4MBcfEAbnmbpPR3AXhivu3xHuSAM7hbJsGtucBPex5ESwaYK4fAxx6d5DDbO17hS1EIRflyAunI3Ebr0QF7saTeucXD3y4hN2gX2WAPwLI13BrfjBVBHLkTkPqFPHTh5pcP1x/U6Gwoi8DwH5auUqXd2VQFwoEycMVuZZ4hIsh7bPXdi8KUh8t9p30IcIfvzERcCXOqptpib69R3orYJww0wHUf6nC98PT+MixKV6bTVyhLik9NuGnQxR7ySD7z6SuFjSEPY/BcjXMBLc2HCtOH8zXbVpo09c0Lg4xMX6w5W4cdhiQFyEgKob6hHu3XCKE04ck8KPo2qxkkHaBPZXaOEwVGYaBkNltBduODmFmw4/DCUuazdqPjNdZTWBLmjDxI0VUJQb7emeEBe7mVUkMfGRdz/vXsJzBZ0Rxrbeni76DBGvrJ/WH2vci/vEZ577rMXPE5ZN87Uf+BXlp9wjXNTnxCXSTSyFEga8BOLiD5Sa10WZ3/jthwNxWbFshU9c+ipppq6r+O7ceg/0XReFiasfBrZXAXH5opNqn9RvK254UShMHBB5H0N4bI4+KPeB6d3TJy74G/KbVXkBcZkvxMVOpYbjkG68cCNug3Yu+HETFyB+KnGRL0SMc/v1GWCuQFz8Z+nC61yjoW7C4brw3QTERTUuvXQgCN6N8sN/LynC7lPBd18gcXHfiYIftjuoBfCfJfhjxfk7irjwfoK/8pvddZW4VM0xcSGcCKTtn33HxjUJICdhO6EwXOICmWWTN+5rXIoCEWlxiQunpFtNoAvidO7sBdOrZx9dfbRUjXPv6cAdJi7hMJPdD0A8RJj6OXXiVHDmCfe9fM7rsNQfX/it4dKhWf/zHmcs+AFpYok1S3EDzU+Un9wDhQwzluQCcVmxPJG4BGVdlHnulKsSl+UrdHt7zgeCuDBoJgju7TvJYN1kKr6/lriwWy2Gyg+GuNxXm6MP3neIi//MFZe4LBDiQtwj45BuvHAjbrXs/X6gRBGXd33iwoZ09llB8DpO+clA46clgNzjPgOUug+HbeH7ZaeKMM61U0UJbpCI95LCdVsQfPeFJi4C8kTT7YKy9ZHgjxXn7zBxsTZHNq9tfIqKuPAucaZu2tVjbh2NeicBobgmQ8bEpbsQl3OXNB6atqJARFoC4lK1hhKXgFA7IE6Qql7+0QRLl0BcvA3ickJcBOz7gu0Kq4r42w5StrNSP3ArQnhBuPa+/ywrwQuJC6tIdm7fqXY0xI17Sf2VZ0puChNuLEkFUgxpSCQuBZRJLgS//TA84rLSlHnPJy5CqvMRF8S+EwWeOX4qEPd3MvHfczUuAXFx33XDi0JB4RQk8n5S4hKSBOIyb4GnvYyKQ7rxwo24dfuCHz9xEeQjLlfSIy62kRBv0mCXSetg56eLwScgLiAUthtOLoiLjY/+7botCL77XBKXhDyw5Qtcf6w4f+fTuBQncZF3iC9liM0MW9mz6oxVM6QnLX9DcU0G8sQSlGQgbLRw2RAXzeeIexp+6H6AiLTkERdP45IJcaHzSHeqyL3ngrgySLGa6NTJU7otPxJoU/zOSuMrwoofuwFdXrj447mx14zEupfr6VOnpY/wpgRApF9yjx132eFXjYQzDa84ReKmefKICcvhLXHp3q271EtLXEiQ7yiV4MaB1qV08gEnEg7XKOKiZDUs9p0o8EygYdu/0xXf36yJC258PzIKNyzyriUu5d4vJ/1AesRl/rz5moeR4acbJz/+Wn5+XxATl1TAjQhfxUcPHzecD8TKCk5yJk2kDeSMuLjvCMKDIAdFEg92Ak4aVjL47rMiLnIfNxhhMs3GhmW7duwxnKl0Q/IiKFsL1x8rzt/5iYu3PF3h+4HbItO4yHu3btzRzffwl2W+7J1i97Mp0N9QXJOBfIkiKy4KQ1xYIcbGgRjTkjdKwgTUTY1DxDtRaQlPFaVLXPQgOAHTKpAOGjzqffeMIUhN0GFHwY9HMBj4F0TJiuvWF7QhuluukAv8Zg4dEoGRLPPwkCAlHFmKPeDOJUthIVwIDvvOcAyBG78HJeR3EA/iLb9Jg92WPbifJE0PmyQlLm652PQAkujfZzk9mjtW3zDoM3iyvFrzqCBx/IoiLhp+WOw7DhhYdWfoA4f0SIl9e/aZC+fYbBMHaYrvb4HEJYVA8Deu36j2QhCPpUuWSv+9y1vanW5UJKyAuJRNj7hwVhH7vuip/oQTjm/UvSjx8yAmLukQF56L3JQBjp1N2eJ8/tyFZsa0WbqrLiTEJS6kLXgvDN/PTIkL9/CXnX+PHzsllWCxniLMUmLNRyvh96Lg+58xcSEOAt47deKMbqBHXoweOdb06tFHB13yV8sXt7aM7ftWnL8fNHEBnMg9bOhIPfSSfVQgEBCXAkkoCMU1GYqUuIhwevPI4aPN6FFjpUNZrRvZ6QZ2972dbCPfi0hLtsQFUgJRYIt/dvE8fuyE7qYJgcg3UIb8C8CzZGLf9WEJECs72IALcoGwn4oeM7Bztx6QyIAVLJXOQrSDTCNukCXONCI+mpYHJRIXBtQ1q9dIP7fELF64WMGgj3Ekv3nGCihIzKMiGRMX5x5kctiQYWbE8BG6yyybClI/dYVLQYI/fvkXhrigOdyyeauZOnmqmTxxsunWtZuZN3ee+pG2+P5mTVzEDbsMt2rZSpcxg/LlypuePXrq7r1p+YGIu5i4pAKRzDGyJi6CHdt26Z4rEA62rWdVBScbszLJ21G2iImL4PrVmzqwcFwBu5tCoHSvDyvh96Lg+5+txuXG9VsaB7bq58A98oUjA9iJOFjCyz9bxvZdK87fD4q48A5lQB6gOevXd4CeWUXdoE6greBZUJ4RfihCcU0G/IkiKy4KQ1xOnjitR0ewWg6D7z69+ymppl7aeOZDRFqyJS5oSbAJYVCYPWu2zmdvlY6afRwSxAkrH5y40BHR2aOxiRKtVwKes/LHCgPBqpWrzPRp0zUeHKKIFigbIQyIiM7Lu0IcXZG/6Ughb8Q73/Nilu3bduhZMgwqpUuVNu+Vek9Xf7z6yqvmjdfe0CWs/fr2y182D7GkRVyiRJ5x7lWL5i00HzBoZUUQAziamAIFv/26mTFx4SpgYOVsLQ6JnDZ1mnxsbla7kCmTp6jWRetyuiL+ZUtciAc7Ds+YNkP6/eXaTkaNGKWEgmXL6fihQhxi4pICRDLHyIa4EFcGdUgKBwNyng9TRBzr/7l8pXMqrj2IriiJC2AgwoB1yqRpeiDe7FnzdGoj8p1k8N1mRVxE0Pqwcd2QQcPMzu0c537AfFK7rmnXpr2eEkw+8H5Qvs67Ks7f5ENxExf8xj8G6IXzF5upU6brIYPl3i9vvuzaw8yRPOX+rp175Av+tjQKeS+Z/6G4pgJ1g7qfDKSJOvHKyxkQF+IgAvki/yCPY0aN0xObOUZCy8CPZ+S7LuSeEpd1mRMXvt7RrmzdslXKc5Oe8IwmhG3Z1W8rTlhR8Mr+Bz1NmikgOnYV1w/E+mPhCx0lm3MRBw5QRAty8/pN/2lmwhc56TglA1/CAOmE9zAKNj98zU+cMFExYTyYYMaPG28mTZxkJk+aogMfg8+jIkmNcwsiLiLUIfYa6dqlqxkzeoz0H4t0ai/SPiUsOKFuyjVj4uILGr85s+fo6dLjxo43G9ZtkA/O+Wbv7r3paX1cEb/zExchDRHRCAvTqEytooW8eOGSaiZnzZil7Yx9Z9IW4pApcXnOIy7koc3PBIm6FyW4EbcxcUmDuBBfBoGhg4eb5k1b6gGBDN4Ql5Yt2uhZLWzAlSlx4eva3YAuwY37jr0nIM9IAwNr0ybNdZCFNEW+kwy+25TEJRkQuZ45fc6sk4GfU4FXLF9lPqlVVypwHx3oVOPixzchXlacv5nKYIv54iQulCeHUzI1xInYVWWQfuqJZ8zvfvMH8/qrb+o90jNpwhRND+WaMgwnroUB5QqZevXl173l0OcualyDfEwC8grbFjZUnDRxigxQk8zQIcPNyhWr1H7H5me+dyPSkS1xQfMB2eDLctvW7XplW3IGCJ3G4V3EDycZbIcECaJjpYNV4T1X/DjbwxKtoF2BPO3YvjM4eI5ONZnmJpXwzp7de8zZ0xy9gHGw/yAsEg+mw9QWJpmbYhRO5GVaaPKkyap58jBDwUCFJgpSl02ePCghrkpcZLDOiLjIM2xbRgwfaYYNHSbEZaxeN2/anB5xw2/KVK6RxCVFnbCiU1VDh6vWi43rIJCDZDBfu2ad2pZQ5zMRJS5CfiBxHb/opNqnlHngC3WYd9GMQuZWSlogVLTRjOIgTiFBuo9LJquKhLgQvs3PBIm6FyW4odxj4pKauBBHJS7HT5thQ0aYls1bqxEkxKVH996mdat2HnGRgTQr4lK9tk4/6QCBJHHvAsJBGiBRc2Y/AOLiC8a52IT07dNf7W2weWF5uQ70EkZC+dp3fX/0mVw5ZHHjhs3FrnFhHxL84YTuIUJIK5T/yLzw/MtCBluoxmLypKky+O7W6Ruts4RDGFHh+Pc1LlyzhEcaNpnXXnlDN6CDHKRDXCB/J0+c0fRgLL196059n/2BOMWbVVP4n+/dsEhaiANnaFWtUk03oEuXuLCzKR05p9zSEdJZ81XIAKlTErzr5FUq0CkxNUCnroOLzWdX/Hv4DUFRd/IugzY76dIx82zTxs1m25Zt3nRR2I8ChHhgUGn9TvY+nSfpxeiSHXwzDSfXsnfPXtOmdRtTo3oNU6tmLQ81PHCvXt16Onhevyp93yMikFOIC9vc9+wu/WWaxIXBmnONeHe7EGrqJLvNDh402Bw9fNR3lULw2y/7MHFhUNbnKcLnGRo74sxUFZovpi/R/jB1pNqODI3HGfwxBPf2cYnYOTeZiBtLsCH0QwYNETKxMPOVcOKW8mCqKWHn3AixxOW5fzxn5s8T4pKsLaVoXwmCG8o9Ji4FExfiysnJ48dNNK1btg2IS+dOXc0Xn3dSjQEdPtM4mRKXGhCXrvIFYYkLEuHe/dsSl6aNrcbFN8B030sF322hiIv8Pnb0pJkgX/djR49X8nFSyN05GdCwW7H5llDG1g+e+X9Duh4EcaEOUhdYlXX0yAk9bqDSR1XNtKkzdRM8DLHJV9xpveX8nWRh8XchQZwoD84JssQFLVw+7VUEiOvO7bvNzBmz1WialVEYS7dv18FsExITTCW6IN5hkXtKXKReVq0McekqcfD2MHHhEhcO6IS43L51R8r+vJIG9mDR1QsbNqohqM7B++9qh5MGArcMTLwbFuIv9/maZjBiVRGdKWHt37dfSNR1HWjWr10vRGydulN/i0AYHDF2XSdf0EzTRMa3GAUSxdLTKZOmqB0FxqAWTBWNHzdBv9hVbf+ICIM15KN6teqmZ49eaRMXVrhRH5g6YzPBI4eOSJ/9hZIXSHWB4tczbRsh4qJ2ITyiXuEuIh48Y3oGolS5UmVdzUP59OrZSz48m2vdzbS+YASvxKWytwFduhoX3Hj9zH2zfOly6R/a66GRqhFN530r4hYN2OqvVieeVRQhdsv/556FuMxXTY3NzwSJuhcluBG3tm+IiUtU+A4gGmgXUOFzPXTwiNoToJanE+e5XYmSciB1/MuYuCDymxUk06fNMg0bNDYTJ0xWzQd5G7ix7yaD719K4mLDDAF7D+J+TAZ7tBKcH8TKog2SJ6QH+x/2QeH9fGVs/eGZ/7eeiFzMxEVhRX5Tfmi9ataoravGSB/+aVp9o+uAvMABbHg5BgSDusV0lUdcznvlGuE2gDy+ce2WLuemPmJvhVEuU0WDBg7RJfOR5Ic8AK7I3/mIy+kCiIuvceHAOQZvllay/8rF8xf1y5IpI9VC+O/S0fDVx2AfBe2MnIGAe/puWPznECa0LHTmDCysFiFMCAz3GRj4qmUaS98pChF/WV6LhkenX4oqnDSF/GPA5kuaaQGuLlgBRXwj8/UhFTR6lrj0yoS4SDrRtPTv119JA/WhS+cuSiQgMQUKfpNPcs2ncRGyrE6or76bBJG/eYZxN/YgbVu3NUsWL1HDYFbyQF5Y+ZYq/lHC4B8Ql88zIC6IuMPoffzY8aZd23Z6wjNG5RmJ+KHERd4tmLh4hywqcZkrxIVp3ai8iroXJbih3GPikh5xQVjRw7ksUyZPC7B3934d4EgX6Ssy4iJg4GT/lp3ydc07NarXCpZEs6RX3bnvJoPvLhviwn3iMGP6bNVQlC1TzlSWK0Brcfjg0WBqIl8ZO37offmdLnGBnPXvN6hIiAsaFpYSd/iso+YlBIIyhYiiPQpvMgiCNOUQhIv27vXXMiMuaPoOHzpqJoyfbMaNnaBaMH5jg4QReUIZOO8l5AMif2dKXOxUEVMqaDX4ugWoojE+hDyo8F6BnYy/x4j8o2PEzkW/BlOI13F5/vElCWFiymbXzt16WvNOIVJ84SoBylDwM4iDza9wnj0K8qjG2xFLXGpUq6E2FWgxvD5CEpYibdQ5BnbsfMaOHqsap3FjxpltW7d55K2gvOEZVUeuYeKClk+dJCMuCPcE1MHZM2dL+xynNjaQFogUhuP6fgZSKOIiwiq8ubPn6lQR2wZkOlVFWDFxSQUimWMUhrggdOx05ieOn9LpI2sDQdqKlLjwW4TBlHDZp2P1qrVmq3xhn5H4qJ2L+14q+P5lTFy4yHPykGmiVSvXyPtfmeVLV6qdz5ZN29QYNChfYOPv+ie/9b78Tpe4YDuD8Slb0S9auKTwxAX44bD0meXt27ftUs2Ot7Tdkpb8xCWhjHOIQOOSIXFBiBsG5Af2HzKHDhwxp06e1enMpCTL5oEr8nemU0WBjcud+zoQYEsCWEYMdMkp4fCedJB0MHzhRXUQgGeQjEsXLqlh7AUhIlZsvUiIt58O/IVgMLhcvnhZ4n1ObRsw7kUbY91lImgm9gj50umfWB6oZExcuM0zv95hdwWRZiqTlWb24EzV8qUiDjzy61xWxMUX6jXTpyeOn1CNC7ZgGW365khhiQv5wUcGGieIeSbvqoj7TIgLhshq4xITl+yRNXHBDeK7JQ0BYfEHNlCkxMX/m7C98LxwderCfacg+P5lQ1ysUHZogBR+2kmT2vlI/Gw+JJSx9Ud+2wEoJXHx3eAPRwEQR7Q88+ctUrLBswLzOwV4j/eJN0QIYNcCWSEdYeICvDR771oE6SskCkNcuGqd9PNe8yXKvYWfBwkifycSl7xDFt13CYNNEDt37KrlZokLJAXyQKdmr1aLopAOJrFTiOpsyPtvVVPDplgMUFZ4nw4Kv4gHV/aFgDARniVEQRx8qCrcxj+cZisR95lmwYCTVUX6rpVw3slvOk/inXQgjaVQko3GRQmF/wzNiwt733UTKTzz601hiIs+8/0i/MLUk8ISFxuXAtOeTOQd2lU6xIWl1z2694yJS2GRNXEJgfjTgTOQ2UENFDiQ+u9nM1WUEu47BcF3XxjiErjxQVlaMqdl7OdDQhlbf3z3/E5GXNx3KLNdO/eaRg2bmLffetfMnjXX0+yI/5ZEJPifJgiH9yEp2OUAyiUgKy788rXEJUifDTsHyIq4ANITdT8VbD64In8HxMVfDo02LygP/53bt+7qidAffVjFvPbqm2benPk6b67aFAEaDmxK+JpjFQGdDCQDQoEtDM/owDwi850OCNzXDefEDe55j681bFVQp0OKIAa8B6HAboavRvZZWbNqjTl54qT6ZTsbturnPb5y+U288Rc32H/o6gabfrnyDgSIQUE7dBHCxI5B4yBpsYMNz+m4sRfBf9Jz8sQpte9hZVXgbyw5k6ymitIph4Lc8Nyv+4UiLjmUQhOXwoqEVSBxIb+kzJYvW2GqVKpinn7qaSUu8aqiLBETF4HvPifExb/yniUSCQM7biysP7j3/05KXHx3kIk9u/ZJ4+hnXn7xVVOm9PtafthuQCgIK2V+p4K8Y+PsliGwBCwBPmkJ0uiGnQNkTVyygc0DV+RvS1x0H5fO3XSFEnlk30ErtXb1etOsaUvzzFPP6p4zrCpjSodOBDLCYG7tXCAk6rV0NBCO3bv26BQQv7kHoWFqCQNaDBW5j9ARXbp4SeKyTlXrdHh0llzpqLds2qLb17O8dPiw4bp6CKICuaGzweZmj4RFHFQdLkJ4kKP9e/frdIGmyb9PHLh/8jjHJMhXoYgSl8tXlRyh/dH7FIekkekj9qtZv26DDiKsUGH/mMuXrqibWHIr2dq4JJV038GdX/dzRlzSdZdEAuKiy6EfQuIizyH1rCps2aKleerJp02pd0qpTU+8j0uWyCVxoUN3tQwMbHbAVnehsINw5MoXPQPEw0ZcAr+i/HTFuvGhnYhA88TPg4Tydf2x90R0sA4TF/9dnmHs2+3LHlpeTF+wlw4HXBJ38r7A/E4FeceNczZISGNhIPEpduISFrlHvipxqVrDdO3SXW1lyGfeoe2sXL7KNGnUzJR+r6xp1LCpGThgiNm8aWswX09HgkYDmwLUxGoAGfh9P7hvSQCCGzQm3GeAQpjeQdvBFuUss6azphOB6HAeEUtbIS90hpAbiAidpe1sMEBkdROdOgMOwru4IQ5qt+KHTyeI1gT7A7Q4aH0QrmhQIFSQKJ1iQCSdkKEjh4+qkSeExfrppiuW3ElMXPIkkbikvwFdzkTCSkpc5Bn5BGlp3bK1KVu6rGnapKkZM2qMthGdtiWu4fhG3YsS3FDuMXHJjrgATYMdwCwi3CXAjwd5wA6lD53GJZVfYbH37Ts2Li6smyiIMC3DeUdlS5eTRthZBo5LUln4ar+jmhb2I3nv3TKmSeNmakvB1vYYnQZ1KJzvUeGkghvXbBHlbxZgI7liIy6AcF2RvzHyXrN6van+cU2tlxAX2izTQ6xS4pgJ9m6h7XAqOHWGNqUDiPhJOdhOhCtkwYZjOxud46ezd8L3po3Yj8i7SeeH9oPpIqtFwT8r/A3hgXBAiHhGB4Y/+ls6SBCEhRA37svz4J4v3LMnQWucRYgrU0AQJ+4BwtB4++lEg4OGiXC1DsZSJJJz4pKu+GXNNUxcdAM6HlGXfDfFIQ8zcaE9rvpqlWnWtJluTsdOwRB7VlV57dt7P2vhXcpd8pyyBzFxyQJe43EQep4PhMVFfm9Yv+nhnSpKBleinoN04yNCndi8aZvG4YvPO6tNBdNA27buMF07d5P75UzjRk115dLVKzd0ii0fafGRcT64sPmYKaL8yhIucUHLxO6+tJfIcHMBN3xErtQJVouxozNHUZw6cUY6o1t64nSD+o3NW2++o3WFVWVM1dn3rH9ee/DJgg3Hig0nmfjvQxAwzt24YVNgu4LQWUJiVPDLwgph06GlGkii7iE2rj7wA0JEp3tCCJSSGflnDZADA89k/sWSU4mJS55Y4uKdVfTwEBe0rl+tXKXTQx9W+ND069tfp4zRwOZMSCflTjuPiYs8iwq/KEBYXOT3w0hcAr+S+elK1PN04Qt1gaXdfMWzC/GRQ8dU04LGgUMPW7Voo1vY35VyQ7NF/VHIeyCBvGSaDw8ZXOLyZZfu0jmnt+V/1nDDR+RKneDohto16+hBjyytXrxwqalXp4HWk0EDh5rjx2QgJ168J/54+S9/hP0Pw4aThjCl4y1F9s4qgjgcO3pciBQHR4pH+BX2z7+nnVqG4QX+OWDaB9sWNC6QJ2xomDZCC4MNDSRG4xJLkUtMXPIE4sJGepmeDp0zkbAscakoBAWtCtOs7JLdqkUrU7F8Rc0flnyrTUsuhXRS7iWSuCz2iEtfJS7ejpraCIoBGg8u8pvt3R8YcREkEpd+Mkh4hoUJcQ3Dlajn6cIX6sKWzdtMmdLl9DiFuXPmS2PsYip9WEU1MBud4xRs/dGrbyibj7gki/cjAEtc2PIfbZMesijpCso413DD94Xl4ExhQlw6tP9CN1lkh+aKFT4yA/sPNnv3HNBpI31H/MjLf68TifTbvWfFfW7vu3+LezojSwwwyt23Z58SiWCw8h4liv9uArIR32/iABDIC7Y07BDMqddMD0XGIZaciyUu1YW4cBpxJHHhWhSgDsnVEpfSEJfebPkv/SWPqPvUU/cdi1yK7yer9jziUu3BEZevPeLy0YcfqdZn1sxZegYWNi39+vZT0qJaylwL6aTcSyRx8TUuDNaXZLDO63xzD2vEaWEJAfnAScCWuCScDu3CzwttpEmQjhsQdkdeLFvqERdW7Vw47+1yGsTfcWuRKo5pg3d8gXywW+w7b78ng2Ml06hBE8OBh+wRsnXLdsMGf3Y/lahlyW5ea/ys/48gMM6FNLz6yuu6+ZuWR1GmB79Dwv442BKhASv1bhkti4qCoUNG6PEBkEhtv/JuQt77nUhCfBEbjr1vxb1vn4XdOe6ZmsEYkk3h8rlzhXtRfmUoljC5QpqtTYslM7EUj7gaF3adhbhQth5pEAf8ZjArEnj+Q1w4Ubl0KRk7evXxVpCJMEB78cgPrX85grY58RMtBqvZOHCSM5cip4pC72aNKJH7lrigfSpTuox8aFZSEsPRChzyifG6GuLmWoiTnw+2zylRxKWUEBe2yz9z6pxETuIk8ckl7FSGHWgtSD9g6mP1V2vVCJKvaw4oZKVROL5eZY0OwwX5GXXfhR1kbNx0kFq8XA1jMYLFvoR85xlllMqPQsGWrQhpXrN6nXnl5dfMH//wZyGU7+mXPmfukEe4U8LikhbgpyGfv9bvRxBowNauWW9efulV6ZDYtfaCpps8KhLcJ9Pkn+SZt1Pw92pfNHf2fF3m/Oc//tVU+OBD3bGY1V3EBXHrY17++x11MrHptMJvW14WITd0fnQcCH6j4bC2JcGg4Ire958l8TOp+O7s+9aWhh1WiYPWLed5LMUreRqX6qZHtx66QoU6B2nw4P7OJTx/KXvqgmpchLhAnjheAvEGTnGr9dODHUzts1wAf0kzRumQBjtVdPrk6SCOCn6Ku1zBpimAxIVtC5YuXiofWa+a3/32d6bc++XMqJGjdCrVGstHttHCik2f+G3j5+XPj5y4MBguFuLyzlulTNvWn+rST7bvZ/VEznDijDl54rSSEbZhd8GOo8ePnjQHDxw2kyZMkUZQ1rRo1kpJDNvOc1LxsaM+5PfRI8f1S/fI4WNq/5EMh9OFDEAcEAl27dxjRgwfZV568RXTpnU7HTQP7D+sdg0BxD3vRCLK/zRBOsmr/fsOmrFjxpsnHn9aiMtfzOcdOpod23bpII5QVyxh+bETF0g19iUvPP+yadakhS4zpuy1DhQBqF/URVvf+E2d4CDRp554xjz79+f0oEbqgR6cKaLlIQTGlgHkxdvLCK0Y2hgKICShdNLp0Nnwjmou/HLz7nnGr6xCYJBgeghbE+7bjtMbEPwVS1bEX+7xLqSDZ0pA/M7HurcExA5IwYAgbok77xMeX9doVjgokn1k+DuWByfk/9IlS03FChXV+JNNBw8eOCh9yeEiBdvisySfKUL2+Rk7Zpz0ly9Jf9nGbNq4SdoR/emhfDh4wMVBPWqgsMBf4sPRBRPGT5SPvHdNvbr1dRUP4WicD0r/nRAPeTcE93lKuPF3cEDiQrvoLgTyr3/5q/TdT5ghg4eo7RfbENDWioS0IPgpbbjEEReW2c6eOde8KIPD3595TncIbdigiYJpipyjYSIIp0G9RqbOJ/VUFf+bX/3OPPfsC/IlUUuXmtav21AqY4M81LG/uZ8C4q5unfoFQ8KwqFXjE/PO26XML/713zUOVatUM5/Urieoq9c6QOIZBfUjyv80QXzJh1o16+i03e9+8wdTofyHOn2mgyTlJXXAGyDD8EjLj424sMybaZp//P1586zUzdq16np1s35jtTNp5NarHAB/qQO1a9Ux9es11PLg4M5nJfyf/eRfzcsvvWZmTJulWhgrbEi3c/tuJZ1sRkdbhmSeOXXGbFy/UfdiUa2ICHYpdIB0dpAAm06+yBgI2IjOO2RObktHxG/csnHczu07zcgRI834ceP1xGfIhCUmfOniL2ch2Q6S56fky5NDFTmrCDU1z/gy5P39Qj7YkwVygj98tTIgcRgjU1CQFzop7BborFF3kyZO8926ZZtOEcXy4ASbogXzF8gH5ztCHF42NavXlH6vXjFB+uV69aXfqyN9dinz85/+3Dzz9DOmWtVqcq+utJ/agk+kz0wBnhcW4k/dOvTNdUyZ0mXNL3/xS/PXP//VVK5UWe8TR+Jbtw79c10F8QtDnyeDPK8nV5tm0KC+9NUu6jUwNWvUNC++8KL51X/8SjU/mzdt1nalpIX2T1svCsFfv78oYRqX+/pV27xpS1OlcjUdgFnmSaddP0fAP5cMNW7YNAB/46auDNxs8lX6vffNhxUqqTEkREEHdSEqEBjQoH4jf+ASv5T8iB8R8MLzBri0If6y7JU4lHu/gg5gXvjeIAY07Ajo4BciZZkAP8gHCEwNIW1VKn9sBg0YokbKtl5w9b7ooxGeuirKelMcwDB2+7adpmXz1tIZVZUOqp5Xp6gLQiw8Ups7KDHVMHz/BdS96tVqKont0vlLXfGFJsgKU6togtDW2POisM1hyTDqawwFlUyIsPoBjcmObTt0fwcrkAy+DDm9WXfK1bJmr5jb6t7uVIs9waIFi/SrllUMECIICfYNfHWyQZ3mne8nZGjThk1KbCAi+MtSTL5Sd+7YqUusPS0LB955O+hi5HjlMvsXeX5DXPbJfbbvxx9IDNof3onlwQkaFwbHDp91kL6iinzw1PIJQ/Gi0keVzFtvvGXeK/We2pgwgHMfUuGRgqKFEhMJh+3+2Y229Hulpa+oIuNHbQmf/jvRbRRcNwVB0xQC4ZBmCBN5MGb0GN24Udu97X+LSvDb7y9KFHEB16/elE5zn9m9c69h2oI9KVCTs8yT34UF00FMCzFVxJTRqRNnAtgwmALYu2e/ahiw57DxALyrU0ao8sW9nWZS/5LAuskU+/cd0jiwmoUpgSMSLzuFEOU+wPHU8SkI5BHhEN7B/Yf1K55VTdSRoOz9euCSkzCCuuLCKetHCiKQAeolJ21TR5lKA0zhkU+5BNN91DOmGnX6UMr/8KGjeqVeUE60FdqsiuQt00QQRmxibJy5snlbMLjb+76gPg5PIelXWYRAUACkR38z9SOdh3aKvBL9mgqkhHfUKBB3xNfvfKxGxQr+0v8ocbL+kiQ6RK4SP+/dxE30YnkwQhmgMTskhHevkFtI6oljJ4odHCHBFNHWzVtVO8j0DAdx2tVmUe/kGoQDuYbIEQ+0g3Y6i+dsG1CouBw/IW3/ZAC2IGAXaoX85h7+k37C5iR2bSOIbUtFJW47LWnExX7JB/F4QFBtAnnyAOPhDUJ55RLWYhQHgnDD5W7/TgdO+T7q0PwoDtj8t2XgQDVaAp5r/iI2joi9Iu7vKCnoea4kKm62biDOfSVC+sO7xPIIiJSVRywfLBikGSijnhUbdMDOs/XSQTzKXaHg5XkUvDHUtw+TsItNCErC1viVNOISI0aMHONhlWTxe5jjHEsssUQL7Va4QUxcYsSIUXjEEksssRS10NcIN4iJS4wYMQqPWGKJJZaiFvoa4QYxcYkRI0bhEUssscRS1EJfI9wgJi4xYsQoPGKJJZZYilroa4QbxMQlRowYhUcsscQSS1ELfY1wg5i4xEgPSNT9GDFAQZKOm1hiiSWWVEI/ItwgJi4x8ue7K1HuixJWop4JqDdR92M8YCQTnkmdsscApC1Rzn2/FBl6F0sssfwIxO8DYuJSkiF5TDkEm87ZfLfiuCvOMgni4d5H5Er9Sbj/KMFK1LNHHclEnrFJFTvV5nvHRUh4J0FwY+uFWz8KEK9j889PiSWWWB5t8fuBmLhki6j4RoA0pkKk30UNCfebr7/TQ/Lu3WVbdXZglHLxy4Qy+ua+VAROAQ6XVZR/OQRh3rp5V8+/CT+7f+8bc+P6bY2T3kNCbh5ahMV99qDqQS4RFucZ2/DfvHFTjwWgw7FtI4D7vvymE+JsI94LnqV6J5ZYYikZQruX9l/yiIv4a0lD1oOxfS8NaDpTATfFCBunK5ev6XlEnA8EebFlc/fO1+bCuUt6+u/1azeV1OQrr6g8SQPheORzI/cgU2fPXNAznm5cv6VuIVSQFUgLZzdxECPEyr5D3AKtkf87CrlIQ9YIi71v4/Mg4pRLhEXu0blwOB5nm3COCucCKXFx3wOuyN+c3Ix7DlcMTmXGneRRQHzC78USSyw/fnH6gRJFXHRgk/CDOAgyDs+NYxJYv21YyWDdFReQ+0JUOERv+7ZdSgI4/ReCwn2IAQcecgAfxOEb1br42hhg0xiVLynAu0G6k/klv9GqnBfixCGDe3fvly/121pnlFQJqdm3l0POtpjLl67JF7xHquzzghDkd5ZpKBTCYu8/iLgUBcIi99CYcLoyp0ZzIBsnONtnSUWe3bt7X92v+mqVkhd7P8grN79iiSWWkiN+P1CyiIv4aQdQ92DDjMOz7lNAwxEQTiroQF5M0PwWgaysWP6V2bVjjxKDr+9/q8SFk4CXL/tKBow15uqV6+qe9yxxUT/cPHMlKp8s/Pzw0uzVgcAP68YXwrlx7ZYMdms1jmiFlKDIfaaROLl4+bKVQmAOmpvXb2u8qVcFgTA50RhNDfGw5ZQQz6KEK+794o5HUSFCrl65ahbMX2BWrlhpbt1Ee5bEoSviBHsYCMuypcvMmtVrzJXLV6TMONROHluNi82zWGKJpeQIbd7vB0qUxgV/vcFY/iQOdgBNFp4V9551nwLW73TIS3FBSYEM9iuXrzLz5i5QEsDUkGpb7n1jDh86asaPnWg2bdiiZIGyQgtz59Y9nb45fuyUOXb0hDl54oySBk2rFTd/whB3SjyEOODf1cvXzbmzF82pk2fM5YtXNQ7qDpErBAXCMmfWPBm8Vug7xAXSA9Fav3ajmTplumpd8JO0ad0KpdcFzwmLNEPQNO5uHG34SPh+rpEq7HQkU/eFFcIjzgXBEbQrO7bvMBPGT9CrfY7R7b2798yli5fM+bPnzYXzF83tWxDQb/QZHRKdxY3rN83+vfvNuDHjpLzXS/l7p/EWe9pjiSWWh0f8vqjEERf9aiNsQRBGKuF5VFys2LiG4BIX0muhGgf/t3UThrpLGIg9jQfP8u6FEcpb6xfw3fD7zOnzZtTIMWbtmvVKYtRPee/mjTtm9sy5ZtaMOTKgXFTyAGE4f+6iamFatmhjGtRrZJo1bWE6ft7ZTJk83Zw8ftorQyScPyHg7tqVG2bj+s2mZ48+6letmp+Y1i3banxOCClSuxVxRzyxryEuUyZN0yki0sB9CNXmjVvN8GEjzemTZ6ViedobfZ4CTHkdOnjEfLVitdr1aDlFxDMtcd0le8fet/4CwrQo6L1sxQ0vE0n1jtwnj4Pn1q2kI2jDzrvffv2tOXv6rJDLqao1uXb1WvD8yqUrZtHCRaZtm7amVo1apmaNmlKfOqpW5vrV64E7lk+fPnXGDBk81CxZtCTRUDeWWGIpmRL0OyVQ42LD1c64AMEtpICrxpl3eN+K72cY6h7YDl/A395KnTwiou6t+O54dv/et3nkRa7WT71nwTMfDMxM+ZC3CXFCfD8Jd/++g+bLLt3Nti07pFBw6D1DC9Kndz8zU8jCLSExqmm5fc/s3rnXDBwwxHzZtYeZKmQFctO7Z1/TSojM0iUrzN0799UPG/dkIK1oUSaMn6TEZeyYCUpM+vbpbxo3amoWzF+sWhziAm7fumsWL1ompGaski3ukR60Q9jmjBoxxmzcsNncvnk38D8S5JtcyR+mxubOWaDETPMmFMeUEnbru9d4hUWeEW4g1j33iI8NGwk90/IrSOy7UWL9s4iS8DP3tx+PQHy3WgdD7ogrdSrBvQidyPFjJ8yA/gOVkKimBJHLtq3bTdcuX5qOX3Q048dNEGI6xXTq2EkIcTN5tk1Jj5UL5y+Y0aNGKwG6fOmyfzeWWGIpsUJXIv1NySIuvjC9wHTBieOn9atdV7HIb6ZBmH5gcPTc/aArbE4cP6V2IWdOndPBF7dMWWgcEfwOxdsbLL9Tew38YLDEbwgJbhhIr0kcCF/jIIMz4WAcy5QGBrM2r7iiHWEAJ+wzp895z9Gy6OBhdPnwFSEfaC7wg3hy1SkdPz6Qpq1btpt2bdqr8SvvIQy+VyRukBM0KZABiAtTOBCXiROmmNVfrdU037l9X76Yl6rGZOb02YH/Qf7a3yEQPlNN8+ctNGvXbJC039D72LKgeUGDcl3yivSCe3e/lmfrzJBBw8z6dZs0veQbZYfh8OSJU830abNUi6MizyxJiYIlLnNmz1ctkpaTFRtPR/DLW111Rsue6bEjh46Z01IHiJs3aHv5hhvcosmhLI8cPm4unr+sYdr6oFcfGk8BGibqByuoDh44bI4dOSF+eAO0LVvSRzmePXNe6+wlCeOUxIV48K5NB35dkDCpH9QB0gjxxB+u1BnqBFfqMXWfOkk5u4J76iVxOqbuz2v7wE/SSrp5h6m+oxJf/OS+akR8+UbIx4F9B0yP7j3M2tVrgziSD7t37ZY6NlVI50ZdZXT/3n0zY/oM82HFD4WoLs5bRSSCBmbO7Dlm8KDBkvdH/LuxxBJLiRW/Ly15GhcRlv8yIA/oN8h88Xln06VzN9OnVz/T/cue+iXPMwYdNA+zZs413b7sIehp+vUZIJ1xL9U4oH04euS4koGoeDO4QYTmzpmvg+/woSPVLmPb1h069QG2btlhhg4ZYbp0+lL97dm9t1x769QJgyx2J5AHBhBsUoYNHWEGDxxqhsk769Zu0EGMvGTQYgCZN2eBxrFnj96apk5fdFENCgMR5AT/VgkB+bxDJ7NT/LfaAsqEgZnwZ8+aqwMTfkK8MNJlkINYHZaBmziPHD5ap46wlSEdQVkhbl4L7CBNWOzPwmAJGKT37TmgpKhe3YZm2pQZ8vyO1gvcEqetm7ebfn0HSJzmeeGIkF7iMm3qTM0P4qdiw5J3rR+4tSA95Cl5dO7sBa/uueKkgWeQyDGjx5uOX3Q2Pbr1Mr2kzLtKng7sP1htgMhLSBtTT9Qb8po6hDapu7iHWLEqCi2Y56kPwvHjCfFAezRyxGjTTUgjaZ08aaqunOIZhGDBvEWms9QP6iD1An+pT4ApPOyPIHWUy6ABQ0zf3v3Vn2FS39YI8YNAUW6E0bbNpzrN11/qfS+JJ5q0Des36fQbAlGChC1asMQMHTzcDJC04hfp6t9voBJWCNGO7buVtFIXB/QfpHFavWqN1NW7knc/qCHu1s1bdZpn185dklY/Y0V4dv7cBQFE/YSkf7tqZho3bGw2b9qsRMYKtjArl68UQt1N4rkhKJ9YYomlhIrfh5YM4uL6J8IgdmD/YdO1S3fz4vMvm/LlKpo+0uEzODVv1koHDwaE24Kli5ebRg2bmPdKlTWftvvMjBg2SslBq5ZttMO+dPFqYhg+IC0TJ0zWaZlJE6fIV+VsfY9BgC934rBn1z4lC++8Vcp8XLW6DnjEAW0Gg6b9Gp8xbZY862nGjBqnA+9YecZAx6obBi0G9XlzF6q9SIfPOppxYyYouarzSX3zhZAU9mQhv0kTgw9xYspI4yqCtoZBnQEaf/hbjV6lrCBm+L99604lQ3XrNDA1q9dWogXxYGDWcnTz2wf3lYT42gPSDKHjS52B8ZNadU31j2uaZk1bmi2btymh5B1bNyCQkLAJ4yZ5G9LhrTxDA4JmiDy4cP6S3tcw/XgQHiTo8qWrqr1C04U2goEcv0gr5YY2A3KK36RV04EXckUrAYktW6acKfPe+5p2Bvw2rT81g2TAhjSS98S7hdSZN19/2zSo30if9ZYypiwgq/gTSChv0Dph8wN5YwoNQkg4/foONIcOHlVNCdomiNH7ZT4w5T/4UOvBxPGTFRAXtFTUE2yWqF/cp/526thVSHknNWRGY0Na3n2ntHnv3TJax4YMHqb1GWKCRgVh+fuihUs0PAgJxLC2lNEntevqlB7asf17D2oboB6Pl7ycPm2mkqXWrdpIndqvUz1oTdauWWv69+0vhGqb1AE/YxFJO50BxKZzp86mRvUapmqVqur2yOGjUg5SwL6gxVm/br357NPPVBvjEqBYYomlBApdgHQnJYa4EBZh6he4XBk0MPxkQKCjRgOxQQYRvkgZAJgSYfDm65cvbQbsJYuW6UC4VwZsvlYhBXzpalrw27+CubPnC7lpq6SDQY5Bki/ZNq3a6WoZpn7wC/JTrWoNJRoQGaZy2srgyJc+hIMv+s+FjPA1vVueMxWwdvV606J5K/0iZmqCL380QE0bN1ftDWQLjcwEGcQmyaB4lekUST/EZeGCxao9YnWNFe+Lfbt+1aMh0oFcBn+bV5Qbgx/aJ76yCefTdh3MmtXrVCNk8zhcbuQD5Y32CgLElb/RJJAX2NSguakneTtzxmwdQAlX64W8v3fPftVAjR0z3tMKyD3iA3FhcGaQV3sVnPOY90QgR7uE9IwbO9GMHjlW7WRGDB9lPmv/uU5LQVghTgzMEBmMfSEypNMK8fxq5WqNW9MmLZSgQNQYsNtL2pk6Ia2QI7QftWp8ovUJoskzSAt5tHTJcvUrQfhTQD4zdXNg/yHVeFG+gwcNVb+YmkMgJQvmL5IBvraQiDq6VJ0pI+oO0zikFQ3ZpYtXtEzRFEHKIRUQDogMaVsnBKbOJ/VMXSGzTBMS5nAhIO3afqZkhHxl+gni9WXX7mbzpq1az6l7n4ob6iHTYYuF+Das31jzlbZBfUSTiKHt1MnYolwx7JKLBqZXz96St5u1U0kQSfvZM+fMwvkLzYB+A1Tb0qRxE3lntXws3PEdCXH5+huzYd0GycdPlbjkOwYgllhiKVlC3yndQInSuNiBlPD50mbwbCaDEkaifLkeOXxMiQsDG8SFzpxpEgZrOnA2bUN4d/7chaZ+3Ybqh02PS1zQilSvVks3S4MY4IapA76EGeiY/mH3WoxdISpoOvjCPn3qrE5fMaAzMEFySssXf/kPKprmTVvq1339eg3lXlmd8mFw5709u/fptBBfv0xbEF+us2bO0ekU4obmxGpcDsrgpiL5w+CHsS73yQumQYgvWhIGV2/a6HslSNg2QIoYwAcOGKyaAR2YnXzWvBbgB2XOlBOaGWs7hEB4sMkhXOLc4bMvlEBAUALiIvmFxoUl2vqu3CMdkBVIAtoqtVfBOY/xHjcSLgM7pJJpHbB+3UYlcpBUSCWkCwLIMwZo/CStlvwgEFnKhqk5/IMcDBo4ROsMU3OERb2BWLUWQrpuzQYNG8Fv+y6auwQhrwSQNKZmiA+EBbJapfLH5vHHnjTTp87UuEA20ay1ad1OySukxQr5jhvyDBsYpu6Y/uzUsYupV7eBeeWl17SuQZq3bN6uBtVoqSDSaKEgNdSnndt3a95BgqkDaFf4zTQT2qPOnbqaHdt26cozjKr/8ewLptrHNTROoHq1mua9UqUlbwZJezkpeXJD91+BuGxcv1G1MKSXuGL/YokMS6YxwF2+dLnU95ZC3nvr/i10SgjEhaXQnTt2ViPfmLjEEksJF7oG6QZKnsYFSPgMwqxaoTNn4MAglcHo8w4d9UuewYaBBYKBOp0OGq0M8WcQY44f4sJmaIgdpHnOgA8BQJPCVzuDD4MiA3PLFq11wOfrljhATPiiXTh/sU6VMABBSCAu7CALQar0URW1A0HLwyAOKRo6ZLiuxMEN/q+RgRKNCAMyUwiEzyDFQA25QOMBIcHgFfK0R0iBiuQPz7CDYNDCdgR3pAGCtmrlGrU/YbDjHvnHtAvxYFBDS8D7Nl9t2XLFPXkCaSE/mfohne70CQMxNixoNfiqxz3vQ5SwcfHsbuZpWSD4y2CPpor8YHBFtD4Bv5yBW4eIH5oFNE5oRRjsiZ99h9+QIw3ffw/igiEz2gXshFh5BcFo0riZp3ERN9zDsLhJo2YyAK9UckjcV65Ypdo1pvyClVeIEx+I8pDBw7U80LhBclo2b23+8ue/afpIM/lGHaJOQLyUJIYETQtTSLwL0SOOkO9S75bW6S2IC3mJBhDCSZ4DwoAMY7NCnCBvaOOIN/vnbFi3Saeb8A8CT/1Es/d+2Q+UlI0eNU4NpMmfQVKnmR5imujre1/rVFDfPn2FMG6QvP5GywL7lXVr15kli5eqVgahY+BIAKaK2rRuozYxlqDgfuWKr0yvHr2UwFhCE0sssZRQoQuQ7qFkaVx88BvywYDMgIN9ASp7pgLo/Om4UYvzLnt/QABq1vhEpzMwKuXrFTsBvkSxl0BYvovanPcYyFHNQ4oY1BgwWQmDLUOjBk2UHEAK+OpFc0CY06bO0GkHDH4ZFIgX0weQHQYtsEIICfFBu8LqGL7qGTgZhNAK8fXM1BQDItNOOl0hpGj7tp2qNSH/mfLgng5WiKSRQRRiQjrtvikM5PjLVApTQxAijFohCtYglakWBnDeZ9+Vo4ePK/Gym8Ix8BImhAA/MQxmumbO7HmaNqaMiAdaAVY0oX2BUOAfZIwpr/59B6q2BH8oN/xko7zRo8bqdBFx1GRQn1z45axlLn/z/q6de1TDRdgQScqJeBIe/hJP8ok6ypVpEcoGexCmp9A29erZR22HyF/yjmkY4l/t45pqo8KOvhBF8r5D+y9UCwKRwT+mcSBd+E98IAYNpT5gfEtYTA+Rp2+98Y4SHlZxsVIJA10INUSBOqLTc45ASiC22ApBdFdK+aBNqVD+Q53+oz5wj+eUG2SXssTYl/q4SeoYeUUdwM6pYvmPTOOGTTX+7dq2V00e2kHijT/tP+2g05RMJ0FCsdOZOmWaGtDeuXVH2vf30pb2qQYFGxVdcST+s9Hc6JGjTYvmLdTo9sK5C5Ifp83cOXN1XxdWDx06eEjfR/BrxrQZej9eVRRLLLHY8bxEaVwYoBic0K7wNY3Kn0ECgsGARkde6p3SCoxpISMQBYxmP3i/gmoF0Mag0mdKia9q26Ez9TJ+3ESzbIm30yuDANM0TNl07dJN3vtSbWIgAhAcBjKmkdDklC1dTq8LFyxRY0cMQpkKmirEikFniQzgDDjYrwBvlUlPHeyYBuKLmgG1cqWPTSMZcJgi0jjKFaNMyIUdpFl2y3MGHf62ecSXPStmMCRm+oOBHLIBacDmAUNOBk/sfVq3aqvaGQZaBlHKE+Nd7EbQ9GDkmUdasG1hqug7JW9oijT+QlQYJPGPPMV+CBKi5ST+YdsBsWQ1DNNnWlcknvjL1AaaCuxyKFMkgbREgHjs2L5LtVIQEDt1RRwVGk+PYBBXtBjEDRsoyAVaHwxXsTN547W3lJhAKiBfkNMKMtjXqV1P04JdDnk8XwgHz4k39jvjxk5Q0kb9II3UGdyhuUMTRx1o3qylefed99QWBc0aBA3iiIFw1SrVVQOFNgTth5dwozYt1AfILsblEFg0KdQrpnSov9Rx6nWVytXU5gfSB9khLaQTQsX0EPXm+edeMn/43Z/M3/76hKn8UVUlxUy7QbYhPRBK0kgZsjpJpyU7dlatyJ3b3sqi00JIBg8aYtasWiNx9VaeQWAgN127dFWD245fdJL63EVtWLp17SblutPcvE4doFJih3ZN6uRAIU6zpGwSl23HEkssJVDoGnQ8L0kaFwmT8Flxwtc9UzYMxgy4GFEyUDJI0yFDIjBq5euer0sGF9T52DhAcPhaRmNibUD4ikejsHvX3sBWgoFghXxxQx7o/Ply5ktXNRB3vOXQTA8wcHBFk7F40VLTuWNXHaD4emagwI4DAsFXOKp/vsqxe2DlEoMtfjFVhEaHgQ47BzQVaHHQIkHAGPAhKvjHqiNIF+RA80aENLDHCmRJiRWDuviNRgdSwgop0s9UBAMqX+l2UCZPISVoe1j1xEof/OO+JS66fPjGbV3NBEkkvcQR42HSpnGhrESIJ5qdKZOnKdFwNQyQKTRNGJ9iA4SQ1y5JiQJpIWy0VmjbXOJCPIH7G82XXbnElBRTTJQlvykfpgrJS8gLRsCQG8gcZcPUCfYukFpLuCCyhI1NDXnDPcqNekhasPOhjpD/lA/2LISP4SvaPYgy/nOf6TtssFTEf5aZY4zM1A9TQTrtJPHA+FZtkaT+QjQgjEzv4Y7pUYzQmaaiPNGWYbSLQTEEjCvuqYcQn969+upUGKSfsoF0TxJ/aBusdlu+bIUQaKkPvkBAFsxboDh3lg0E2c7f07ps3bLVcBQANjD9+vaT8MfqvbtCeqzQIZ04dkLyZLBZJ4TI1o1YYomlBAv9AP19SSIuFlabgN0CBqIMmkxNoCnAABNgfwIBYekyAwBftPa0YgZz3mdQtl/rfAHTqTMYcQ9NAO9zT8ORQR7/1bZCnvMuBAptCQQIkkQcIBkMrMQLDYRdNcLXLuEyGOKWd3mmA676RTg39D20MDqFJOnCMJjnpJk4oVlh6SzkgcGK9xHKg2kwiAfGt8Qb95o28YN0kwamRgife6qx0Ze9TcnwD6JEfmqYftwslMCIO/IWP4gj6SKftJwQKR/yEhucGdNn6VQScbPPICtomtBsKXGSe5acJAPpIC7EHVIGEWI6S8tJguY5V9zYvz2iJXmORkvylfylzCkTL29valogaZMnTVMygwaKZ0ANssUfWwcJCyNqysySGXsft5Qn+UIdoA5BTIgDeaP1QsKnbvAbP1y/AX/zHnG2ftl6R15Tz+yVPMcf/qauUV66FFrIOtOfaP3YK4e0MoWKHRcaIUgThI/wiJeWo58XaFrsFA+CQS7Lo5lC2rRxk5IS1aSIE4xyITA3rpOvtyRttyXeN7XzscJzDHynT50uHw+HvXTGEkssJVvoB+jzSyJxIVwXdrBiIPamCiTCMtAyeGBPgg0DxOXggSMab9x5GgwffroS7vnAXwVhWPj3otwHEP/IL4Uz+CfAH3xtvkb6o3H1oGGKO6ZemJphjxC7gy2CP9jvQAxUmyH3bf6oX0EYnl/khRX+ZgqGaSk7sCpw67sPfruQ+4Rhw4LYQeTQILEHCYRJy02EwZIVQJAWSBLEwZKTBIj7fJD7xJt8Iw023FQI0oBb57cCvyT/sX3BaBbiQpyJk+aPwNa1oB5mCI2HH7ZNlz5D7DWZOP6471g/NU1+/PgbQovGjakrNI/YakHwIDYQF6ar0EySd4itUx5o09+LPwSgj/UKMVm6eKlqXc6cPiPENe8gRU2Lhk1ZUJ/RgH0jeUrEWJp9WojUIt2Ujo3o8gnh2LBiiSWWkiG0ee23SgJxSQUJJ68T9QYjryP29noZOWKM+ahiZVOm9Ps6BXD+7AVxgwEpHW4eyLzEe+IlaUyBYBBMgsCdPzikRngwyQ/1U9IJMUPzYI0rCcMKpAEth04xyVe+zScd4Px8Ssg/K/Ib0seRBoQTlGEGwH/IInY9TE8xJUG8bVh82R/Yd0hXeqFdcPMogO9PlP/WH63wzt8Bwu5TQYTVMqyQwY7knbffU5sdVqbhd0IehMMpCP571h9bbpH+ZSquPw4gdNjKsN8NRrlMS7HPDjYs2O0w/YRdGPEACXVL20yIuIjwN8a3X634So11b964pR2BrhoiXJyLGzod3XgOv+VyT8p23979Ug93mKuXr3ruw5Jt+mOJJZZHV2jz9BMlnriEYAdA4sggjt0IRpMY5vIlygZb+tXoZ1oqpJWGcJojoIOFH6+MEXpX/ZRwmYbAPkNPiOaeL5QRUypMFTA1EoiNqxt3YMX9jdi/ufJemkDjguaGKS/KIAhHgDYDWxHipQO6P3C6aY3yU2Hjg1g/C5Iof3zQcO7duWdYrovhMgax2L+gEaKOu3mdFULhJSDKfWEh/qoB9aGjuocMJIxdmDHwxg6JaVKml3Ab5HcC8CS/oIk5e+as2qswLURHQN65Yeu7/PaFKUU2qMNmxq2bscQSSwkX+gnpE2Li4oKLhAsYELFrQOvAXD+2AdgoEC8yLVG7kh9pE5c0ofHKN1hkhoR8lSuDP9oa/dsVP8wEibqXjtj30oEVP63BPefKdBHagaAOuXDTlyvBryj4wp4lTI1hp8LUClqnhHg8SpA4Ux9ID3Yy1HvsX6wNkpaJuMmX7/79ZELjz2hVkIRFvmqcYoklllis+P1UTFxcSJjEC9LC4IiRKJoJpj+sIa6XSQXDy9SIMLJFOG8Ki7Cf/J1M3HhYWIl6li7SFete4kndUfj1xw6cCfUpE79zITZ+LpCo+48SrNi//fyNbLeu++KQcBxjiSWWH7/4/VBMXBwQJ2xcICnEkyvq868hLYEdSSJBSYacE5figiv8LeWgBMEtj+IWGy7xkDyl/nhl4f0dgDjaeBan2PiVJLh5DR6EED5SnOHb9CZDLLHEUnRCG5N2HxMXB8QHknLv3jfmG2fFDvcgMR6h8TIpTFTCKFLigkTdLwpInpAO1XCQHsqluIV4IH5cqEMKqUdhDUxQb4pT3PwqqShukTCDKdniDJ+wbD2LwoPIi1hiKSnit7+YuDj4QSDpN/fZbwRNi4D5/rvspyH3vE3LSIy3CiIVvE5V/C1EOsgftUPxB2mbZxZFlkc2DMIjfAnbmy7ztuNXN0UpNh6I/5v4eBvZfavTd7pk3c8XS2AS8qQ4xca3GGDL3q4m0zRHPM8p/HoQvufmu3Yi7vMCEI5zpnWZjgu7Gc4zYl8Y/lYJucslNO6STozzXWinaQ+PxG0sD04k/215aJ2w5ZYCtnxzCeoFgx5X/o4KtyjhxoH80IHev1+skDAJX9uGDb8w4vsZExcH30mcvpb4QVzu3v3G7Nq1zyxZusJs375bN+JiRdGVy1cNW5FfvcImcVf0ClgB4eL6tevm5vVb5solee5vSuYCY1+WW3ubf7EZVwhy/8L5i2bn9l26qy871Z46cUZX1bC3BleFv2HepYuXnd/5wTu6sR0bkkn4rNrht4uEuAn4zcoqlh+zORlbzXPYnj1mIBfQzfJC0GeSN/wmXmykxrJtNngjL44fO6kri7y9bLw6ZYldUJ65Eqd+PGgwjalnYp04rQdpsuMwq7/IK5aKs4kcV0AesllhuIyzAv4IKAc2NeQ3R2GwU/QGicP5cxd0FdDVK7SL5KDdaPtwrtevUuZ5v1NC2pRCfvP+saPHdJ+YeXPnmaOHj0p9lToubZS2cFnbw6Wc4fIl8VNBH5CH8+fOm21bt5sli5aYXTt3R+85E0vRi7QPPhapFxwrwR5AbFzISeVa34K6Rh/IUR0OnPLMFtQ9z/9rWifYf2jOrDm6pP/ihYtBGygu0Ab27N6jbWPVylXmnLRP0nrNbztFBfLghuQ5O2ezj5O20SVLzVcrv9I8gmgk9GuZCu8INyhm4iIBCB5m4vKNZMLNm3fMihWrTOMmzc2775Y2des2MN269dDTbvv27qvblPfo3tP06d1H/+7bp18+DOg3QN317NFL/u6fAE6b7i8Y0H+QHiHA6btDwOBheZC/e/fqbWrVrG1eeP5lU/6DD3V/jZ49+ujeGonoLejlX6Oe99F9OAB7c2g8egP/d764DdS4cSQC7hs2aGyeefpZ89qrb0gcPlc3uQThsqU8Ydkr93T7evkbN5yHw9k7VSpVNUsWL9NdW7UuSZlZ7YNqg9x644pTzhkhXCddRLkvCkhYpO2OkBaOCOjeraeWxYcVK+npzexom1dvhunRAZTdgH4D8+V1trB1oZ+UC8c+fFKrrnn8sSfNc88+bzp17CTlFd0O0gWnQ9Neop71Azz3f9v7rVq2Mv/4+z/MU08+ZerVqWe6fdnN9Oop7cBC20QOIH7RFvv06iN5IG1e0+qBMCt9WEny4TnTsH5Ds3HDRu1EYylGkTaChoWjJWbNnGWqVK4ifeYLpnGjxtLn9fb6bKkv1DHKjDK0cMuyMKDuDugvfWe//ubLLl+aCuUrmL/++a+mbJn3TccvOko/T18/SNzQtxY9GHeqfVzNPPnEk+adt98xn3f43AwdMtQfl2hrRQPbjgFtpmGDhuZvf/2b+aBcefnwXO21Dbf/zFT8/rCYiYs7jSKwCUiGbBJWkOCnn3j9Sperqwa/c+eudD6bTKOGjc0/pDN69ZXXzCsvv6q/6SCfeeoZvT7218fM3x77m17D4D7461/+Kp374+bxvz0RiScff9I89cRTAfj7SX6L/7/411+Y//r//Ffz3//ffzL/8s8/M//xy1+bP/z+T+bPf/yr+cufHpNGgf9Afks4eeDv/HhMKg/4m8QnGYjTExKHvz/9d/O0pPNX//Fr8z//6X+a/+f//q/ml7/4d/Mf//6rfGlw37dhaDihsMLvudAwn3lWw33qyac1bP7m/h9//0fz05/8TOPwL//nX/TZjOkzldW7FVfrllyDOuXWHb+8iwS2PiVDjoSDCo8fO64d0rN+3lBXnvvH8/r3i8+/KJ31i5pvefX0aXWj9SpbyPvUfUCYv/3N78xP/uWn5p//9z+bX/7bL81fpHOm3Ahfy1IQ5Q/vem3BIrouFATq1W9/81utl//lP/8X88//55/NLyQe1JOotpguEttQftCeyVfa6R//8Efzm1//RsL9hflf//N/mf/xT/9D2ul/Ny8894KZOnmquXXztl9qsRSLSDtEk7JwwSLptxtpe6A+MGg/+/dnpY08p/foOyhDrUdJ+u5MgB9a3yWcp596Wur4E9pv/5f//38x//Tf/sn8u/SZf/rjn/S5tkupO7gJ1+lcAb/pe3/1H7/Sevkv//wv0mf/hxcHaX+Q/H88+w+Jy9/9Pt7ra595unDAL/x9XvoiCCO/f/fb32kc/tv/+9/Mf/uv/03jNXrUGHP71h3po6VjzLZv5D0pb0tcPNJS5MTlW5+4MMAUIvLZiJ9gC8gKG5qxNwsEhnuo3JcvW27q16tvXn7pZf2a4oA31H6rV61Wlduqr1aZFctWqLvCYMXyFT5W6pV7y5YuM/Pnzddj/N8Xpk6HWaVyVT1ReeaMOXpII1MlbMHOIYtsfqZxWvmVquIiIW4i76fA8qXLzYhhI8xHFT/Sgat0qdLC4gdIHGaq6nHxwsWqGl+yGCxVVSBYJu95WBaAw/ds+pKBMFHvcjYN+UteE4cxo8eYZk2aaedAI3vzjTfN22++bebM5gTqG345UnmptFKvpAJDii0sieHq3k8XlhjpFJTvVz5Qr5KhsOL7gV3VhvUbTYvmLfTrieu8OfM0r9avW695bst59ao1kqcrzLo16/QZWLd2nf6dDXgfLQLlO2TwEFNV6uPTQoioG7SPyZMmy4CxUMJeJfVxpdZJfhM3D9JuIkAZc3K0C+LOVxnPAsjf9hn1aNrUaZp+22FyyjRxWDB/gdYl2qbbrtIFeUidU1Av5Zp4b4XmL5g6Zarp3KmzeU0+ahi8ateqbapW+diUKV3GLFq4SM9Zcs9tiqUIRbKZqZn5c+ebunXqqrYFbRyaF+osdZIyoy4m1svCY6Xtu6V+0B5pD2+8/oYS9GZNm5mxY8aa6dOma59JXGx/F657hYeXxsWLFqtGhT7iz3/8s2pc0AbRPmbPmq1jC332siXLgvcKh7x+nbygXZMX48aOMzWq1dCx47VXX9M8ef2113X8uFNY4mJF3vfsyzw7HoDNmx4bonaouUN+4uJ2/EUthOEPNt5A5hmcYnwLeWHqYe3qdaZJ4yam/AfltfIzP0dGEGcMAG3G3L1zTw+N0+udu/I+B/Dxtwf+vnP7Tkrgjp1XMS5kXpzfDMYcSIcK/O233jZNZdBeK4MHO9yyEZ4e0qcbnd0XELYX/j1w9453lXupYOMYBeLF1+K+vftUzVexwoemUYNG0hkvNmdPn9WD8GDMbvw17j5Iy/27eekJ+x0F8o33qA+QD9yywyo2CzT82jVrmw/KfWC6dulq2rRuIwNEVSVO5FUe6/bYNuVk2TegnlnYe5nAIzBeXbFQ7ZyDoP6GkQuResoguHP7TvPF5x3NhxU/VLUzc9d8YVIegPy2hxVqHghovBxJQL0N6q78HUDrsmdsHgXb+G19P3LoiKrWy39QwdSrW08HCs4fIny33N0yB17d4Fki9J1UwI3jDr9Onjhppk2Zpp1i5UqVzcgRIzVezJ2TT166vDi7aU/wNwk8t26+eO97f3v+UV+xd4GctG7VWgeIDu07qD3Fl12/NB9X/VjI91p1p31NLLkX27bkStvH7mju7LnSVzZVAjl2zDhz4vgJKYO7CeXn1WUM+726lAtonZe2cfH8RR3E27Zpq2PHF59/oW2UuFFf6KtoQ259zgVs2+I3NjyMHUwJQRSaN20uHx0b1L6G8GkfxEHruMB7X94tRJxse9G+V/rd+/e+1qM9Bg0YZCp9VNnU/aSuGTp4qGnX9lPzXqn31OaHOAfjfmFE3rfERfs7iYMtY/s7VwiIC4ElkJdcJKQgwX8Jx359YxOBcScrVSAGixctk86oralSqYrORZ455R0KF04EjSWIr/rHl738wT/7t7hJC376udIQtm/bYT5r/5lUvDe1EfC1q2pnwrLCbwc2/O+/Sxyok8G6T4T45ccDsjZ82HAlCBAFtCYMkgxkDObaEUiFJS88//y4FCSheLvALxoCYdDpE4fJEyfrF1StmrXMlElTzOZNW/TroXq16vr1woBp00S88CMgLn5FdkmIW7nThUeCqCvetCK2WVEkJipNWYt9X/KVPNkhpOXzzz435d4vp8Rh546d2glB8nBj88ASDe9v6oN3xU1h4kMeQA7QuEEgW7VopVo2DBJdoT4TjtcGHGhcMoWtq+KxgLLDuJCvxgb1G2idGD9uvBInyrZQ+Z2BYHBIeyAOfM327NFTSf6J4ye1bCBTaEApn1iKSChrAaSE8ucrnmn9T2p9opowDuekznp10dalvH5Ofwd/FwJ+PYU0o3HgY7Pax9XNwAEDzYH9BzR+xSKSTsjA1s1b1dasYoWKpn279qol5aNQ88u2Q8kXG2/b1iLTViC8cBWIXNnp+uCBgzpbUKN6DdOiWQsl9LQP7F34EJ87Z67GFT8KLeIF/nh9dOZ9eybIT1wk47RjtRlRVILffkK1wAhfBiT2ZWHlDCs02rZpr9MyqMMPHTysBcFg4A3SeQOgZjrxRdy4W8jfXuEWDOuWwsT6/IsOX5hS75ZSVfiunbuU0Sb4HYaVqGfJkETIk5PSAVPJULei6mTFBl8NHmnxB0fyhL8lT7QhkI4U/qYl8j6EiC8COh5Um0zX1ZbOaJx8QfHVQCc1sP9AHTCWLlkmxOWWhu9WXFu3siEpUfD8ziMuLixxyVf+FtmKvEu7gLDu2b3XdO/WQ7/imBLZv3e/1/BpN1ZwL2Vg25OtWx7kuUUWcaLzPXL4qHbGGBvWrFFTVeRodoKyx+9UQrggWT5FIOgYRWivkKSpU6aZT2p/osR14oRJev6Rhl/UInGhfkGUUcfzZV++XHnpJ4aaUydPaf/AVzV5hJEuxOaW1M1Yik4o99MnT5tJUg8a1G+oGkCPyJ7VfsRzFAISvpctELnSDpiK4iOTD14+rI4eOeo7KHqhnRCHbVu3qZaHjxuumDbwIUwctU/wEfQRFvQR7t/pgnbn5AP9xPFjJ/SDn7Gjbeu2mi9oei6cv6AfPWiBIC6QKfrVbPukQIiCxIM02TEgV/1+GP+XHfyVOPiZoAkobCIKEj8MwoMM3L+L+vgbGZSvmYULlpjGDZvKgFjDjBwxWg+DYwDVQZGMYLCWyHuDoveVGxScG3cX9n4BINP5Otu6ZZsOTKXfK6NTAZAWwisuIa0YfqLuhjjxVc38PsvniKNWDomPalsc4kKFSajEhRDy9tDBQ2rXgqalsXxFzZwxS+OAcB00cLASFwYHBhKvwnqVNq+MiCvznoWHPfXYRfClAnGhHAuTdvddfgsoC65oVrp07qIq105fdDLbpI6ggckXHn/zil+nEuD7me+dNIS8PLj/oE4Zli1T1jRv1lzn0JmSUhE/00q/DT8cnyTQzpQ65acB0gqR/bjKx/pFqwPUqTOe+6IWCYP2DzFBy9ekURPz0YcfmSGDvI8b2gVuIPes2KDTxoaAuhlLEYnkNzYtTBnWqlFLywS7JzRyxVUnAP02mpaGDRpp3aRvok4USxxE6PNoi3zwWo3sZ+076HQRS8BtO0ogHLkC7dMX+l36bT54+bhhJRfTZpAW8oL26xIXbFx4R/0oTF7xLs1P4pPXP3tjtDce5I7ECHGxnX8e87MdVJEWOAkUMChAWBiUOERu4YLFUumqy5dSFTNyuJCW4yeVPSqxEoQTT4Z4A7kTbwsbfz9DCwLxYVqEFUytWrY275ctp6SFikhYxSWQkQP7DuiyQUtaMJJVTYvEI4+0QFi8Oc2iIC4wdjp/1IzY1WBsCVu3wv45qCEZvJS4XE9GXKQif+PteJw9fOKi2hYbhoeg7lKOhU23+778Jg18Qe3bu1+/4t4rVdp069pNv6BUy0G9C4fJ31EoRPyo+6h4u33Z3VT4oIJpI19QdNI6PZTEz6AeRMGv85mAesby1okTJmrbYOqSAQoSoYShqEXiTT4wOGBwWLdOPTVMnjBugu5ZE3TecmHfjOHDRmgc7TRmLDkWyWfaHfYravtWq7Zq4DA4PS/1hD6gOIRyZy8hpkHQCKNlw6aDD7/iEvoJpu83bdxsOnzWQTWy3bt1N3t379X66o6vRQE7/pHn2CL27N5TP25at2qj9l+MHbZ9sBeZS1y8aW7f5MJzkp3wuoRBGw330YofE3EhPMKno2GVQJXKH0uGvmXGjh5vThw7pfdRsaH+RSWfZ9AquO0ZGnpGSXlGX9mA9+ncICkQBVYwMT+JpoVGQTg6PaMDsQ8tCA9W65EM1l0UAn/EHWnav2+/7lPx+quvmzqf1FHrcOZtmSpDO2XTngDJI82fu15eeAXsa9JCcONtQXr0uZQH7/MFhSU6K1XojLDCVzsB6oUvqYkLwF+u0cQlaron7CYPHmkN/A1+E2fImkTIiVtOROo/ad6xbYdOR7CMky+pzdI58dXCMzVmlrxPB9RTa4sUzv980Hrj1UvqO1NS1AmILMbqrOq5cO6CdooYPeK3Nb5W/+V93s0FvLZ3X+2cIAmQNwgBWpdTJ04FbYO6Q1lo2aRAVPsoEH6+0UYxtqVOli1dVo2BmY6gbVB/VeTCxlsxcSlaoSxPnTytS2rJZ7RbEBjINHU4qi5FgXqeVptIgGfoTt1jYze00RAnBmMIA/02GgaMU+344IUVEY5fx9w4pQvrP/WL6SEMcd956x21admyeYvep24Sz3x9toW0Wa/v9hdTZAnet/0ERuosJMHOhg3oiKv28dI+w1NFuSYutl/OB7/ccoEHSly0k5Owybi5c+apEdNjf3lMp4lmzZwjX1UrlczwZektFcsPu7SOZXXeNXOwXBR/Jk2cpDYD7AdBwQ8bMkw7PdzoklB/GSjaj7XSeQJ+26WjCXDcFATrnqWmGLah2mPZ9UsvvKQbNbGCCPJCHL24JoeXJm9pYMISVgfe8tfEZYR2yev6tes1X3v36qP7gKDuZFmhrspAqBN+vcgjLolTRS5JAmHiEkVYCkbyBkE9KpL6Kv5h3NayRUvzf/73P6sdBZs5oXliST7GdiwZB/xOBdygMgZo9Li3yb9GAfcsfaZMsPxnqu4vf/6LdoqsrqMubFy/UY3F1V/xi+XZG9YRF/FXfq9d49UtW3ezBfWDpazYebHfBHvR0EG7S0ptO/S2AkgOb4l2dN0tCIRFe3j37Xe102X+3hokK3G1IuUWa1yKWCSP+aCDvL75+pvmxRdeNC2btzQzps3w6kyo3CNBvyP1W/tKZ7l/OqBu8y42f4MHDjal3yttfv+7P5gG9RqYEcNH6hQqy4Pt2MHWBEF4tAm5WlBvcUsfRl3hmikmT5qiNjW00XJly6nGh7h5y7MLhsZP8sSLk7fVQEaQPKeNsrkc+8AwVUa6IEW2vLSflOulC5dCxMWfKiokcUmpbQG5JS7yFeQzMSUudgBIhlyJ+MUXGmGjTWDVDJ3iz3/2r+alF18xH5SrYD54v4IMnB/o4OldP5B7+aHPpLKwIyLqsfTxvu7zwJcbe7S89eZbujkQGxWxoRZ/e2GX09UbQXgS1vtl3/fB7/zATaYgDlSm3/76t+Y//f/+k/n3X/67eeO1N7RREr668+NTEGzaeJerC+5Focx7ZTQc0vXM0383P/3JT3W1yO5du7VSarHJ1Q4SlJslLjR4b+oE7Qdu8qBf4kI+Co/8pAgQRkC2bf3NVtx35TcaOPLgf/2P/2X+/Kc/m1LvlNK81fogREbLJZz/EeVEvSFfqXfBVfzJq0cOnLID7JPzh9//wfzn//SfzS9/8UvdfwF3hMO0EWppSJXXFsrp8mjKEu2MF8/Corx59513Nf3/9N//yfzq338VtA0vPdR54k5axX0KuHlSMOQdwvffJT3sHfTzn/1cCQnkjP4jSlDbDx/qrcSjbgZ2QLHkRqRtXJQBEPLIRoa/kT6LPXSYuiPP0dSyVYCiwof6UZoP5SuqDQb1NX+dSw3qPO9S/9CE/u//9b/l4+L/yNjxsvbn+F3po0oBsIMiLm64FtRv6pttf97YkD5456033jK//tWvdYNSNgWlH8dP2mVB8NpFXv9A/DMF/QV7av36V7/RDSD5+EVzr32jK5SbP1XEfi5M60FuaEfqNuQ8bZF+l74/krBY5JK48B8e5iMuCFd3QHCfFVbII/GPcLH4nzJ5imYkHW6Xzl/q1vdsZa7bFssXJoZGdhtnF95W494Wz33kayw99NGtwnmnR/cepke3HmpPwmZFDFJsYPXaq6+b9p+21+3F1b3/jr0WuH25+IcRZdoQ9/jJ3iiwZXZaROvTrm073ZnVutNw04G8w9LQzOCllTxheSkDFUsKmcNGnaokRCqgzqeKMDjQcVWrWk3nUZmyiKozlLNdphzAPse9Xxci3SVA6mcUcklcXBF/mBvG+PQP8jX39lvvaPmwhTj5RHlwRQug9cKvG3rf1hUHlEt0vjvo3tOrkwJU3tTNrl2+NNWr1TC/++3v9csW+xbCSGwPdmvv/topUc/xS+ORAxA3tD5/+P0fNR+6f9ld66yNR9CO5O9UCOdJJAgz+Dsvb6mfTJOx+SFTdseOHNO+K6q8qZtDhwzTgRTjXJ3mRHJVN0q6SD4yFTNz+kwh1x5JZv8c6uDgQRyZAgYr6CPY8p52w3MLb0t6r+7m1ePMQBupWb2m+dMf/iTkupRqAqkreWF47txxQiH1ysLWr6j6mi5YRFGndh3djfbVV14N4uH2x8kQ1fYzhvYTXXXGgB2EKYsjh48IYZD2ERJrnPuykDzsgphi8j445WE27UPe0bGhpBAX/CNMVFWzZ87WDXHYMwWmeO7sOQWHxZHRFhgCwhgLCwyU+GJgvk9/C1j2i1qer9jmzVqoASZLfrH3AJ5bD+qPE68wiKd3yGK6wP0lXVKIdT7sGdKya8cuXWbKPD6GkTYuRYMLqkY8feqMWTh/ocYBOx/SQz2hrDziQkXIIy5s8sVOrYFa0q0vyUD5u3XJ/h3l1geNIxkS3Lr+FkbEHwgbU2vYPLGskc2cmJ4Ilx8Eh/vBAXFy5Z53sKD/3D5LAX3Hh32P8scIFk0M01ZMI1Fets4QBgcNWmg4OYL6Kf6zzHj61On6FUk+0EZpG7RR6gduiD91otC47B2WSvppo7ZNkQ8L5i3QL1M+DDAApT5GlTnvM3hWrlRFpw2UuOAmV3UjFm3vTOVjvM/qGWw8WEmkddKvw1qvpQ5xj36TPsYFdlq2/80E1i/srpjiZ08SyMLePXu1H/f6advPe+A3/Vu4veQCduz4sOJH+rG3fdv2IFziG0537nFeN4OcMX2Gkkg+dvjg1PYRqvPECeLCRxBmCGx4R9+edd8p79AH//iJC37YxEqCWI41b+58Ze6wVCoXTFHjJtcgbn783AErJ2BAljAwcGK+FQYPe6Wzdo0OcevGPciPwsL6I1cMLJmXZUt/Do2kQnoF7+WDF5eigpdGGDh2E2VKlzVdO3fVhmlVibghPgiDTAJxQeOC8NgFacuFuHlWEHIklD95gTawi+QFgyf+a71xEKTThdxL+TxNYLzIfDX5DJHkhF3ileCnFee9XII6wZQLanbaKLuCIknTlkzC7pIhQkgzdjyo+/mKTUVcGCh1H5ePKnnaQOljotzFkr3QV2GbgZYarQNL4rU8wiJ5Tj2hD2GsCUCfJu69fi0z0AcxPrAgAGJKf0mdgJRwv7iFNsoHBRoPjp7AaLlY65qEhbEyti5MvaGF4SO4IOLCjueMewntOFORd3jflktSPPLERfzxEupVZjoVOhfm81EtQly0gkpicaOZmotwCxBWLmD4xRcES175oqRC5hUIjc3LJ82LVEJ8swDsV4mL5AWdAV8J3A8qVhGCMCh/S1wgkjRCOgPSrW58goOEiUuyqSI3fQl4BITy5+sJ4gKZ5UuuuONOG6VD+rhqtYC4EC/N2ygJ53MOQJ2gXqKNZOpW6yUSLmuLZIJ/Ue7DCIUPSDMrNbBxQMWOBjIZcaGc6Jz5Ata6GROXnAvEBaNsjntg2jBhSXpY5Lb2L/TnFoXo03iXPgnbJaYC33v3PY0DGh7tn12xYRchWLUDcWGFZfCBU8yi/cQqj7gw9YSWPh3iwqon0qB5G3Kblvj5++MnLppQ8U4TKsTl9h1hzUt0sGbToIC4ECcyNBdhpiF80YWJi9W4kPE2r/ht4xbELwrhvEsCtyHbAYJpM+b6HxRxYWULy17ZaI2vV9Kb4F4kbeKSDLh9mEXixzJJS1zYfA61b3EL9c4jLnkal4C4kIdhhPO5kKBO8FWGIR8aFzZ7sx0zzyLrZjIJxzUVHP+of3xRsrwTQ0bsXZISF/mNphLbBrQzMXEpGqGfQBPIzskQSeqE1oUoCZVnAniWIez4ESYu9EmRcQiHmWPw0esRl2raTzxo4oL2iWm7mLhYZJOwKCGxEh4Zq8RFMtAjLoOCqaIgXlEdY64hkg5xyZdfgkj/MoTNe6txeTiIy3u6AR92BqQ3wb3Ij564iIQ1Lg8DceGcIghVZJ7mGEpMpG7SRrF7ok5Q5pS9Ssh9gMJKqB5R//iqzZS4sJIkJi5FI5a40F8yUBakcXHLMwGZlom4T0Vc1E9XcJ+jfjoZ6CceOuJy1iMuOqY7EhOXwogmVryUBHlTRYnERTOhmIkLZIl9TLBxSUvjQn7ZBkG+hPMm/HcysXEQ9w8jcUHjki98kTBxSWqcSz5E4REQvqQeCuIiHZKnhu5ijh45pvfy5XMRwA4QGNCzlwqdIvtmYECrEnIfoLBC/XD8Iw4Qly2btsQal4dEHlbiomOYlWThcj9VnDLEw0xcwvkbE5fCiCZWvJQERRMXz/5F4xUeNIsCIpa4JNO4eKRF4iS/g/yyxAWQNxaIvRYkuPPfz5q44IeF/K3lmCEIg/eKhLg8iiLxZrBU4vKKEJfOPnEp5vTQRj3iUs182eVL3cqcepgvjy3c+zkAZU/ZsoEX+2FAXFgpohLhPiF/ss2rUDqIAyTS07iUy4y4zI+JS1HIo0BcbJ8WGW4IuEvXbRgxcSkpxEX8IizCRQ3tEhemJmxGaLxsphYlRFziwrp8lgWTP15cnPj4hMXLL0pNXrb5gl/Z5JH/HlurpyIuXC2CuBMeQLjKvSDf/L/TgedvcuLiNWw/bBEM4X7UxEXEThWxN0OXTl2C8sgn3HORQ6EOsttn9Y+r61lFLHukIwjy1s1j+7cD2xnba6agvLFxYWdPOkVW67DUVSXsPldpD6WDOFAWGOey0R3Gh0HHHA5XfmOcyz4eEBd2OtZpzLC7WAolhSIu/C1Q90leSSr6nngjfVyYuHDUQ+AfVzfMMHjuwOvf5Qd/R7lPgZi4lCCNC/4RJsto7aoitkomY21mBBkaBu/buMiVjpW0WPdJ30sGESUu69brkja+bFmbT964fgKvgnv5FcTB94OzK6jEGQne+H7TGXjEpbQuO9W8wIlPkvRqIX9ruDYOvuAHBMhthNZ/dZ8EnptUxMUPF39F+OoeKOUVSVxw4ocdjt+jJJTl1i1bHeJyITF9ftqoe7jVPPbvkU/ffyuD/t2vpY5755DYPPYc+NcCBL9Zpg9xYaMplloGAzbi5jHBEwfu+aDTwLD126/z6nIm4B3qBCtIWNFDp2frpYaLOxt+lMhz2hbp4COF1ShpCX46QPvFOVHs40I+MFAGmic3fPkNwWTDM7Vxme/XzYLiGUtGEiYuGINq/YoSbvt1Sd3IP/pQ+v5gOW66wuviF+9H2rhYr7hS5sngC/5gM8bSauqovpch0AauXyfEpWr2xEUHdokH9Vz9zVBIA1pRdhVOi7g8zz4uizT/GStsueRDQSJueJd8zEdWXPwoiAvi+0+nwg5+rMVnh8V8nWIUeCag42ITI5gmB75pOmgcfkFoetKBCH7BmjmaHXsGJS6S4TpQ40YutsHg1lYK/ma7e4wmMaI8fvS4hp224I0fX93HZam3HJodHpk2Q3QQlHDCsBUGkI/EgfMxtNISb/457wZpiYDNr2TExdU6IXx1lwTiwmD5ysuv6NJwiIvmoU2fnzbqSbiTuHvnvjly+LjZuH6zWbd2gxIg8pL2lonQRjlYkK+57jJgUy8LIi6A853u3Lon9fGktI915thRdkAOTTGlAfyibDnzhWmaAf0GeAQOIVzcOelOEHl2QwYE6iUbOkLKAZtjZSp0sJzDBHFh514Gh0jiIkIfkkhchCylimcsGUsCcdGpu9TExetDPJJAPwcBp06w34iWY7qifklxil9h4sL5adaNlncSEBd2bOckZY714LwfNtODfKmbDOuJR1zWa19IP8GeNupPGgJRYc+wbVu3a36sW7tO20dGeSJCX4VWVLcLSIO4vPD8C9Jvs3MuxMUZ/12kkw9aHl7ZJhCVMH40xAUR/5S4CPMrJZWPDKVzDyQqDgIy6sa1G2b7th16QmyTRk20c1ebFMmkID0MMhHv54NIQFxqesSFykSGB34g8pOwccvJogzmfEUe3H9QVejNmzVX4qEVJl0Rp17eF0xcwpWBcEgzO4NyhDr2B5xkvHP7TvUPv933NF+IWgRwn5q45PlDPpQU4sKeNq+85BAX8jWcJjfNvpw7c8FMnjjVzJ09XzrXZXqKLsQ22KgvTaGN5hGX7mkSF6OkZduWHWbo4OFSJ1qYJYuWaSel7jMA/rnEBUKQFnGRe3TKh4W0LFm0RAkL9eTTdu11t1NOrc1EsP+ifUJcOJ7j7On0iMsCIS7UaXUXS84kirhE1gNE7lOPGGsgGxCGkcNH6k7pDNT0pUnfDYv6JcUp/VE2xIW+FBLMrrucKk29ZsdZdt7l0EH688g2nkLCxAUzAx030vCD6S12jp89a45uC8I4wgGmusljJnGIiYsXH71mk5AMhcEaGxe2KqazCebPkag4CMgoTielM2SLZTpUOkUKj0wK0hNVGFEQCROXYOdB/7kKhSR+aiFJvhEPVIycztu2dVs1Xpwze46SibRF/PfiWQBxkbiEC9CSJ/ICrRPHBNBZM7XgVSZLsjz3/OZ+Qtp9cJ+8iolLnuQnLr6NiwXi/u3j7u37Zu3q9aZ505ZSN7ZIZ3FZjUXZvI0zRLRepSmUW6bEhXs3b9w2SxcvN+3atDcfV6kunfJ8nTLKWMQ76mU2xOXWzdt6ei5TOzt37FTDYtpIm9ZtzL69+6LfSyIQF+pldsTFJ2yx5EyyIi5Sb/WDc+t2PTqClXJLFi/VOp52XVC/pDilP8qGuPAepID36L8OyEcnJKZxw8Z6BtaBfQcyi49IFHFRjTdhFuAP2kjeoX1B8tsLsR82dJhnAJ9JHGLi4sVHr9kkJEOhU2TbZk6gpWMviLhQIbRzln8YiHLQF0uYmYO3mRSkJ6owoiCSMXHxSQBuOHCMY8Ub1G8oxGWuN0AQd1CQiP9ePJMTFxteuAAhLrzH++QFpIk4sB+NxlX8dt/jN34lpN2H+iPXmLjkSVLi4gppdCHPz5w+byZOmGLqfFLfbN60zVy9ct0MGzJMB2w6e53HTlMot2yIC3Lj+i0pmyWmcaNmZuaMOd4AHo5/QSLusyUuaAKZd+fcIIiKEpeKJYS42LxJhgzS/jBKNsSFdNNnYYsyd84807RJMyUu9iMwrTxRv8Qr6Y9c4sJKswKJi+8/7RqDdwjC4YOHhbwc0DEEDdChg4e8PhK36cRHJCVxAa44fpJm8o2xg6lkSMynbT/Vk811y4E0w0di4mIjyzWbhGQoYeISLLVEQnEgjl5GeJlw88ZNPUOlZo1aZt3a9UEmBemJKowoiOBnphoXSwRQPS6VBtiwQUOthIHBWTr5Jf578cySuPhpRMWJSp6TndeuWevFVe7znoXNl4S0+yB83MfEJU/yE5eIqSLSaOGn+8yps2bUiDGmXt2GZuvm7dKhXlPiQv3Akp/6ka5QzhkTF/u3yPx5C6VO1zHz5iyQDjbiS5K/w/dckWcZERfnN3UGUo8dGl+1fGRwwvPECRP1fibyyBAXmycC2lMUouL8qEmmxMVNM++iiWvauKnaIBU3caHeoHVhhR5kesL4iXqA6fRp07Vfo82lHR+RAomLHx+vH/X6evXfF+y10NpPnTJV4zFr5uyM+ggkJi42slyzSUiGko+42MqHhOJAHKl0xJuCssSFxkPFIYOCisE1qjCiIIK/mWpcbEZi/Me0FZ0y85VKXMRdWvkl/nvxzIa4eDY9vA9xYY4U4oKxGULa3ff4jV8JaffhNaaYuLgSTVzkgZsm+U3+uPcYVEeOGC1EpbHamVy+dFW+7oabZk2bCwFYWcQaF++KfC/j+uaNW+XLtrna2gSaQCv8dhElcj8j4oJY/wSQaz5GaB+8C7HndGnqWSbyqBGXhD4ojFB9eRSlsMSF+kB7YLl6sREXge3LaNtoUNEIcighpGXP7r3qJ8/ztfMUkg5xwT/K3u1HiQvGysSDAyuxUWwiZA6bG7RS6YaPxMTFRpZrNgnJULInLt9q4c6ft0AbD1NF3LdxtBUlX2FEQQR/MyUu5B2DkD2ltFHDRtoAbt64pc/Tyi/x34tn+sTFrQS2YjB3zLH/9erW06+ZoDIluI2JSyYSRVzypcem1RFsjuahCm/czKxfu1E1MJzDxVJJbD3wN6U4/lFuHnHxlkOnQ1y8uk88bsoA8ZXUSyHUs+YqwQ7HVYV7UfcRuR8Ql7LpaVxsfeF67ep1NcCcMH6CGuFjU7Bj+07VwCQNM0IeKeLi54G26yjIs0zS/jBKVsQFkSvaNghLwwaNzMwZM30Ntf+8ING8FW+kfmVDXHiPNgWZhrSMHjVaz+HatWOX2b1zt546HpQPSEMyJS60X/pRts84euSo2bBug06dsmqOBR7Yw2Hvkm74SExcbGS5ZpOQDCUj4uJnEF9xbEPOfOSY0WNMhfIVdHURFtqkQ0Uu+QoiGUToBNMiLnRIAgqDuLC5FZ0wDYADx4YMHqp/61d1Ovkl/tvOLG3iIr8teJeGg8pz1MjRavw4buw4zUcqJYbC7nv4lZB2H166Micu7F3AcvYSQ1xIkyuSPvLHTTd5xQDN8v7ZM+cIqV6lm/VZVbTWq7D476rYqwjlZomLtxyaTlHet17YcBGu/C345v535vDBo/IVN1QG+w9kIB9oODGW9p6RiJ9aL5etMGXLvF8wcUHkb+JIXaJNccYShuMspR41YpQZMXyE2bZ1m5dvaUoCcekaIi4heTiIC/DadRSKLT5FJNkSF2+l2WG1L6lapapqIpkqYSO0pO+74uct9SurqSIB/eWWzVtN+08/My2at9A9s9hDjH7z4IGD3hiC2zQlk6ki/CbuAC0571nyBLFv06qNGTt6rH6gZBSHdImL7nEUE5dCSybEBWgmSUbA2lHtMRh8JhVw4oRJOsiSpsi4p4IInSDMlw3oAuIi+aJ+2XT7/noFJX/IP7YTp7JPnzpd35swboIae+WauEDW8grPJy5adt4mfsRhxrQZahnP1y3x5wsbzZQtZyUukneElZB+P00ZExcZmD+u8uPXuLz84ssy+EYTF/KGvKW86Xw1f0TQwrFHxAoZ8LE9Qgt28MAhdRuZJ3Ivof35QvmxSsxOFbFHhNZLGw/c23fsb3l27859s2fXXiH2Y80XHTqasWPG6TlHOnceCiOliFvKlqWjZUuXzU9cLEJCXcOOgLizEzWr/zB+RFtC/WS7gUyEeCtxEfL0ZZi4+OFr/olQZ1lWiiHwg7RxSYmIPHuUJGPi4j/jQ2/Xzl1myuQp2l9OmzJNV9qxF5bmS0Ei/lDOtIFsbVyoS9iUUC8xFG//aXvTWdo3H8FoQLR9ZSCZEhcL+mX2bPlKCAcfBhAX4oChro4fGQhxoDwKIi60XdpwTFwKKSmJC0KYLiQetuIysDBo00FSienIyMSE+CaD+uNVIP4mL6h8EBdU+jBe9ct3Gwh/23typYJSaWh4TBFw5e+Ed1IJ8dC8T05cSJdbcB7sve+CfCB8Om3yg46FeFj3+GErUUKj8qF5Ide0ictFb4lv5Y8qq9pXt1VHyBsr7u9HUOg80Bi8pMSlk56BE6SJq8ASQi//PNjnutmW5CcDP1fKwb6XT5Lcp2xZAYFmi43Xgqki6z6JX7ihPlEXKKurV65qPHSwj3onmYhb3lu6ZJkp816ZPOKCH9QdrlH+yT3qGYPE1SvX9J3z5y6oih7bNE1DBhImLpwlpiTQEfIKuSTptcSFzhltTRDX4hCbJ6nwiEtGxAXxn9HHQPDpr6mbrDxDK6ztJp18wZn4QX+ULXHhSn26fu2GvsOKTDuG6FYW6cTDkXSJS8Lf/j3aI3EB5ClaGPqNjOIgbumrOAi1IOJCG6TfjolLIaVA4pKpEMeC4umnTQcav4KRF3o6dIi4aIMi7WFJJ5x0hHho3mdKXBLhDaDJK4glLpS1pseBzYeCiAskSRuk/CNuGLWhup8za452QEF+uP7nIo8ekNCZsLSccz3YdwLiovVBhPxS0iqDpdYhm05+2jqTDLi17t17EYL/q75arWp1vhDZIVo7V95BXL+syN8JcUL4k3K274UFt1HxkL+pExhTUi9powFxsUgRf+7b+hW4cd0mey8klAXtE61PQFwgYY5Y4sJX8+cdvtBOnIGNd1PGMZaMJWPikiuRMLImLqAI4lggcSkIhY2TvA8ZjCIubnvnNyupmGp97tnnVBsJqde+H7hxAunES9zY8SGBqIQRE5cciJ+2oEOV3+RFRsQlV0I8NO+zJy5KWvyK4bnN7z4XxMWCgRMtAA313bffVQM7vqIDsX6Tz0VQZ4pLlLisDREX6ov8s3kJYaOcWPLLicVMoQUaNwHlwtccX3VoLrQ+iXx931tNwJyzlomfT+Q/c/7kO/fpkFAlY7vUulVr3esBP23+0nmzffrJ4yc1fpAK4mIJFX7wVYXRIc+IA+9pfZOwsAchbtQRmzbeVb/EH77klLhIvXz7rbd1WhbDQU2H/APYm9FesO2CNBAXiIXmg++GOmO/bAPCIfep80z7kF51a+9LnAmf+8SHKdm1QiLfeesd07JFK80H+3WMf3yp7tuzT7dOR9vy2quvmTdff1O1gcQ/qI+x5ETI05i4ePIwE5dAxA19E6YVnIX3zNPPqF0N5ah9P8gmXuLGjg8JRCWMiDEpW8TERTJcO2v5TV48KsSFjtz9O7gnHXn4vkUuiAt+MPBt2bTFtGvTzjz15FN6WNfUKdMMZ9KoSHYFeUY+g0dUGLTpkALiIoO/9xVjidwPamvFCdKsSOAICn4zNWPzmTJlJREnGzMQU0acI3Tj2i3xe4PmNWVHPpG/DPiskNu2ZZuGT7no3PX7H5gqlasoYbQ2G5TrsSPHdGXdtKnTpBNfqqt/eF9tBrQs2EX3phrD4iedl8Zf0oExO2Rg08bNSsC8NH2vm19hm4IBIyvkIHDLliwzr7/2unbOhKHkSfzXOAhhod5CEubNna/aGQifV3ckI8Ud+YRdAfkEeeE+8WB6k7wh78grhGdM92BztkPuY6tFvVy7eq0SEoxu2Sna5gPTlGwjj9EvxvX0JbirXbO2rhzBXy2PR7guPmwSE5c8eeiJi1z4aOEDkynnf/vXfzOP/eUxJS60be37/f4/43iJm7zxIQVi4pID8dNGhpNufpMXjzJxSUVaAH5QkaMalM0Hyj8ZccEPBkAMx9h/gROTn3/ueR3MPI3LLaIa5G0A/n5Ehc6AOuESFxphXn55++ccOnBIjexYLQHx0M4AN5J+8p3B+eqVq1q+3CdPWPXD4KyrjOygKrCaBmxBuM/eK1bjgiEhYVAWNn/pvLmHETHkZN/e/YaTk92vLfzhbCDigTZORcJiOSYkCwKDnzZu/EYTo9oOCZ94s1/SW2++ZTp81kGNKa1b4kAeYDTMKj9ICIfFkR+WkFk/IUS0b40/IvfJK7V9uXzFa4v+fUgb9d9qgyDMkCE0fGieICrWPW5Jf+uWrc2rL7+qG/2NHDFKjR1px4QR5HEsOZGYuOTJw0xc6H/4PXXyVI3fW2+8ZZ5+8mnz5ONP6odGTFyylJi4SDw07wtn46IoQONiy1nT48DmQzLiwntoVLD3aNGshVZ+lhE2a9pMj1FnzxK1cUH8vA3A34+oMP9Lmp9/7gUlLnQANh+1Y5J//G0HbvaCgAhwz6079jf5a+Hd957lyyd++27sVBHaFlZhYOMCIbB+0n4xzGaA37tnnw7gEJS0xIbrhBfEw7lPnYC40Eapl5Aa7tu4cyVPiJfuS7F+o2pVVKw/iPsbkd82HQn3rTjuiQODQ5nSZXVlEif52rzftXO3ttkypcuYtm3aqpYFgo12iqm4mLjkXmLikicPBXER8s4mdi5xIV5MO7Nyq1bN2qZC+Ypql0jfzUent+LO00YG43+m8RI3tv1HEhaLmLjkQPy0aafpVzDy4pEmLkJaIjUxPuyAa9PrwuYD5c+XLcSFOFjiAilhWoMKj50DRqJ8/fbu1dtUrlRZpweC5YxhFEGdKS6hUTNlQiOHuKDJgCSgeWIwdNsK9i0QB0iD5rOtNyF4eS1XFB/uM/wK55Xc94jLVz5x+VKN6ygj4kDHbcudjgtSg8ZDT14O+5VKbNhR78g9CJwlLqwqUjIrnRH1AnhG2940E4Riz+49eRo4m7YoSRVuSMjvjUKIWFUEcWG5P2Qamxa2AKjwQQXVuJB+pqXQ+GzdvFUJHXlI55lOOLGkJzFxyZOHibiUe/8DyYueaqOGJpNdeD+pXUf7afaSYosG9lNCi8w2FjFxyVJi4uLHQ0AlcokLX4vqRCsFNioeGCjcv7170YVsgRtbzpoeBzYfoogLAwBfsBxnwBctHQRTBQziGEFWZR8XYe4QF963aQHqP3n9iAqDJZu/WeJCnWD/kd27dqthrabRF/IX9zRSLx/kpk2/hX8v4blFVD7JfTok8t8SlxPHT2q9wJaGqRlLVgkXt7eEMHDVsrb+pkIaQr1kOTQnuLOpHmQATcf+vfuD7fu1Xsk/Nx8yCaMggXxQL3U5tOQDdZC/P233qfYd7BEDaaH+knbiwMDGe+RREJ9YciIPPXFJhiKQh2mqqGwZVt19qX0Ddm8cHsleW+PHjTcnjp1QbSlHC8TLoQsplrjQKUJcLttDFgmrCMILRPzWAdavYOSFJS66AZ1DXGynXGTw85YBB8NHS1zsacT5KwVlRmWx8O6lQlDGpMUt0xAoD4+4lDHt2n6qZy9BWt55+x1VQbKJGV/bNADdgE4aK8w9IC5+GDqo4yfpe0SFwY86ERAX+cqnXjBoQhAyShtuLZz8DuD6Jb9tvSMOecuhu6nGBbsYNjlkNY7bhrUe+B0E9UTtXMLhuEhHJC7UCTQupWSAYIdRbGKwj2G3Zgxz0cgQdkIaEP4O38tSaBtMg3HsQMfPO+qGXWwaxsqhz9p3UKNfCIrbZm3dJz90IMlRXGJxiUvNYGoiKO+iAOL/tsSFPod6SX/Zu2fvvLEjV+KGnUIgLkwp00Zd4hKMHW6bi0IaYRQkHnFZqcSFXaoxVK9YoaKeLzZ61BjVkhLW1StX9YPT07jExCVrcYkLZyhoBosQJzpevUrcigpkKmEwQPB1zRdEl85d1chSC0Sfe3njXSUTwvlSGFDw4i+/v773jWpcWK7Wp1cfIQfeqoyCKr9XcfLgVkD7LGm85bZb1pQHX/hvvP6GVvqK5SvqxmMcqUCDVONOcc/gieoR4oIRJF/grj+B34+wUCdY2fKPZ58zn3f4XDtnbzdi3+g0LNwTeHnu198QvIGUPXHsbsgetB3ixrZFH8SB0775ckIFzLb9kAY0CwzmLjG1gzTx8zQxjr9ZAj8ZIFixxABBmdsT3Amfjs/GweYJ9wPx8yQSbl1xwbOQ4D+rnOiYOVqjzid19Uu7A6Rl1+68d6y//JSrTYe2oVhyJpa4UBZoO5iaSChTfhchaGNMU1IvPY1LT+2TkIRxrBhENS7ygcOKna46dpwN2m/aeZGuiFsdE8KQsJjWZir/5ZdeVhvFN994S48TwNifcY7+AAP5mLjkQBgIONW41DuldLBmcCROLHG8JR2mnUcvKqBuBDBR1OGVK1XRzpCVGgzGnhvc8tsDe0rkCjev3xKmvEq+Xk+aa1dvmIXzF5u33njbdO3STadpyIdch4l/2GpYkE59JlemAVjO+tKLL5nf/Po32gD69+2ve3Mo+RGhvjB4DR40+EdNXKibGHg+8fgTpm3rtlJGJ/QwS+xLPFB3bmvj50rekZ+sBII4cGUQB3Ru3j3+/tZH9HOICVfsVyANlAdTRXzNoe2x9i3ArcN8cUJ2eQ7h4StM/faJTDYgjqSZj4vSQqj5uobU4zeDFwSKsid8fuMWWxvirc+depYAcZsKvAvQ5gD8Yzk09fLPf/qLrmpDI7h1yzbNLxW//tGPQcBZBcY1GEBiyZmQr9RLds6mXmKUHfQj9C+UobgpKuA/RGXe3Hk6QLOzNRpA6oxtFxofqWsWdlm9bV+pQPtJB/hHP4C2g2X6HB/APkfUV9vPapz9+pwKUf7Tzqj/mmbxy45b6r8P+h4IyexZc3R7ip//7Oe6AnD2rNkyplwPPl64YjQfE5fCivhHIcydPVeXMdatU1c3yIHJM2VCwwCc88JZKUUCISuoG1nT3rN7T93evYqQl0kTJvnPvOcw+6VAfnM/V5g3Z775qGJlM2TwcDNz+mzTvVtP8+QTz5haNT8xU6dMN0sWEfaSIOxcAP9Ijwd+C4Q8QiBZIcRU2a/+49e61p/pu4P7D2rD0vIXWOIyZPCQgokLeESFRj5H6ubvfvs7VQPPmjlLy4z8Is0W5NvUKVP1AEEs+BctXCx1a1lQf/ODum2Rd593gvIRP7nOnztfba7+8ew/TKWPKpnx4yZoh5MQvoSHndHkiZPNiOEjNS5M3+GX1jNtP9mDU8eZN3/i8Sf1zCSWVlIfg3j6cYXcTJwwUevFzBmzvPrm1DFb/9KNl217gHRCmn77m9+a//j3X+kpukxpQtK0/5L6Rl9GP8bfrKZgeTiGyvyt9TGWnAnEgcNV+bCpVaOWmSR1j3oQ9FP2WhTAbwF9NiemP/nEk7p/z+RJU3TcoF+j/qC99vp5rz7p336dsvfywalzNpyCQL235/8wPcO5YLQ/r29Y7OWL9TNrePHXfZqWr0wA9+gnmCL6/W9/b55+6mkzfNhwLSOvbVhiEROX3Ij4h6YDw6HHH3vc/OmPf9LpiaqVq6pBEao3OkqASrIogN+ExaoEvuZ+8i8/MX/8wx91WRnzt7Vr1Va7F6aQAL9zh1oy8Fc375ctLxVzuWnauLl54TmJwz//zPzlT49JnD6UAZP0S1xBtRo5g81XiAeoInkOYcP6/AVh7T/5l5/qdv5Mn/Gl4tUPD9QXT+OSBnF5hIVpSw6DY88DpovIGy/fvLqjdULykivLwunEy71f3nz0YRUvPzOC9w4EyYLy4CvulZdfMb//3e/N35/5u56ETvsIIO5s+WH/gS0SbUjjSvvJASrJV/Vbb74tBO73uulg+XLlTaUPK2kYxNHGgb/RyvAFTN0hTW56bF0DUeFYWDf2PfwhvNdefV37CL7y6bD56NFpIOqlT1h0ulTuoX3i4FFWGHFf62MshRe/TdMnzJk9R/vMx//2uBpNU07aLrSP8fusIgLtkDrxinzw/vQnPzV/e+xvGgdIlNY16dPz1Te/v9N65bahCHjtsWBQ59ljiQ0Pf/bTn+nYQRug3XJWFm0n6r1M4bWfan5/I2OHD35zj3j8/em/6/hFm2Q7ADtFatsGY31MXHIh4h+Gfmg3nv37s7o/CIZ3GKayZAvjTzK5qAFbhrmzcRWDFPFgtQLHnXMEOIdS9e3d14PEjb9zhT69+5kG9RvLwM/OoOtNxfIfmV/+4lfS+b9tOnXsqs8JF7dM2eQKNnzSA0hr7159dIVA/Xr1NR8aNmhk9u7Z63X8fnnZRlASpopQ07JqBjU0K6ywxsfGA8I2dMhQxRD5TR3qJ3nq5WNfycd+pndP8rN3RqAMtH71kbIRaJn07C1hd9L9czBC5Z5bbrZu2HvWDy1nqdfEq7DAP9pHyxYtTftPP9M4oZ1EA8Jv6g3hMtWraZF7Gk9JA/HTZwq/DQEb/yj4bux7Xt701VVVLH1G84VqXIU6Rr10yIvtSCE2qP0hM1ofYym8+G2a6Yu5c+ZKP/WmefedUroxIWXGqjP6ba7YLBYV6Jexa0FL/5c//0VNDdBMDhs6TNspfRMY5LdZFwMHgPzjQDZgnKLeN6jfQAkc5BrNR9A+pO4GdT5bSJugPeuYKGGSJk2jD+7RPurVradb+Tdr0izYoNGC9hATl1yJ+MfqDA7pwxiUTpF15sxNM3+JzQBfTmzqVZTgyxqDKlSPsGeO4EcNzQoSVM4YZbJPB3tU2N/eOvnCA9uWLp27+RlizOaNW6UjKG1aNG9t9u05IGF64eoZNEUMVgqRZtScdAQM1qSfuqEiF6+e/KDl82MnLggntfL1sn/fAdUOUlewI2GPHa7kmZd/3rlDXM+fvejVF60rmYG6rzjnnX3EPewH2JOEKTuv3lxQN/pOQp2UePBMQLxsXAsL0ke9YOUORwyw428QpobrhU36cU+4bv7k5VFePUsKzUPPL/cdwsRfdikmLmoMjNg6JlcICp1kUF9F+E3/pvUxlpwJhJBpEDQLHP+xc/tOKSe3zCLKNgfw6pUXDjaAHDeCtgPbEvZRop5444bUF+qu1Euvrkrb8vtcG79UCIebCpwVxu7hGI43bdJUj9BgQ0o7duSFmT1s3+KF6bUvC+4RHsuf0biyzxFhuv11TFxyKeIfX0XMz7EXAwyV5Z76hRQWbmULK1HPfGAIyeoNBuIvOnyhHbQ11AoyTdx4v71VFJEFlCFu37prevXoI5HIk3VrN5jPPv3cHNjHPh1S4BIuar+cgHJOAsoYWxY2+qIRYuvCYMF7KuSV/MQPCF9JIC7kB5vtYfjnlbm0Fyc/3byzSGhHmYi8QyfgwftNXrOpHZofyDX1j/B0MPbd8zuAxIk4arwCvwoH/GWzN+KgRFbu0W+49Vjzw49D+H0Pkj6i7OdXEF8HQZx9N3nuvMxkzp4PG5Zg0yY0j518Jgzc2zKyz7mnZRNLzoT8x+6CaQw0HezrpPVRy9ArC7dN5IMtOxD1vCDIexirYpPCFG2P7j2VJGjd959Tl7z6aftrp/36dS45/LoofhUE+giMc5muQVPPhwaG7fiDH5rGXElE+IRB28DOjbxAQwO50Txw2lFMXHIl4h8W6JyZwJI21GJUPuISCD+LEJrpkrFMC3BwG3Ojnb7opJv12FUf4YzzGkBE4WSBO7fuCWHrK5FJlD2790kFGyxfDlf1qz88UBQFqAd0BhvWb9Al0CztY0ooKA8uUg9wV1KIC8afGM4elC990p0gkj5LFFhNo7va3mYnSuqV99yFdjJuO4sCz3BHp6luf9DOBkNTTkSmg6JTpB56YeeVHV9fuLGrmtS/HAlx4JBE/KejJoyoOsmXLrYlxNN9no8wS7rcusK9vLTLRdLjvUfnTwyMEjiW6u/bu0/q2908cmLFf4+8oeOmzKiXgd+x5EzIY0gDxIVVRXzxU8aUic3voKyjQPnzz9bzTCHvUcdWLFuh9lQM1nxkpRTCi/IrS9j6yiolVryxGSdHTjBNw7hBv6Du5F8u22KUEB79MP02U7RoZ9z0anuS9hgTl1yI+EflYxWGMkUhLqjFEsKJikcOYRsOlc/boZRNhLrokk6+KiANaFhokEE+5RD37n5tevdKJC6bNmwx8+YuMF27dJcBa4eEK5kQEfecQ4JhCR7TZDQAvqQYiLSTQfyyIB/oJJgvzjlxcd918YCEzgcVNNMTtsxsfDRf/Lgekc4KjR1Tm5z+rPdzJHRKTAlBolQI3wFxpAM6sO+AGq2qQarUV+Kg9TZbSDnbMKgXbFWAhhThubadoNPyTg6H2MydMy9xEHHimhJWktynr9Kt/oUkcj/Ifx+UDW2Ffo2l6yskL+hPNB24iSVnQnmzYidMXIL2UQywmo4E4hLhTuHWE+qtH9d8oE6F3y0AfPRabT1TVkxhUQetnxoubotQ6CNYTUVeYO+mxIW0+nHQNhoTlxyJ+Ednx1xpnorL2Uqdix8PG78o5ItnBrCV2CUuuuW/dJA0TvJH42Pd+gj7kw827gXg3p37pleP3ubc2QtSkVhGu9w0atDYfFK7rnzRLFcVfUBcQu/mgx92VB5ZBPFzEDwTPyxxYedcS1zUb8QPg/xC48IuqkVGXMLIxq8cCUtq0QwSBy0LK/wUUB+wf2EKw7rLF9+oexkI9dC+79VB+eGDv2nD2Jkc2I+2I2/pemHCDAsdkBVtA/jthw94jo0Bhx7SrnMqNh1Ewf7m6kDjJM9ptxjvMt2LDV3QfmLJmZDHaCJp/0wp2w076RuC8ikq8f2nr7K7xXobdnpaBi3rwiDD+KPdVOJS5WM9egLNK/mj/rgoKhG/IU8s52ZlIUb52MTomOnDIxZCXK7ExCUn4mlcFgVb/qPuJj42fC9TvIzJD79gaDAK751MYBtbInHxtvy3X55R7xWINPOKr4ZOHTurkRn7gIwZNUb3svm07adq9EWaqHAJZRMlTn5pnviweRXcs/Hzwd/2GX4ExKVUaZ0q0m208dvCfwdCg3V+URCXvPIUDwrjV46EaRHyMMgDF1bkd+CmKMTxV8vMyRtbznSglJ/VhhRLvuG/A+KmbSbXEpUOG64rTjzy1fdYciZ5xKWaR1xO+TuN09eQ11HllQvBX99/VjaxhwlnqGEf+aCIC5p5tvxnyTWrqzjPTNtAUeVBWMgLafeUx/sQl75CXGQctf26BWXDBxaa8visokJKKuJiM4RKEJUZ3NfnTuHki3MBIAzeCxMXT/XphRH1XoFIM69IBxs5cbInTH3cmHG6d4i3A+NhjV+BxIX7ml8CPx+8fCGfsDMIlbED9x38yNO4lNbD7KjoKn4YFkVFXGx5BJC/A/8egFC32IkzIS38ziJt2Qp5wBcV05ZB2MDPF80zm2/+30H+gxwIftNGkvoXdT+H4VuxNmeB3wX5z3M/n2LJnVjiwt4oLFNPPCKFSug7zLXY8pQrH33EQXd07vGAictaIS6SFyzXR1tPeyk2kaAscWEPp1TEhYMo2c4hJi6FlKTEhX8SJx14JY6pYBuLlwYP+eKeBOpe3ntQxAWxRsDkBUuy2SCOs3HsVwx5kNJPv6xsWvIqkZNHbhk7SEpcpDMgH/Kd1k1YgiIhLuI+SrsWlGem/uVA2Ip/88bNamMSSDge8neQh1ZyEVfxA7LCVBUGr0wFBf5ydfNaYMswwU0qZCBsLb5zx06dI48Uxz81DBbRtpNFWPlE3qcO0EbIB+xWbD0O+qxwGP47+lFj608sORNLXNgMjl2V9Xwe8tvviwtd5skEf/0yV+KylLPdvNOhHzRxYdM9+m1swbTOFZdIUPTbaJ8gLti4RBEXwFJxdrbm4FiPuLCYICYuGUsy4hJkRhoJ1gFaMicoINtRpQHc8k6uiIv6Z8NPV/Q98sL7gvCW9/XQhohfKYkL94Aftq1AXDEq1vzJhrj4Ni5U9ATxw+N+zomLvGPJql1yrmUgCPwsZtH569Vr9Zj4QMLpknixX8Txo8e9fIiSTPMCkXcoP7ReO7bt0POiAn+4+nli6wjz2pwazbkmQR20wH0YGQjEhdVm7N0SKb5/rArctXOXd3q2G3ZhRN6nHZK3WzZvMSc4N0vrsl9vbTi+cB9ijcay2HfOJa1ueu1v996PQKhvyYiL7UvyCbepl+Fn/B3lPkpw59epjImLDUegdSfKDXDcpSMJGpd0iYvrfzis8N8FibhNIC4yjkYSF4mTEhc0Ls9ZjUtMXLKSAqeKNOHeIOaC+yzdZekZZxvZAZb7mh4qTjj+EcAdac+WuPAcNT4bcW3etFkNNDNeiir+kPeWuJQtXVZ3DCUviB/p1fDCfpJEiTvPiQMroVatXKVW7bxnCzob4mJXFSXTuBQJcUHkPbQcqJ4hAiyBDdIPilP8tDJVxHx6cM8V/280MpAG4qsi9yEQ5BOrHRhI6STyvZ+OyDusKNIVPfZ9rn6eUAeoc3SY1EE0NDynDvAO9locBJdV2Ij65eUDhDKpiDtIxbat2732KH+jisaQmzhAvGgfV68k0doUJOIfJE6n7mx9sHDSRl0/KwPpju07NR5BGy4uIS4C7cfkH22LOkxb1Pb3IxDSkw1xQYNIX8G0OKcZ01dpPkW5jxLckYdyzZi4+EI8qUPURU4Wp78Dug+M1G+eq3v8AgVIYOOSIXHBDXWCNsNhoevWrtd9imgv6YQbiLhNl7jQDylxiaeKCifp2LhEZQKnXqLCZxtktn1mPT+qZJ7npUc8CachBNzgNiviIt6zioRlqCOGj9A1/By6pWf72LDTEXFH3vMelQ8rebaKLpC4yD3iyNctanz2VWG7/rXSiBDbWT5SxEXesXuncFggRw5AygI/H4S44frpd4W8peyIt50moV6zERWdI0tzSYe3uWKOEuHkNXWUzpNlwuyYqWHIP6aW2PWXQyAZIIo8/yROECU6R07GpT1Shw8fPKxthGkePjL27Nqjz7IWJ+2KUHlQp8kLyBLxsPlRbOLHh/YHGGDJFz0pWH4zaFJXLGg7tNOE/vchl2yJC2mlHgwbOtw0a9pMVwUFZCGdtOPGz6dsiQtEHzsUDi9k89OJ4yeaDu07mOlTp+e36UtDsiYuEg9ICosxOK9v4oRJpkunLrqyNFidmI6Iu3SIC+7ot2PikgPJRuNCvFnWhQqfikJhsWugbtQm7oP0RBVGCISBu6yIi8h16SBXr1qjxrQctsdJ11SGtBsiIn4RT5e4pKVxQeQ+Sz8hTG1bt9XDIkkHYvPqUSEuGhdJL18+NK7WrVpr50inn1F+5lIkTDomWycThL+JFnFzhDrIDrOUA50YA/n2bds1X3UPkmzEBuGHqfDzmfCJH+VMG6AsGSQZuDkkc9bM2aqZDPzIVPxwbB0Kwg+Lc4+4ML3EjsMcFUB+sJkh9XT1V6uDup22EAcutEmtx3l1NiouuENLpnEmHP/9ohZtX77YOKA9nD1rtq7m0LNr+njnz+i5TgLOm2GwspqyR0HoW7IhLhA1tAv0l+w0y+CJFk/LKJ2044Y8lmu2xIX+hLhzphbtkn2amjRuqjumQ6pov2nFxZdsiQv14/ChI3oWGsessDN1qxattJ4k2LMVJOIuXeKi21hIfYuXQxdSkhIX+UeG2ME3CjQC3sUoyjJ3MilIT1RhhEAYuMtW40J4xIOj/xs1bKQdFF+TmoZ08wungqyIi9wjLIwmZ82YZT6p/YnuAIykQ1y8sL08wK9MiEuwj4s0gKyJi+8f7slHGtb+vfv1vI16derpCbR0SHylaj4Up0i8MJxGW8GgQj4F4sRbr44wYLO7K8fZY/sCicBGhU6WQSzsviBhoOZLEH/5rXXL5rGAsuOelreSdylvqZd07JxvhME3G8NlGq6KvIN/1E3SQhzUnyi/nHvkFYM25AmbFzpSCBxnutBWKeeE/Ewl4sy6xY4HbSuaLep2ZDys+O9p3SavikNsfPywKQemIyDhnBbMhwUniZeXKyfQs2HYRx9W0gM7+RhLmZ6HSKgTGRMXEeop7XyOfOA1adSkeIkLzwSMOfT1fWW82bN7j7ZVPjrZrp+zsLR9+W7TkayIiy+0qUkTJ5ltQuZoq2ih+Gijf003fNxlR1wWah4mHRvSCR9vKXftf1Kg5BEXbwtvKocbecBgSePhWG9sO2wmBemJKowQCAN32RIXrnbzH04IpWMuLHEpY21c2AlS7uuALddI/7gnIB85OqHOJ3WyIC4CeYY/aREXEbQ8wc65hSEuIsSP/Iak0KjYQIk9Ed54/U3TpnUbM3bMWF0izteQLgkuLpH408mSn9gPEU97PyGt8pt8tp0AX3RMDVGv6Uy5z5cdqmn80XcyEPKWrzH2h9A4uGELbB2m3hG21RARJzQeaCOPHBbikq1IeGwsh2GsGuf6aQ6E3z4IW/NB2g3x4jdEA9sfpowgURzIx/208wG/xS11E/sZpt9Im9blKHHigTvIXtph5Ur8OFMuDCJM31IODNh83FDXAR8bbMC5d/feYJrxUZBsiQv3+cpnap9TjKkPxUZcfBAWHxN2+nLq5KmmYYOGZszosUquM5XCEBfKnFVykBamjCAu1ImM6oIElSlxYaqI8YIxR8cG4hvOq3SSgLeUu/gRkJQoSBnTFnOBh36qCNDp0EjsIGxBwfIVDmFA4+IRl2LWuPhgwKARo3GZOT1D4uLkMw3RIy5lTO9efbSSaR7YOKTwz+Yj9j5pExf8s/D/Tpu4XBHiMmCQEozFCxdrR6Di+pmmkF9oJDiNmg2tKM/nnn3O/PEPf9Qv0k9q15F01dNwWCVSnEKZ8DXE9JWWg01bKB8hmXSCEB2IBl9xfNHQmfI3J8ZCXHSPhzQ7NSvEAdJCB0e9j6rTlDXTMUzLMD9u6y7aokITF5Gb12/q1yntU8N0xckPbGyIAxpATaf8I84Yy24X0oEtFnkVtI90ssJ3xwBx9MgxTSftPFLEHX5DtHRV0bViXFXkpsf/TR5Q5hPGT9AjTZieAAy0Pbr1kEG/mxJ1zv0J2tAjINS3rIiLCPX5K+mvmRaZP2+B9FHFR1wIh7hzhaSg/WMPmEkTJyuhViP2DCVb4kI7xj4R7Qqnv48cPtK0bdNOCMwM7UfSyg9E3GVKXFgODWmkzhHXYOwPoyARN7xPG0sgKmGUGOKChDKFr20beQY7OlPmzGk8EBf7nIqZkKYU0EITd9kSF95nOoEviKyIi+OPuxMkc98BccEv3EX5xz1B1sTFiv+br6EN61MQF18scYFo8MXIChoVPz4JSEMgoWybzZQb2hXSwYnhxIEGxkm0DL50VsUqkk8QAepHkB4nD239ZIdhvproiMhDzi6CqDC1wT1O3OaQQrVj4N0MhHIj3SCoV6F4cJ8BEmLAAYQ85x4reQLiwjvZioSBNkdXV6XwB4KCQTCDAoSFOshvVPD75QsXYkNHTdslXRnFSdzS1ogD+Z5MeEY/wiqvB7Ic2gq/JVymPlu1bGVq1qhpatWspVcL+q4G9RqogSh5klF+PEDJmrjIfeox/XXrVm30q794iYtcJH70N6zAGzVytJk9c7a2j507dqlGVPvIDCRb4kI9ZhURm48yncp2A+3attOtMDKySRN3mRKX5/7xnJk7Z672bRpX0pxueK7gLeUubSwfWXFREokLcaNBBJGXisJgwEAxauQoU6F8BTNm9Bj9IoVB4gb3mq5wGkKw/mc7VUSFYbUIVuFUXCoF77KkNy0Rf4gj8ciYuOgz75RU9hkZPmy4+bDCh/p1RyMmbpFlHOWXL3QG9nToAomLP1WkxEXeU8FfG0aKcKKE+DLooiXgSxTNy8wZszQs/CdPNS8y8LPQQlgWiJs2HzRM8pnOkDiS3wzWWzZt0brhLXfcmt1SeSvyTr4O1Q/ftluIu56aLHnEwIJmg6kVpibQaLHCRjupQkhB71MXIQvUNfIBogJp48t2zao1uhKQgVxPHc8mLrxikUJIv6rB3fZb3EIcJVzqL6Qc8k0fwyDHwgKM+lkSvH7dBmm/h/WDp6B0PSySLXFhWp12MHLESFOjek1djYndV9pp9/OUa8bExX9GHWXpMecKMRWNpoP+m6kiyAtpy0SyJS4af8lDxr1pU6ephhajZTRwTPGmlR+IuMuYuDzrEZegT7D5k6ngLeWufU4KxMTFmyaiU94gDZ5Kh5EXB0fRIPDPNp4gTSlg/c+WuBAeHTErbFq2aGWGDRmm7NmeYFugiD/EkXhkTFx4T+LOIMCUWc8ePU2D+g2VzKH2pMNkMCsK4sJUQK6JC0I8mZbh7BFshjjhlzy2DUAb2YMQSYvWFR8JabTpFOhzyWcGTaY0IC2QSkg2K9AyzY9AeM+GYyUcBwd0ZBDAzUKeqFMQFzQd2ilnGwekoHed58SB6TPqx4zpM7zOef5Cs13iou2ctlWYuBQk+A1svjwIkXBpfwzMXG2cKAf+1quAOqNx5PkjIMQ5G+JCW6Z/pH03adzEDB08VOuDkl3aVUGCEz+fsiUut27eVpLANDf9HIcjQqIYf9C86MdFBpItcSE+fNj8f+2dibclVZXm/46utdrqtpyqVrWlUJaW4IAMJcmUJAgyJQk5MENmAkkyo0yCkCkyCyKIKLOAqCiKgojJIKgg85BaVlntgCV2Le0uu6P37ztnxzs3bsS9EXHjPjLfi73eXvFuxBn22eecfb4zs0bw+uuuF4hjkfaGH2zQ9LJkrkMWTg9cXHie/E65TcLGUBvgApNRNATMZYPYATIDPXIe+HXZK9jDbztVhP6Yj+QAOmQHLDD8hoy19GVhTAJc+IY/Ku2//ssv1VhypTnDzvRuSvO4LKxIdYELiy2vvPxKVfougQsGET3SA/rU+ou0LoKweS+jaHqaTUJvTO8wFYYMpGmoXEWSbIhnLH1Htxg2DJFG4UaJzzfCK7ghDOoJZTRPPw9nyJ5BrpnvGGD8MW+PgaLOUB5UntxfTSJcTRVZGE380mCjPw6do3FiREiNOLokHOeU+F2hB/SIDKVpiPr2PAn6CO/9XU/dUFvgwndGJrFTNPDYTWyV7GWdPCJc3NmzMXAxpjwQFyPzuGfXGx0l5MB20+Hgu8pRRRqK1Bq4GKEP0kGnAqYd0+hTE7KoagEXI+LogUsH1Aa45DK7wqNscsu7xN+A4Sphd9cUuLg/zxTcyX3kPN5xpLBCeK1GXJDDOcrDnDGGJRSa0LOTTKk+imFFohKB+McCF2uMWGy4fOlyLZodWOPicYyIp5TMPfJSCdm1xHSLpl/iWokgf5MAJycaSnpnr7y8UTIoPZGRxfMGmTGENMy5jPagvPI9LxPxEyR3ye+cCu/QAbuSNHxcReYHYIDBGvCf/i85Ql3Kd9rwPXVTQYDzDQ9tUI/U0zRAMRzpwYBz5ZqnlNL3Bd2ICr9pVB55+FGN4mgha/rd/qcBUVmx8o5dIT+Qh3IzJO9sE7IW0rM5E3Wh1RoXyHWRcl3CbSwrbYALnNe7ErfBFsdvcA2aBLiI0rgaeMvJ/NQFLtRNRru2/dB2OnOsBy4tqTPgkrD7ydM0gt3tRMClwEG26HYcKawQXps1LjnjBHmSAoJxKc3jsrAi1QEuVFR2zTDUS7597atfU4PtcgxwRTylZO5DPoeD1LTYGo5pCfI3CXAyIi9pCDnpFSCV6zoSstA74mwTtisDcJgjzxttyNyjQ3p1aU+K0Rd6nSzqJV1O5BPTcKzhIt34p1w889NnNCVJ4w15PjIKwogj00IYT6ZkaNjlVw7D2hcMFoZdMqBni4dwWRfG+SHSK2LYN4wg7+mBusyUC0a/WNDIN9ULyPwgA4ty2fnE4WJs6wRoDQy5m3PKcziLJtRdnowKAlCRLXXP/4zSMFpEGYDQE9uGWS+kcom8vLewADLYDsJCbqaNGTnUDiZkjeL21A1NBFwmoVhGebYHLvH/Kre8d65BEwOXScmiGgdcVNfM5tD5YIrsfVu9T4uSqbuS1dPdlMyP1+ViOzjASbs0KffAxdjdtgUunmFyG5n3cldHXworhNcYuDjxnjAs3hSs8L+exTweEdZY4GL+2JJ6xeVXZNt8cJtsmw9so4ZKc7JRjgGukrmMzH2qU+lVz5CWIH+TACcj6czio1fijecAmSiMPAHi2DF0+21ftvy7X8DD0w2IYX0JjSjDtJ7XTLVxMRtbrckviPhww/okDoyjbvh7gAGLOH2BL2Hg7+c/+2c1IJz9wBUJzJN/577vht1LkWjUn3j8CYEOB2D4Jy62vrPN2aex0DOHYuEWsKS7l+w9MrBTil0gHKhGmYKoN4wEsZPtW/d+K7vl5luiDN8R6HA9YCAffeRRnZ3BGgPCC+DkVQERtoNS9iAAOOWOHVLoIS9bRtgHTgPmnBzqi8vGlDE7NGhAAE3PP/eCfrP+qwcu3RPlZHMFLmO5oeybOnChfrB8gbVFZ591to6ZeM+735PdcfsdGs2VrC3SLTI/yneLIwcpZWz2wtvvSXkzAS7GUfnegHkjNiRfZBTpmZZnSgW726bABU5ly+NL46yjLw/H/KTA5ZJPxwPoCAp9jAqP98aEMzMVUOSCLophxd8YAxY9C7icB3CZuR2ahobGi3MPFu2+KNvynVtm2227nXatUDEUhodfFc8oMveeHyl7GvhfYc4WIbvLn/6fECMZgJKnnvxp9kNrfAEWNLTStRFllUaV0QgBkRgOhoaLGZXHTvYe/RMmesevv8c9O3SYsvFpHuIAWHBuCuWGszEAIiz485EZCMOKIQOQCBxEGQA0jARxQJy/Q8/EgWzIQC/NiXSRDt4rL+wPGQEZgDfACyehAshYb6XRGsI1wj3rCBitAcwhO+kgTN6hI3fLk5EYdMNoEHbKCfkYVSFOB3C8I0zcA1rYMcKoE3dEBX2Zsmaz3MwDIt83S+DC91Fu/HsD2pSAywH7HZBddqkBF7MhbjuxO4yWAlp2X7i7gMsH3v9B2W10qHbf096UzI/XwVLA4jzfgAvxohjPhMDIah9T2QocwEDgsu/OHnYb4AIrjqi7ofhSXVZx4p5C5MCF9SPowuUbCK+MkvBSWVLO4yoLJ/pHhnxxrgEXpjIgKic9cIwUqH7JgQfpqHJk5aIyetR5+OPiqqLoZ1DukP48DU3Cm5Bc76wdCfdP8TJ8c0JfNJgcdsYoRQ44Cu6UDspsSsW08Js4CkQZZAEjQIMyiSFwvzTeTL8gA6MQgAYado2IpOHjpUR+/S4w6SYNeTy8s38B1oCRXAbIvuGWeszoBmenMGJET06jVNFZStID4fr/RbJXxOFuUmJKUvo1cjkAV8orI2QE4D337PP5eTJ5He6pM6oFXLriIsX35HUr4ALFMEq5Ib3uwMUIoC/gsn8ALnQGIDownHh95sfOzA5cvETnxKw8emW2YMcFGj3FfgzppgmZH+V7rIuVPB+Bi7NkpFIk7yZllE6YbYHLWC7TY8rJdwcu+350XxU+6cLiVyVwt+OoKj7eO5dR/IYM6cm5GH4KN9MBn77oYh0Kt+b4NZoeOt+ADeAlrHGJIy5wMd66lPor4yZhdUDonYaadRuMIPCb+jIETOx/yovWXgD0upTTwmI0izU0yICRpFySJwIRsXxQl5k24pwUpl+8cW9EyO1c0Dmg6ZWXXtFIhxNxAxqIyxsrAainng4jcFD0P0BpXpZ9513hPWlkOott5d5A0YHBYGNDZIAjoR96nM88/ayBzn7EZRo0Frh4+emCy8qI0UTApUPaJICL2QIHLlzgCXBBLmwXJ5IftORgjbiQZ+hqt11205q8vHPRVjfmR/ludawUsDjPO+CSxhlfD72vQ2k6EkbpUwUu4xjiaenxqSIuWeQQInRB/qgSRDdToxi2AxfAEyMu3FLKwk/W3CzcbWF2/LHHq4F++aWXVUGWHbxMJ9sOLEidQ8RIx6233KYpCIwDIyoABAwDZQai0QS4ASx8GqRRXuF2hHvKAafwMiVE/jA9RJ4AKnMy/6wdYWpFDbrJOhEV5AGQcEo1IyrUF+oGp4xyRo2mxmisjKgvyBvsib2rShfvq76VkbkFhFA/WKTMCBhAhnyg0UQn5APxIxvfyAvVH2TzutZTJ9QDlxnalIALo+EsM0AGOhBnnXl2tucee5p+LlLnh/rC+Vs7LdhZ7W4PXFpSEbgwF488ims2OKYtBS4XzCZwcTZZBoHLFdLFEHCZMtMwstCUKaAzTj9DjRVHUCMTw4wMO6IXGvCrPnNVtvTgMOJCj3wuEjucAGlUeBpCAAOLU5lCUzl1Mt3pt79Cnx0RowrsHMIwM5f9zz//hdaUkAcpBQNiEce8rE013KMHZNCiX3MLiGCx35PcjQRwoYx6GMVnF0TwFgfpx26hZ4wuecO6Isqt4ovuxNi0tBHtqTMaBi6hsZ4KcIFj3uZs1Bq4TMoFGgIu3EeGDmaRNFV0X2g7GGFh+p7brpnS5zcdL6bzmfa+6jNXZwt23EmL6dlxOKCbpmR+lO9m+0oBi/NcBi6s66CBCI01Cpk+Y+hJPwaRxY0rlhtw+eQFhlh/ITkkC7qZBWY+EuDCxYIc7sZBcuSR8kfGuDwNnj9l34aZcArsMth3GgCOqmdKiGv4165ZKxRPJWBXiPfk2TnDqZdzHbhQ5jUVEvXENmV69zTkKaG7HOSqMofnWMJNkUsozSvAA3Kk0yMiixM3o8IZItwha115IwH0GYVhdIUyofRGkgwdUx5mIi/1ghOqWVxMPcnJ3OCefBOQ8/T11BmlwMXtZWi8or00fXfBed4V2bKVtoMTwx240HaQ7+R5btNSNn8eZhpHU1YZTJjyz043ThFnOoYF7LIFBXfTZEYg2U2I3cYmH3XkUdmSxUuyc885V7vrWHOGTCxWHwAuf+rXuLSiFLhccvElKnzINVTopsRkJooFvXPx14o4VUSvlkqYN1pTZvIA4MKdLvvvd4AuMKQHgS5m8gc2pVVwMW1lTFgp598sbPIXAMd26B0/vGO29Xu31loX7vNg/396cyrA5eqrrs6WxjUucxG4oGvAAYtfqSfhXdBTzpEYdWAEBCPmYHjAbUr+Di7kYal7I+oJRoYwKa+ET9lM3dOjYo2N3hNWHXL/afwlRLykkfLov/k/X+NCWo0Ylfrlv/7bMKiakFz/lE/qCb+JFxl0rQVpdjJRAHbsjMqn7urqo6dahL7zEZdPXpiPUOdlj+IwZR4ALusvSoCLd/TKOS/rbbkgRwAu39eFszlwMRmK7qbJ6ILp5N0XLsre/773q/N71ZVXaVSU0RjSTZ1JR1xw3wOXluTABaTIlASHctHrR9kUiKkz8Rhj9KmISw5couG+jS9vVK8SQ4kRRlc8p8mgYgoT0zQsznVd+HfPOHr7wxzkK01jDcYvRofePKvNP/C+D2RbvHMLjbSw5iWfDog0H4AL5YJhX6bOfHGu6oFTVAfvGSrHSDAKoYbU8kTGy+tNysk7/M5w/AZHIgympTjTxEcBcas6a880LMosFxrq7JW6JBmCHHlYJUS54E6ZYJRjAyC/9n8C1CizbKdHD6lsVeGK+FYVd/Qb6sB/6uReFopT3twoeg/b3dIZYf0NI4Rss87zoafOCFtx37dnRlzYgu92SmWffJkSY++IA3tJ27H7brtrPR5nHTFt43KU8ygb2o6xjQ/c/0C2bOny7ONnfFzlk7jKZJ8Gkxec+cVFwx/aZlsdLnfpJZcpT7DtqqNW/pG1By4dEYWPE/x22XnXbPWqY3V8PA3lbDNDfVxwxQLUIw8/Mrvzjjt1LgW3ujICMXV+aEN2/3cf0GWRO354QXb8cWsECEDyNARsUS6TW2yNFd89HM6xaMr4x9ADWriC/53veKfmSxl+1PoBKMn/FLh89e54cu4cI3rtjz7ymBazPfjAgwZu/yM0gpEwCqz1QD+MjtGospuFd4AN6S3WGxpXfgOQMWq8o8LzP+Bdh9xZffS6Rjy4Rc8ssrv5ppt1uzLTIurVxrzA8DD8y5MeJ2tfAA2Al7BgNZlCMUIGdvwoHYSBbGZYkAG5MW45mROAO3eCsaOIW8cZlSTdKfGbUSmexM1ZP8jNaAdTOYTh8pJm9Era8rgsHuSnAcCf9ACZH4weIIVF0qSHBoJyzu4mvhGe69gJW4YcLz7/ogy10oqbnjojAAK7Uhgdxm5jA8gXbFWwR9PiYAvhB8xesi5yW2usV61cpU0CHAcge1nBHOKInGU2sC2zNvKKy6/Mdlqwk+5uu+vOuxRPqa3ukLHXPNHFV+66O1u+bHn2tre8LTtoyUHaQEHbjq3ogUubhI0hhra5TnzrrbbWwTj777u/FsgyT3fwQQfPGrONDMDw12/96+zd//AeHbDGcBsjMGwlY5FTK168pPy9MQWM7wfF38T3Tzv8U/bmN71ZJxuyGnzx/oslHwABnZSyfVM6TE6FmcRRh/GDDOh+rz33yrb6x60kwzFHHZP91BpNGt28DED2k90rV1sFIF4u68oPoJtDxLwxQOCaz15jlf0q/a9G0AiDwMJQFgfSqweA0/DSgLNl9/7v3K/zRFxvADvOWcHYcOgb/ql/Dkx4z6m2oR5ysNzvZWiZOuTUWy6dvPaaa7UzwMEI7ujdAa55AggAHxgnv5WZERAngAUjNzT+rJ9y4v3TP31GII2dSSLLS8AFsnG6L2f4XHftdQJx3HjthD5eNqCC31d/+6rSiTHEL0CORoKD7wQwjGjwfvyjn2gdFQfSMaqJHtAdJwzTgSAdImQwedhNxWgPO1fQK0aZ9woT/ZaUO8CYT2Pl5benbsjUyWjknXfcpcZ6q/dule2xaI9s8QGLzZ4syQ5cfKD+nzYzRcSdO29645uy9/7je7OP7PERvXebLpuZsNvHIF9HbPaZHZjbb7t99lf//a+yv9/y7zV7gBzEM10Ouob3+sje2d+9/R3ZX/yXv8iONSCJDRJoiWWfutIDlw6JBpCeHAWQ0Q7WU6y7cJ22b80Wc+kUZ5aA2gFQu+68a3bKyadqrQtzp2V+6jBTX1Vc5h4Zjj7q6Ozd73p3tusuu2maBl1wfsrFn75kBF+sNHCibVm4dRi/MDsEWOfDNNFpp5ymxofyoTISGx/KAflGBRBw+crcBC4QjToNJ8BCVzB4PTCmVw8YQRc+isITwALIwUh43SEcGl7ADiMHXtFp4JkCYkSD/70eMjLCoXaAAo+Hg900DZTomS3RHG8PAGLth8CThcMwMTIwGuNE2Ez1YNRo+D0dgAnWKLxg4TDyEhyHxgmQhXyM5jAVBmhQuhJCLy88/6KAC4CBcsJoC6AJoMV72RYj7A1pZScQIAvdoAsAD1Nd3AuVngGDHlhvhnuACPIQXp4P/iwj/+7cUzdkuiR/GVnYbdfddBrrGad/zOzaRbJFsin2/6fWma2blMvsr71bv259dv5552dHHHaEwMKihYtkL9dfuF4yBB60k24j11u4uOuC112wLrfbgKeFu+2efQxdWBxDck+BPU1M1x1x+BHqdJ580smy2w5anKlnAbhc1QOXSYme6t133Z3tvNMu2m775I+flOHHWLNjgSH4aTIGmSfGmaHGZUuX6ZRBGit6ihhJZxZfDjPvh5mpAhqVcZyHYe45H4RjmFkQe9655+WNFg0jawymxTR6xME0BL3gb3z9G5o3Zhud1lVYwaOMwCoHRlyAx+Kv+QBcHnv0h9nP4yiDwJvXBf41ndDw52TvwmgKQ7TxHWTv+S3/0W9O6fuEAAHUUcAH9wkBLopu+O15g1umZYgfAOMgIvUjt/be85FvuKH+821A5oTIX2QAOAyRheFpdiIsX08gA5rIMJRee7pc2CN9c4rfKIMYWcATZXIozAKRDvJOaSO8inT11IJMl4Djb97zzWzF8kNkJygb2NLUNpbZuzachik2W4nNBpwDnliQes5Z5xhIfk5tBuCeKcoiY+ewW8GWj+JmsgPQmdbf+yN7Z2tPWKsRSta80Y4xdSw2edWmdcipDCxEv/222zXydcEnL1RelBE6YEkEmy964DIBUQGYagC1g2ApBEXDNU1WXPZHT/mhBx/SzZlURIbeaQQwpjKqkQcMYQyjlHhf1F8Jh6HskLmgYQoT24/pUTAFoUaxKo4pEMaeKQqGXc//xPkaJUh1ILmNADqfmevAxdKKEfzmN+5VeYC8vAyk1f7HMAJ0AQz599RNGzL/6B5wz4gLwKUMWCAT5cTBLyMlihu3oziVEx5B9LCRQdNfVWRhAH4xmunIzdjwa3wnjZRNOjb5ORlVfuw9I0rIyohNP1XUMUX9csbT4YcerlFhpg+ZWnV7NmQrWzL+yT/CDY1gaAApC7KXJgOAgREHQAvf8nLBsyWHTkY9Jk7WmbA2ktEXRjVnNnWEhcRqZ7Gjk7LaiqADwlccVvcZbWXamruKGInxq1qKBDDjGIseuExIGHpGOlhTQqZz4h9yqdCbTF4JpsWhQvxZBo5FVgCX8z5xnowjClealTkzz4EKGb8PEe/4PoZznRujCxbDsuCNoUbQsb47eVzT4CgHDRRrJgRczjtfQDLVl9wZIRvrHebLVBGNcch3e5nqLRKggtEAemu5O3c7CZl/ZKCHpWmfqP+c7DvxYbwwmBwQyEJWuRvHDWSjTtKzG7cIm9EQet+6uNGpAx3AGG56rumt02WEPnDHNJVPyym9PXVDpnsWk3Pg2eGHHa5OFiMM2NEBivk2VO6acEU+k8fYKtY8fXSvjwo8FadRSynKE+x4GYd2J9ThekzdYJEsUzV0erWbh7VbVicpe7gBfBX9NeVcHyVpRPdsIGC9C2faVAEX1tH1wKUDYscAUxN7LtpT6yu8oRSVydAxq1BY2lkkyK6NHLiYAcZQphmTs72XjIQxipB/FBO8xe3/A1w4gI6FwszjMo2jb1B0Mw3OK6w96SkPApdfDqRdFchovgAX0uS9J6WvLI32jrx65eWNGkHM65R0ah+r/NUl/JJXFUS+YRwYAudk33wnEX5GcROZxqXBviEHhpGtyHQEcrmbxDOOaoSFzumN05hqyqxOXe2pPlkeYCdY5A1wYc0eI7NDwAUivyblMrL3NLp0Njk+grUwjHpWUhKe18sqzstsTaYddeByztnnCrhQB1XucAP5c0rEyA4L+ceNuPTApSOiAjBXSkPJQqdNDrjgxr4XM2JiY0jajFVR4v8OXFiRzqIrdpboG8ST+KbEodKGxZAcX10JXABaRvMBuChvnMalzb4zMoIuHdiqTqEvdNylboph8duY/NPamphHaf6WcpcyWXgyYJb2fK1LlKvTeOqEZ9/RP3IoH8hH0ttTZ4Sd4KRxpopoKLHbpcBlWmT5SfuFzebYBmQoBS5eXry8p9wR0YayeJ+Fwqy1Abjwrss4xhGjO5xDxs7UHrh4giZJ2BgScIkH0G2WwGWUTvg2ivHvYRgDXEDNbClkVXwPXDYNQidqjMvSF/MF3TlgUfmIHOqVOcKdc0MibmSgF5eHVYdwF/O3lBvIQroAZjxzSv3zf4Pw2hA6Zi6f3UWyVVVUle6eOqMAXB7IDjv0MO1qmVXgYvlLPWAU9EGz2fvts59kEHAplsG0LEypfJLuIeCCLqYUXxmhC4AIW7MZre+BS8pTyIjNHrjAVVRH/kSnPvzKWQNcf9ADl9efWNPBBWUs9FSeF9MY84V6NHNuSFJOjHPwgq5b6AiDzC3MHKVPnR1JafhRtkpuIAtTYWyxZA2P9FAkwjIm/ZKxQdh1ibLJNBTrfUbqweKWMUX3rvcSkXtqTwIu331AFwsyOsyultkELqwZAUhzSGglcOF/z/sp5j9l8XUHLmZ7uHuIabMeuHiCJknYGJqzwKWu7IlOGwEXKP09IUsP9mwCXK684jMm6xwGLpYeFpkyCsY5Il4eyojFoJyPwgJa3GG4vKxMBFzMD7uFON+EMkmdLSPyjq3szz79rHZ8yB1xEWcVN5AFsMBhhP/2y/8Z9FCkGBc7OzjkTufEdEwsOuZmbsALILGK0DVykB/94tzpkAMXRlw4I2X2gcv/1QLYFLhoQXhapsnzIjco83WJutYDl8H2cYjnNHC5cJ16lTI0UIkMajgLv0mHb3lUOpSWQXdVrAbb3KfA5RPnGnD5+QxwCdvxBjPCdaZwIP7lHfHG3/rmzyqOziFWyTNvPANcCjszyvw723fi9vwc677A0oM9HbjsWRO4aMRljp6cCzEEC2BgsafKWEr2E53gBmDjp8GiQ69bTPPk5YWy0VBH+OECUOJnu6lkKAmD8J979jk1JjM7mwIPxc2TfC8Jp5TMHQuU6dGymF5lAL+p//ibkSmOQWcXFmlXvB5XLGcD/hoQ8/g0ToDDUY0k9ZbG47FHHjM5fiX9S4aeOqMcuBwCcLlYwIVy1oRalwW8mV9GXFicu68Bl4svungYuPC//0Y0Z97ZUx0M1dHQIDauo9EdfrU4F+By9rna3dcYuODWuQX1wMWF5+kJmiRho8jCYyjegQvb6jD8eQWIMqAYyeeMokwZKJ3DfR579DHr8f46V2DgGbdD6UjYw86ByyGH6vA3XSZncfCtNCOMQ2aFDMFA0ivWORfIHWUX+e8qjiRjkIy4AA7y7/bM01/gAKz+rHNEuMKc3r+I9BXcKo9LWHqwJzJwns0ei/bUyJMbJNjDgOYLcEEnABOln7JUQQBwjAWNK3qgbHIyrA7MMkZf6HZUGKVkzgf8lHm3d8jHeS+MjJAXyIxhZ90UdWQof/i/LKwqiu4li/uFneJvZGBUxoEFdYOdVoBwtlNz3EHpWoS6ZP5UBkf5t2/YFUaqAFx5mcdPyj21phS4MFXkHZw6RH5w2jKjZ3RUW+WF+aF8c79bWJzLiMugvRwgfsMWN2WY+soOPA6te+LxHwnkckkjYTYFHZRxgAs7rM49xw/trBcGOsPGMg3L9n1OuwZcNCVGIL/1TQMuewfggs0pI3YecgDdgg8v6IFLKyIs4yHgwlC0VwD7jkzIxrucTREYSIbFucNlzXFrdAAQ75UmKzT8H9yTLgsoTUfCfCP8InDRiIv5H4jbMyFhjDKFjvuWzj3nXN21kveK4QaEkRVwOfCg7NKLL1Uh83C8cJQxOuR4+Bu+cEN2xmln6CwPkaVv0G3M4xKWHuw5A1z20JkEnJQavoXvajSMkG0+AJecYj6MpOgGXTFCwggI0xUwdwG1XsDo8Y6Sgfd5PoaFi4AY7hji4k06BEN+q8IaRe6HZ1l4yXvKHL1gTh1+6QUzzFZfmXbjIDtN9RT9j6M0/Lp+cRfL+AA3CaOnISoCFxpf2YYxOmWB+c9e+Vn2pRu+lJ195tmyuZSTxnlh7gEZ7ML0Bamyl/FbaXj2TnXDyh6ghUsiabzv+PIdst1crAug0nECDeTBPYd2AlywmZzpRFtRJwzA1p1fvlMycNnwFZddoekv6aQBMW3G3WScacOuoirww8nB3L22oD/yvwXFsImPHiHAhcv9KHx+0Je7kyE22QZAg8lMhnMD54UXrNNJs9yiTDooRHyngcCtp20oLZE9fDKeMLTGRSMuvwjfnJGhkDn8Zt6dOf0Lzr8gO+rIo1QZiHtAlzUJGZgq4uLDInApxj3D4eIsLuJjjdCK5SsybkiFkCF1K11YWir1YM8euAwS5Y71Err4L+bFENk79IN+YQAoUxWUJ0buGAHjcDouEQRwNyILm3rKScWAZOVfhQyqI1b2vb4AVjb8YIPKJIZaftuQecPAUefY1SOi3BSCU/j23o02DQvxMgrIib50Su771n2aihzoHY8j3BG0hYs/gPrItET3OSNrGY8IoqfRNARcop0Yp1P8caDjugvXZ8ccfYymN7y8NCXKZApcOBU2z++y8OwdcTHVSAeTO3seefhR3b91wvEn6KRwOhtqzBvIg3vqGcCFtoPzg7ADkmMMAeJoO7j2hlGbj5/xcXVAZU8bUA9cXHienqBJElZGMWwSnAOXj+ylCsCwtlcAbyilFMBITDxPjCI9WO72WbZ0uQoO7gAuYV1BS+DCiMsnZoCL3EmWEuBijBw0KiDm1atW684KZBzQZU0iLOZs2Q4NcNFwH2EgRiHuGQ66oHG9/dbbBZ5GApcKXUgP9uyByyChDwwKh8uhP+mrhCjHAEhAi48G3vvNb2n6jjB+8uMndbIlv2vrydyhc25sZlh9YNFfgXHH+hOANKMtEPG++PyLahy490rytyHzxsiJ30cD5XXDyX4iG+WAqSCVV6uHjFwC7AFv7Ey679v3ZQ8ZcFHZriuO0hfWNOjqg7JTWlMy99Rn8gFdoBvFlbK5EffUiihbbYALbihLjG6ceMKJsv2zBlzsPXaQTghl8Jqrr9EVEtStI484Mjv91NM1Otq0npQDFxOgSo6EAOI333RL9qgBKKaJzjrzrOzz135etqQJ9cDFhefpCZokYWUUwybBKXBhnnIQuMwoJBUcmTFcbggPWXGoEDTuMFRyY9/57WkbSktk4hgJXJAVMrflmfPnfIEx14kDpFjnMKDLmoQM34uLcy+9pD5wgVlPAWhaecyqHrh0SCyYxii9/NIrIe0VaWSunilD9EKDydQQIx2seQLMAFww9Bg1las6pHwx4GKGFv/cB5MbeXt42YDIX9Z5cacSPUqIusCIBwaKqUTKSWOKcdHY0FNm1ESvS3RBuhhh4pZpjSyZP8oTDQp6AXhxTDy3XDN6VPRfSVEGppd8d9WotCAHABG32AjpG32lXDfunkqpLXCBGLXj/q9TTjpFh4/OJnCh3BIfwAAbT3kFRK08eqVuu2ddVFMaCVzgMeTXU9zz9Xt00TAXR9KGNaEeuLjwPD1BkySsjGLYJHgQuFxUA7iEhpr/6dkx9AzYYGESFaJL4CI3TlGegcyITE+XQnP8cWs0T9kauKQjLrWBS2AqIsDl2NXHak0DhAypm1G6kB7s2QOXQSLdlFHAh3RVkUYaZR+RoNGm93TP1+4ZAC4YWUY+KMO1KeY9O4pkZCriJ399SzYjgBBlmpEiyuZz9l4Lh9uQxUl9omzkYVToAsDAqAjra/geytSftCiX83DQC8AKvTYl/NBJ0IjSKO8WJ3pn0SUGXHEh74j866kZTQJcqA90OE8+6WQD97MIXCDex2+AZ9bYsL7lc9d8ToB61Db7KpoEuFC36RTg//LLLs/O/NiZAjBMhzahHri48Dw9QZMkrIxi2CR4HHBBLgp2mAKCI3Cx3+xU4JjjQ1YcYplwn3rHGLUwIhMU5mkbSktkj6MNcEEunp6G4449ztD7XZJhQJc1qQ1wcRkAcZynwqgPlQBChgG3I3QhPdizBy4JlaWnIo0AR4wF5YjGlR4Ul4eiP35z1T1rO9h9hi5rU02nhEmDwOV31BOI32zTvtd6t8ijBr8NIUNRDspNiWzUS8qCDDe/rS4CqDhA78UXXpI+tE7F3EgPJWGUEvGlhL8KGSDqBenXyAzunOvG19NImgi4GJC979vfyU468SQ10sqjFvnSFrggJ/IzIvfFG76oBp/pTF9A35TaAhdsKYua2RXLKCXTRaecfIou2KXeNqEeuLjwPD1BkySsjGLYJHgscIFNNgyRMwWdxoCh+ZtuvClbdvCy7MYv3SiDSEbInacp8lBaInv4bYALRGPAPD4VgHs7PnfNtVoUObZXWEJNgQvp5Bv+Xn7p5ey6a6/Llh60VEOfTB2Rv6k/10lRB3DQdVPgcuWcBi6kOfwTHhA6LBI6oUxirNARjTfbQwEq5Av/M9rw3DPPmX7/FH3VIOL1uNP/axB5j/FiV9E9X/9GvjAYWVXPh5NRThanypn9CZDLf0hvHXkoJzQKLKRnkS7ysACSkRnpt06azI2DLpXDWAbln3QUw+B3mj5+p9zTxNQKuNg38hG37AY9/LAjsi9c/4Xs17/6TWm9GketgIt9Y1TlyZ88JRt7/nmfVBty6y23ym4CXppSW+BCG8ZmjKs/c7VmDLD9Z338LHUI0VET6oGLC8/TEzRJwsoohk2Cc+DCrqICcPF4+S35IiMvBpGDrjh2ftXK1dkVl1+h4frUuCoc+Z8Jq8gedl3g4uDJwREjHRhkFtOuXbNWC75opNqcVdFuqijssHr0kcc01Mji3Buuv0E9bBZq4iaV13VS5KCvZsAFnbMeB+AysGYhypzzZkoqN0asqRAwM0KHRXL9pIS+ma5gcewLxuyqqbWuw7/bk/hDvv9ZIzW+dqWS8It49iQfWRPDbjOMO0/KE3U+N6qQxwel/zvh1GRgNJNeIPmOf8BZMc1FQgfUSbZ3Mo3JzglkoWwyPC7/Ud4h8nc8jemlIztnbTANpVFVY5XHon9+e7jOPXVKbYAL5ZgyCIjGdjCtzc4epljz3WoNqDFwsXeUZQA8/o5dfVy2fNmK7Ogjj85WHbNKNveVdC1bWRgl1Ba4oA86MywvADx98eMJELEAABdVSURBVAtfzD5/3ee1RpF2sQkxuijgsncN4GJt1IIeuLSgGDYJduDCOS5DwCVh3jnzm0aenTScDwFQYCiaAilj5rI6Q2k6ElaYlvZK4OL+Ifs/l8P8UPBA74xuMNT3zNPPqoHCuCPfgN8aVAQuKnwxDcRHPhWZ9FJoWdfAAlJWydNYMHUBiHN3IX8toEL6nUO6xgMXwsI9jQcnZh54wIHZ3V+5OyzGjLIOhM3vzZVMdo6ux5CUHpQV00sekH50gv483eQn5ZtdQTT80p2Th5W84l0oV1T2uK3Z/ACCH//hE9o6ybsiKV/MD3Hl4MR+09hTFqknGCx6ePoWywJh8Vvlgr8kv/DPNycOj8M4+xA232WcXRye5p/0IwM64R2Ajx41Q+IYdKaNpCO8mHvFXSSCjWkPslrQ9j9hAdBZJwMIpHxLTxaGl0ue/CbtTCVTP5WunjqlNsAFoqGkfMhW/eQpPfNrGRoSYbFUYAa4xI4eQY2Qw6cvAVBM09B+sL6FtoQ6pDo2Jh0i3BgH4PJwdtih4RwXOjpeHgfqdwmxBIIRekbtsdtcZ5EfvdCAaAMAIh/lALoq4GJhUo8vu+SybOeddtY6I2RX/Rijs0oyP17/hsBKyqZz7EkXvHkAF8j/T99BxXcxzAE3Tmk6EsY9aS8DLrXlKNKobyOobMRFlSiRc4iRkbREmfLGIP7O/bq7Cg5u6gEXetvPP/d8dtqpp+sMHQEXr2xJmGLeba5kstNAasHrq8PnjqAP6g8NKqCVXURMiwBU3HDRuGIs2K1AGXOi7vEe/Xojj44BFxhVwArggDCoI5wDw3kTHJBFvovsQX7hHlDAolh2ayAvQMndUK4Y/WH+nnzCWGHoALcYS6ZtcEN8hI2cGF/ABnlNGACfH5txRwZ0wXtAA+kkLkAbcjANRH2mI4FsKndGuCM+WOXCiLhwg27S6y1cDwAe5JVc9g65AS3cC8NuEBbFSz4jdMkOKuwHftAHDSOyugw9dUdtgYvI3fCcIGuoWzS++zhwYUcQZQseF659FyimLrlbnu7X342i6J66w4YIdKGTc63tcEA9EHZFmAPlc4S7UUR9BsT5kf9lwAU5mQo7ae1J2cLdFurUYc1QEH8dnZWR+QntgoEXByllPC+BS10a5aeYlsjE5ca6DLjkmZpSU7lqUivgAqdytuQQRjVwoYxQOGkoaABv/NJN6umwxoVzQhiZwP+QLFPS1ayQyU7F1uiVNZpFQh8McbNFmIV1N990sxaJ04gKuJh/GlG2EWtrLtOHkdAzJxzT06ORxi0VHADw+GOPq+GnPEDkMUPY377329nTT3HqbBjNIw7qCyNC9LbIB9YO8H8+rWTu+P9Hj/9IC4QBF/Q4SQ+AhZ4i8Wm0MgIRQATrc3Dv24mJE2DA9lXAg0Y7ojFiNIqDvB76/kOS8bZbblOj5rubIMJnShXDKdlMLsIFWKAHzr1xEIJekZP4mWoDoIQPmU4l1ZbqCBDd8AJkAI7UH0A1u7c0XdpyB1NPo2ki4ALhrui2YTYJuFh9m7mf5zfB5syW3SEOi4u2oxS4WDmeFTmMAC5MfwnEFUdcTAbkoTPC+hZAC1NKnGVD/VW+tdUZfowJowcu0zA0xbREJi7S3gi4TIlaAxfY5WzJIa0VwMXCp6zQ2NHjv+3W27Mli5doWJIjql+yRoKKQ8F1zuUhK+HNkUxu0kHFU1oKRENL40+DDThhsThrUShLSr/94YbGE0aHThgSAEIYnTGHRGFP9Ehj7iMNIvtMvtCjDOuWZqaRAASc0cIuDYALd68ANlJCFsJDBoy9E+l6zd4ThvJM5Sg0CMjggM11wBZN6ifv3YiQPkalWHsCYGK9E6M4TFGlYA+ZiQu30oN0i8ENBzgKYKAHyB7oAf2Em67/HN4boVvCdtlcDsANI0SMxtALx0gDKom3LO96mowmBi5l1NAv5ZSOwiYNXGap7FGP8hGXAnBBPuokmzcALAcvOTi79nPXCuzn9WMSnZk/8h4bkgOVIvfApSUV0xKZuEh7D1wIYxi4sCOGgsdaAeZfb/rSTfq23777ZXfcfocaiGLBClvWGaGxAAl/Ctm5KRDpozFnSoNyjBFQXUrKjefPgA743/XijNvEX87utoIx3gAPGnlk0Hsn+x95yBPyj/KFe35XyuQMJe8wSp6/pNPzOPxvoNbCBVAAQAb8jyJEKKYZwl+RneJv/JC23DBG3aMDTWWZTHmYHm5PndFUgEtD6oHLDAFctFB5n32VH36QHnXeQQvf2LwBsKdtkR1I615bnZk/1ce8LpZwD1xaUjEtkYmLtPfAhTBS4LKntgrSKGMgOECMle9LD14q+ZiSoJdNrzc0joMFUz14l2kK2TlbhE44VE7TOfod9KQ0OfNAh6PyI9VB4k/E/6nbgh/qKKCAuuJxh0bbdP6/AQ1jdvjwKeUWRBmgbgJMMETERz5TZpFP8ralmnIRJwuNGYWRe4vTjaJsmP3WdJOHh0zOPXVKPXAximVs0wMuF2vKmTza+PJG7TJl9yfXGtz/nfvDiCn1xHXl3FZn5o+874ELFaBrKqYlMnGR9h64EEYELt8PIy7oAYPEbha26VH4ly9drvMOWINAL54KEBrP/5MwBWxm9KGzcjPbZHKTJ1x577uKaLg5Wl/TK5Y+6Y8kosOyfIGLOuD/4m/CKWHqJyMILM7V7dL2m+ki/icP0LfCnzIxxaM7h6x+YpSZyqFsoBdkcAM1kK4OCaPIdBf3RrHwVu9M/0xd0mCRT6EMF3WPQznvqUPqgYsRcVhcmw5wuV8j4ZdcfKlsFAc+ciIwdpuDSdGVr6dz2Qe4rc7MH3nfAxcqQNdUTEtkN3SbBHAxGVLgwjylF36Xs5JdzpYc0hoMEos9F+2+SGcSsF2QBV3IxDkFX77ty+r9q5Ba2UnBinMoYAlwIY4pZOnUCZlNdqbIAA+sQWFqjPUsAAfSOazDYVY4afrLfifhpIwOAQk01gBZ/mdLMgta2YKfhz9lIq2kmfqKUUYWwBQ7mDTqEg3UtOShjFPeGPb2HUiM9rEAlzU+ACvkQl+5PVO9MIdwT51SD1yMiMPi2hSACzIwmrL/vvtn69etV9387NWfzZYevCxbe8JarYHj2I6BPIryT6wzgrRw5yFwuXeTBi6SB5HacEmcQxzd0ihxyeJsj7iQ7zTKhIFBenjDw9nuC3fX3UvrLlyn6aEjDjsiH2kJhTEcAFYsVDM8B4BLJNJDpSQNNJAYSB1I5+niOYqLaed3+q4sjNSNPZHBQSJbkwEyMtTTpkQG4pYuLF8pJ5TPsJ4kAgbTUV5XpkSyV+SFEfFiL7TVXODJgUsoywN1oqdOqQcuRsRhcW0SwMXK//3fvV9TRatWrsrOOP0MgZg1x69Rm4LdyuuE6ybKP7HOCNLCnYfAZebIf9YTKMNx01V8kIdXSBNpRg4qAdvDHLhwkFwwgrEHFzMd2dL3lawMG51ZavyjsSVchvHYWw9w4ZAg5vP1jUJhT3dfxcQ5ll2+Asu/PZGB4fhddtol22G7HZQvq1cdq3uQWO8ifUUdKN7KAhnTZbJL113m5WySyZ2XxzLiUywbxbKVc9Evv52d0neF9wKWyrsQD3pneg7dT52QxeIP8QYD5OmVHJbXLhfP0vTWJfyV+Y0yiIgixkO+MF1J3fWyHWQzd0XuqVPaJICL5f0QcCF+52kTcVjZAjQwSo0u/AA66obsxiyVPWRgjcui3ffIPrTNh7Jdd941O271cWpP2M0X6muwIbluovw5+/umRJDUf+xDFVe2E815kwAuNJRcRkfhu+CTF2gomJEHn3LIjZHJx/9lPPO9ioM7NbTR2KYsWcwdZ3EcusKAy7nnaTgeJM0JnMiTs/2m0o5itmGSLvH/qmYO7sK9h82iKba0Mk/JFQL0qglD4aZhtmTCYC6UQl5k4ldv/jev6nj27bbdPnvH370jO+qIo7Kvf/XrAURZAVQhRad5oZy7wIU0cjQ9ZYGRhVJyfcS0Ut7QC37zBrSEVGYHmJfh2wDZO/KfM1QYaUnjKg27GEZZmEUyN7msFe65Y4ntk35Uf16fAE/uz8OIv3GDPkqJ1+mn6H7gXSR0CUAhXA7SYws6wA1dpPobSEORe+qUsCU0lIcsPyRbd+F6nTNEJxRbAqDAlujZBRNWwtgXygrxccw9bQfTI3R6lf9GoZ6kPNNedM3YVrYic30AwIU1gegnl5e2rCsesrNhep7pU85P2n677bP3/MN7dFnjwz94OIy0WPpVB7xupOT1o/i+Lpk/6h16GAAqRZ4TwCWGh8Eh02ko2V++8piVuhCONQScAhr4GR14VcW44a6Lp558Sv6qmKPwYRYYcgJoyoRBWOya2XOPPbOjjjxao0DME+rgrsef0OFZXTOyzPCTOoOCuzs4jvnEtSfKMHDgmOQ3WSbjcAiap5WTXjnzI/CzeTwMN5526mnZ2976tmznBTvr8jEaCiqg9yLgmUI5d4ELxmDDDzZorpi1R5RVpSdJS0h/aMBpYPkf4IrBwNB42vkG6MXY8kzdCzwaoOS3h41f3rEImDwjHx7e8Eg438X06nUIw06YAIvcP/GZG/Is5IG9Mrn5H4BKOvimtODcvvMegKSw9TJMy+AWeV95eWN24xdvlD7YAo6xFHAxdjCv+PHOw8LRFmxLg+xKgUh3rssoL6A6yBXc5BTdAJoY+ePAPOSSrPHbAPc0dSK/sU+LD1isO38AENg0bMtPzZZMi7FTXNSJzSK+q6+6Wo31CWtO0KgH7zlPiedsMddxcLnu3nvtrXuP6OjRbmBzZ4NpO+jwHnH4kdmWW2ypDRSAFuzK1Mnqm9uWAaBSZKvv5e1Ec96kgAuA4YPv/2B2wP4HZIesOCRbYUieg3IO2O8Azdvtt89+GokoMt9A3NyKCe+z9z5DzPu9xXtr6qPIHKTGKbA7bL9D9ta3vDXb4p1bZIsWLtIcIWEHv6PDaMqEQ3iST/xR7eRBB3/5hr/M3rXlu4IM++3fCaNHdIuhgQ9cvCThA7PF+y/Wd+Lc4h1bZG9581uy1StXq9GknKiAWhmhcdIzBy9zF7jQkHKy7eWXXaEDm3Sarb0jPZTbja9szI+fBzygD4wFhpMt5eEMnABQGE1DlyyqZVRRQMV0CMBhka12Lpl7Gm6I9SMOmDnd9vPXXZ9db8xt0+gXGXiyMJXvGiGMhoo4Ga7+3gMP5mECIrhGgI4AI4sM7Xtc+EMGjK3WVcX6ycFwdAo45p9F2gC4yy69LHve3OIH20EDhgzIysF3Sq9ASBihIS4WNwtkGLEjirg4KRcAFIxemPKRbKZPRlUIm7BYCI7euUqAeGkgkQcAtzmWqblC5C+dHOzYh3f4sGwx9jocl3CQ7jArs0NdMbYK27n9tttnb/ivb8i2fu/Wsp9qK2gXzJ7PGlvbtGDHBdkb/9sbs7/9m7/NFu66MJdxVthsO2l/+/94uzqcp55yqk6PVsdp2nWEdmE+AhcMOIboU+s/pdtC4eOPPV6LikDRJxxvzHPN2oT93QlaMX3i2pOyk04MfPKJJw8xdzPAJ55workvZ0Y4jjv2OIEm1rnwfxpPytwC3QWXybN61eps2dJlkoN0DaTlpAkYPZh+SOcw8z75ZnLg57Zbb9NJsFSAtGDOF+ACASwYEWPEJZ1DJ41M5T34ve+r14U7iAaYhhqAogbY9EP6aehp4AmL94AG9AeYYNSLUTGm6QBLEIAAtzTYnKHDkzDJDwcB6BiQhDuACOFBxMUOII7M12gZIx/2DrCFDITDNmIPh2+AMEbhmML0NJImDCCycYQ+8XANP7dOEyY6AHxwLP+PnvixZFN6zS/pYJEiwCs9+h8/ABp65oAYbA7liXife/b5HJRQbmDObOFkZkAfVytwdhAjYYQjOXt6XQj9U+65aBVbDWOLg40JtoTf02bs5fJly3XBIW1FmZupcrTjK49ZlS09aKl1uFdkK49ema05ztov2q7Z4Ngu0XZit9n5+S9WT6iLU7e/Fi5xpO1DKc8l4AKTaAwRPUYM4AvGGFd6lhtf+ZkagZzN4MH0WJ0xjvQuaUSqmO9ic1sMKw2feVpuCmX6iPjTeOAZvzG8DjiXIzJpx3hzcym/uZtFctv/RXnaMI0O6yVGMXKhexpYGjvKSVow5xNwQe4AMpKFsPZO6WY6xxp9GnF04hQqcrjXSeAgfgo6C+F4Zc/DoHdkhBv5cUr8Eo906cQ3Y0Z0gpEKr/09RFhhvdhMvIAKwqtD+CNs8pp8RReE6XKSbr7TAyctym/IHm5T8ndG/HZ/LiNEGnhPeSsScaGj8H8og6nfnl4HMv0DWrGHwVZvzO0Hdob3AO5pM3EzKso0uNvL2WRsJW0M6UcGRhJpy5BFbdNsscmB7tEHoIURYOqds+rLNOoMQVv4Xi8ree4Bl9AIYBC9Z8goDPPm/C/5LOEydO4POZpyjAsj6EYzKDxhi8cbomBIC98jqyC4LB0z8RK/GrL0m6djQvaCPIolh5UJGiLyRSCEwhcZ/aGH8HuOA5cKCrqKP6Co35QG0m6c6zf9P35Py6TelVGFHlUuyZcYttjDtXd5HbL/g4EJeTOWinF5uJDHE4mwnYfI5TbW9xIn/q7ye0rjvvc0O2T5EEDtIAfbGcrbtFn2UjaqcHz9LDNxh/TPTrrLGJ1L99J/ootp1hcL2+P29qGUzQYNtxHteJMZcUHRM4kM8qSFQG67IE9TmkZ/14Td/1wmS2NVgeyBS6RRaZL+7Flgf5frpcADdbCM+JZywX/KIf9CHqp+x//998h46pD7j3IQn9JVFm50Iy6jMj89bfpEvr1eefd6xp3Splh2XTfT1pGFHezMcDsxwHMCuCRhe6LLWEYwjbvIbajMXzHcOtwVlYVdxl1RWdhVnOePcVIIe+BSg6L+qrgK1Ehfo3TFtzFhOztYqWK5GxVXXSqTqRiuuym+72nzptczT/vy9PqT6d/b8ByklPGcAC5QIXzip3FMDesAcCky/p03ZypLW5G7TCNhWZjotor9u8fP/2nBVF4Zh9+Dw8Qp98ClJY/TFd9rhD9Ql0pY7sbFVZdcJpfL/0+p+LunnnravMnqdLF9KOU5A1ygsjiactcyzTaVpanIXabRwio2YGWsOGGLn4LJO587dTfjCivfc/nh+URRd624rq7K/Cbs+VTFcjeNfPG0TyPsnnrqadMhq+PzD7gUifCL3FN3ZPpUIRsqWDOFiv+HGjWe9tsBjJcHbwAr2dzP2zyMOmvEXeuqLI4iz9f86amnniYnTPy8By49TU4x35SXab4ZhwLmUzwpjwcuDlryb5H1voIHwphvRLoTPdXirnVFeOO4p5566qktmQ3B1vfApafJyPKJ/PQ85beDGJ7lBaw9cBnLHsZ8I9Jdpo9RPF911VNPPW2eFNuGHrj0NBGpEFlBUZ4CNgo8PE0Ejwcu/FYYPXCpR6S7jMt05Mz3adK0w+9pdqnPz55eb7IyqHalBy49TUIUIvLV85O8TRlgQp6nrAKh01V74NKUpBPjISq+4jdcpiPnDnUlmcpk8GeHcfU0S0SWejmB03LjDPkTKn7rqacuycoVtia0LSPY25kOuAcuc5DIx9//+2vhduKY0UMgJWHuxOEiu9d+/wcdBc87RmUG8juWhR64REIFpgdOd0bXumDRdKu0GgMCuXDwtd+/NpN+nmX6SdndTkIWBnnqN3qnYZK3XKLIHUGKr6fNgqh3r/72d7oaxa+XUF0s1kfPa3uSx9xHlZeBpBz01FNnZOWqBy49TUaWPzRaL73wki7d+6M1rOGemmr+w2t/0P1I3LVBQ4th1KiLFcZiWRgylHXYw5hD5KCF+0G4ufjff/d7XRURRrj+X/abX/9W1+/zXSAQHUQdjuQOdIUMv/7Vr3V/C3emUB483D/+xx91uSGX43FbdU+bAVne/e7V3+mSSe6/oU7n9jryUPmxJ/fXcGM3l21Sz3vqaSpkZW12gct/Zv8f231UtVs4lacAAAAASUVORK5CYII=)"
      ]
    },
    {
      "cell_type": "code",
      "metadata": {
        "colab": {
          "base_uri": "https://localhost:8080/"
        },
        "id": "GlwDK10DLgm4",
        "outputId": "5d8a8c1e-157c-4748-abd8-fc5345a19ea7"
      },
      "source": [
        "f"
      ],
      "execution_count": null,
      "outputs": [
        {
          "output_type": "execute_result",
          "data": {
            "text/plain": [
              "array([1, 2, 3, 4, 5, 6])"
            ]
          },
          "metadata": {
            "tags": []
          },
          "execution_count": 67
        }
      ]
    },
    {
      "cell_type": "code",
      "metadata": {
        "colab": {
          "base_uri": "https://localhost:8080/"
        },
        "id": "uvfdVzFWLmBz",
        "outputId": "b0e85e4f-860e-479f-bb55-a3f648632a70"
      },
      "source": [
        "f + 6 "
      ],
      "execution_count": null,
      "outputs": [
        {
          "output_type": "execute_result",
          "data": {
            "text/plain": [
              "array([ 7,  8,  9, 10, 11, 12])"
            ]
          },
          "metadata": {
            "tags": []
          },
          "execution_count": 68
        }
      ]
    },
    {
      "cell_type": "markdown",
      "metadata": {
        "id": "I46r1OQbLvUZ"
      },
      "source": [
        "Here the **broadcasting** happens. The *Scalar* value 6 is converted into the  *vector* form of same values.\r\n",
        "\r\n",
        "The operands could not broadcast together with different shapes like (2, 3) and (3, 3)"
      ]
    },
    {
      "cell_type": "code",
      "metadata": {
        "id": "77Ia1DMAeXyz"
      },
      "source": [
        "a1 = np.array([[1, 1], [3, 2]])"
      ],
      "execution_count": null,
      "outputs": []
    },
    {
      "cell_type": "code",
      "metadata": {
        "id": "agoNEWEgepda"
      },
      "source": [
        "a2 = np.array([[2, 3], [4, 5], [7, 8]])"
      ],
      "execution_count": null,
      "outputs": []
    },
    {
      "cell_type": "code",
      "metadata": {
        "colab": {
          "base_uri": "https://localhost:8080/"
        },
        "id": "gooEgSftey-0",
        "outputId": "a03988b3-f428-4320-cecc-47fd1146cedd"
      },
      "source": [
        "a1.shape"
      ],
      "execution_count": null,
      "outputs": [
        {
          "output_type": "execute_result",
          "data": {
            "text/plain": [
              "(2, 2)"
            ]
          },
          "metadata": {
            "tags": []
          },
          "execution_count": 72
        }
      ]
    },
    {
      "cell_type": "code",
      "metadata": {
        "colab": {
          "base_uri": "https://localhost:8080/"
        },
        "id": "K9caHT4Ve3YY",
        "outputId": "ef807a83-75c5-41ae-9f2d-bcccc830b09a"
      },
      "source": [
        "a2.shape"
      ],
      "execution_count": null,
      "outputs": [
        {
          "output_type": "execute_result",
          "data": {
            "text/plain": [
              "(3, 2)"
            ]
          },
          "metadata": {
            "tags": []
          },
          "execution_count": 73
        }
      ]
    },
    {
      "cell_type": "code",
      "metadata": {
        "colab": {
          "base_uri": "https://localhost:8080/"
        },
        "id": "5kRvd1Oflfg5",
        "outputId": "ce31eb15-147e-4ddc-b457-c09c546c0c54"
      },
      "source": [
        "a1.reshape(2, 1, 2) - a2.reshape(1, 3, 2)"
      ],
      "execution_count": null,
      "outputs": [
        {
          "output_type": "execute_result",
          "data": {
            "text/plain": [
              "array([[[-1, -2],\n",
              "        [-3, -4],\n",
              "        [-6, -7]],\n",
              "\n",
              "       [[ 1, -1],\n",
              "        [-1, -3],\n",
              "        [-4, -6]]])"
            ]
          },
          "metadata": {
            "tags": []
          },
          "execution_count": 80
        }
      ]
    },
    {
      "cell_type": "code",
      "metadata": {
        "colab": {
          "base_uri": "https://localhost:8080/"
        },
        "id": "UzMjsVp1e6i6",
        "outputId": "1351d217-fe2c-4d28-ccaf-dd3ecb863af7"
      },
      "source": [
        "a1.reshape(1, 2, 2) + a2.reshape(3, 2, 1)"
      ],
      "execution_count": null,
      "outputs": [
        {
          "output_type": "execute_result",
          "data": {
            "text/plain": [
              "array([[[ 3,  3],\n",
              "        [ 6,  5]],\n",
              "\n",
              "       [[ 5,  5],\n",
              "        [ 8,  7]],\n",
              "\n",
              "       [[ 8,  8],\n",
              "        [11, 10]]])"
            ]
          },
          "metadata": {
            "tags": []
          },
          "execution_count": 77
        }
      ]
    },
    {
      "cell_type": "markdown",
      "metadata": {
        "id": "_8cfxB6LlHvD"
      },
      "source": [
        "(1, 2, 2) where 1 is the outer most dim which has only one element in it. then the second value stores 2 array in it and it has 2 values in each array. for more info see in w3schools.com"
      ]
    },
    {
      "cell_type": "code",
      "metadata": {
        "colab": {
          "base_uri": "https://localhost:8080/"
        },
        "id": "4nPY80JqiDDz",
        "outputId": "a615915a-1ba8-4812-8e5b-3a09732cd5de"
      },
      "source": [
        "a1.reshape(1, 2, 2)"
      ],
      "execution_count": null,
      "outputs": [
        {
          "output_type": "execute_result",
          "data": {
            "text/plain": [
              "array([[[1, 1],\n",
              "        [3, 2]]])"
            ]
          },
          "metadata": {
            "tags": []
          },
          "execution_count": 78
        }
      ]
    },
    {
      "cell_type": "code",
      "metadata": {
        "colab": {
          "base_uri": "https://localhost:8080/"
        },
        "id": "4GiOWzdBkRkY",
        "outputId": "33e3062f-3515-4ee9-e538-dd6f84681680"
      },
      "source": [
        "a2.reshape(3, 2, 1)"
      ],
      "execution_count": null,
      "outputs": [
        {
          "output_type": "execute_result",
          "data": {
            "text/plain": [
              "array([[[2],\n",
              "        [3]],\n",
              "\n",
              "       [[4],\n",
              "        [5]],\n",
              "\n",
              "       [[7],\n",
              "        [8]]])"
            ]
          },
          "metadata": {
            "tags": []
          },
          "execution_count": 79
        }
      ]
    }
  ]
}